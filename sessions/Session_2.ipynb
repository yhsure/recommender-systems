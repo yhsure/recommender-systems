{
 "cells": [
  {
   "cell_type": "code",
   "execution_count": 1,
   "id": "96d45172",
   "metadata": {},
   "outputs": [],
   "source": [
    "from sklearn.metrics.pairwise import cosine_similarity, pairwise_distances\n",
    "from scipy.sparse.linalg import svds\n",
    "from surprise import Reader\n",
    "from surprise import Dataset\n",
    "import pandas as pd\n",
    "import numpy as np\n",
    "\n",
    "rs = 0\n",
    "np.random.seed(rs)"
   ]
  },
  {
   "cell_type": "markdown",
   "id": "401ce184",
   "metadata": {},
   "source": [
    "# Collaborative Filtering Recommender System\n",
    "In this lab session, we will work with the training set created last week."
   ]
  },
  {
   "cell_type": "markdown",
   "id": "316011c7",
   "metadata": {},
   "source": [
    "## Exercise 1\n",
    "In this exercise, we are going to predict the rating of a single user-item pair using a neighborhood-based method.\n",
    "### 1.1\n",
    "- Represent the ratings from the training set in a user-item matrix where the rows represent users and the columns represent items.\n",
    "- Fill unobserved ratings with $0$.\n",
    "\n",
    "Compute the cosine similarities between the user with 'reviewerID'='A25C2M3QF9G7OQ' and all users that have rated the item with 'asin'='B00EYZY6LQ'.<br>\n",
    "What are the similarities and what are the ratings given by these users on item 'B00EYZY6LQ'?"
   ]
  },
  {
   "cell_type": "code",
   "execution_count": 2,
   "id": "ahead-barrel",
   "metadata": {},
   "outputs": [],
   "source": [
    "#part 1\n",
    "# load data\n",
    "df = pd.read_pickle(\"train.pkl\")\n",
    "df = df[[\"overall\", \"reviewerID\", \"asin\"]]\n",
    "\n",
    "df_with_nans = df.pivot_table(values=\"overall\", index=\"reviewerID\", columns=\"asin\")\n",
    "df = df_with_nans.fillna(0)\n"
   ]
  },
  {
   "cell_type": "code",
   "execution_count": 3,
   "id": "rotary-geometry",
   "metadata": {},
   "outputs": [
    {
     "data": {
      "text/plain": [
       "Index(['A1F7YU6O5RU432', 'A1R1BFJCMWX0Y3', 'A1UQBFCERIP7VJ', 'A22CW0ZHY3NJH8',\n",
       "       'A2LW5AL0KQ9P1M', 'A2PD27UKAD3Q00', 'A2WW57XX2UVLM6', 'A2ZY49IDE6TY5I',\n",
       "       'A39WWMBA0299ZF', 'A3M6TSEV71537G', 'A3S3R88HA0HZG3', 'A914TQVHI872U',\n",
       "       'AOEUN9718KVRD'],\n",
       "      dtype='object', name='reviewerID')"
      ]
     },
     "execution_count": 3,
     "metadata": {},
     "output_type": "execute_result"
    }
   ],
   "source": [
    "#part 2\n",
    "#assumes no asin==\"sim\"\n",
    "uid = \"A25C2M3QF9G7OQ\"\n",
    "iid = \"B00EYZY6LQ\"\n",
    "users_rated_item = df_with_nans.T.loc[iid].dropna().index\n",
    "users_rated_item"
   ]
  },
  {
   "cell_type": "code",
   "execution_count": 4,
   "id": "derived-sympathy",
   "metadata": {},
   "outputs": [
    {
     "data": {
      "text/html": [
       "<div>\n",
       "<style scoped>\n",
       "    .dataframe tbody tr th:only-of-type {\n",
       "        vertical-align: middle;\n",
       "    }\n",
       "\n",
       "    .dataframe tbody tr th {\n",
       "        vertical-align: top;\n",
       "    }\n",
       "\n",
       "    .dataframe thead th {\n",
       "        text-align: right;\n",
       "    }\n",
       "</style>\n",
       "<table border=\"1\" class=\"dataframe\">\n",
       "  <thead>\n",
       "    <tr style=\"text-align: right;\">\n",
       "      <th>asin</th>\n",
       "      <th>B00EYZY6LQ</th>\n",
       "      <th>sim</th>\n",
       "    </tr>\n",
       "    <tr>\n",
       "      <th>reviewerID</th>\n",
       "      <th></th>\n",
       "      <th></th>\n",
       "    </tr>\n",
       "  </thead>\n",
       "  <tbody>\n",
       "    <tr>\n",
       "      <th>A1F7YU6O5RU432</th>\n",
       "      <td>5.0</td>\n",
       "      <td>0.079243</td>\n",
       "    </tr>\n",
       "    <tr>\n",
       "      <th>A1R1BFJCMWX0Y3</th>\n",
       "      <td>3.0</td>\n",
       "      <td>0.245145</td>\n",
       "    </tr>\n",
       "    <tr>\n",
       "      <th>A1UQBFCERIP7VJ</th>\n",
       "      <td>5.0</td>\n",
       "      <td>0.058634</td>\n",
       "    </tr>\n",
       "    <tr>\n",
       "      <th>A22CW0ZHY3NJH8</th>\n",
       "      <td>3.0</td>\n",
       "      <td>0.207883</td>\n",
       "    </tr>\n",
       "    <tr>\n",
       "      <th>A2LW5AL0KQ9P1M</th>\n",
       "      <td>4.0</td>\n",
       "      <td>0.275810</td>\n",
       "    </tr>\n",
       "    <tr>\n",
       "      <th>A2PD27UKAD3Q00</th>\n",
       "      <td>5.0</td>\n",
       "      <td>0.000000</td>\n",
       "    </tr>\n",
       "    <tr>\n",
       "      <th>A2WW57XX2UVLM6</th>\n",
       "      <td>4.0</td>\n",
       "      <td>0.000000</td>\n",
       "    </tr>\n",
       "    <tr>\n",
       "      <th>A2ZY49IDE6TY5I</th>\n",
       "      <td>4.0</td>\n",
       "      <td>0.682835</td>\n",
       "    </tr>\n",
       "    <tr>\n",
       "      <th>A39WWMBA0299ZF</th>\n",
       "      <td>5.0</td>\n",
       "      <td>0.000000</td>\n",
       "    </tr>\n",
       "    <tr>\n",
       "      <th>A3M6TSEV71537G</th>\n",
       "      <td>5.0</td>\n",
       "      <td>0.000000</td>\n",
       "    </tr>\n",
       "    <tr>\n",
       "      <th>A3S3R88HA0HZG3</th>\n",
       "      <td>4.0</td>\n",
       "      <td>0.000000</td>\n",
       "    </tr>\n",
       "    <tr>\n",
       "      <th>A914TQVHI872U</th>\n",
       "      <td>5.0</td>\n",
       "      <td>0.245145</td>\n",
       "    </tr>\n",
       "    <tr>\n",
       "      <th>AOEUN9718KVRD</th>\n",
       "      <td>3.0</td>\n",
       "      <td>0.105670</td>\n",
       "    </tr>\n",
       "  </tbody>\n",
       "</table>\n",
       "</div>"
      ],
      "text/plain": [
       "asin            B00EYZY6LQ       sim\n",
       "reviewerID                          \n",
       "A1F7YU6O5RU432         5.0  0.079243\n",
       "A1R1BFJCMWX0Y3         3.0  0.245145\n",
       "A1UQBFCERIP7VJ         5.0  0.058634\n",
       "A22CW0ZHY3NJH8         3.0  0.207883\n",
       "A2LW5AL0KQ9P1M         4.0  0.275810\n",
       "A2PD27UKAD3Q00         5.0  0.000000\n",
       "A2WW57XX2UVLM6         4.0  0.000000\n",
       "A2ZY49IDE6TY5I         4.0  0.682835\n",
       "A39WWMBA0299ZF         5.0  0.000000\n",
       "A3M6TSEV71537G         5.0  0.000000\n",
       "A3S3R88HA0HZG3         4.0  0.000000\n",
       "A914TQVHI872U          5.0  0.245145\n",
       "AOEUN9718KVRD          3.0  0.105670"
      ]
     },
     "execution_count": 4,
     "metadata": {},
     "output_type": "execute_result"
    }
   ],
   "source": [
    "cosine_sim = lambda X, Y: (X.T @ Y)/(np.linalg.norm(X)*np.linalg.norm(Y))\n",
    "\n",
    "user_arr = df.loc[uid]\n",
    "df2 = df.copy().drop(index=uid)\n",
    "df2[\"sim\"] = df2.apply(lambda x: cosine_sim(user_arr, x), axis=1)\n",
    "sims_on_item = df2.loc[df_with_nans.T.loc[iid].dropna().index][[iid, \"sim\"]]\n",
    "\n",
    "sims_on_item"
   ]
  },
  {
   "cell_type": "markdown",
   "id": "bfb03442",
   "metadata": {},
   "source": [
    "### 1.2\n",
    "Predict the rating for user 'A25C2M3QF9G7OQ' on item 'B00EYZY6LQ' based on the ratings from the $3$ most similar users, using a weighted (by similarity) average. What is the prediction?"
   ]
  },
  {
   "cell_type": "code",
   "execution_count": 5,
   "id": "identical-gambling",
   "metadata": {},
   "outputs": [
    {
     "data": {
      "text/html": [
       "<div>\n",
       "<style scoped>\n",
       "    .dataframe tbody tr th:only-of-type {\n",
       "        vertical-align: middle;\n",
       "    }\n",
       "\n",
       "    .dataframe tbody tr th {\n",
       "        vertical-align: top;\n",
       "    }\n",
       "\n",
       "    .dataframe thead th {\n",
       "        text-align: right;\n",
       "    }\n",
       "</style>\n",
       "<table border=\"1\" class=\"dataframe\">\n",
       "  <thead>\n",
       "    <tr style=\"text-align: right;\">\n",
       "      <th>asin</th>\n",
       "      <th>B00EYZY6LQ</th>\n",
       "      <th>sim</th>\n",
       "    </tr>\n",
       "    <tr>\n",
       "      <th>reviewerID</th>\n",
       "      <th></th>\n",
       "      <th></th>\n",
       "    </tr>\n",
       "  </thead>\n",
       "  <tbody>\n",
       "    <tr>\n",
       "      <th>A2ZY49IDE6TY5I</th>\n",
       "      <td>4.0</td>\n",
       "      <td>0.682835</td>\n",
       "    </tr>\n",
       "    <tr>\n",
       "      <th>A2LW5AL0KQ9P1M</th>\n",
       "      <td>4.0</td>\n",
       "      <td>0.275810</td>\n",
       "    </tr>\n",
       "    <tr>\n",
       "      <th>A1R1BFJCMWX0Y3</th>\n",
       "      <td>3.0</td>\n",
       "      <td>0.245145</td>\n",
       "    </tr>\n",
       "  </tbody>\n",
       "</table>\n",
       "</div>"
      ],
      "text/plain": [
       "asin            B00EYZY6LQ       sim\n",
       "reviewerID                          \n",
       "A2ZY49IDE6TY5I         4.0  0.682835\n",
       "A2LW5AL0KQ9P1M         4.0  0.275810\n",
       "A1R1BFJCMWX0Y3         3.0  0.245145"
      ]
     },
     "execution_count": 5,
     "metadata": {},
     "output_type": "execute_result"
    }
   ],
   "source": [
    "sims_on_item.nlargest(3, \"sim\")"
   ]
  },
  {
   "cell_type": "code",
   "execution_count": 6,
   "id": "immune-behavior",
   "metadata": {},
   "outputs": [
    {
     "name": "stdout",
     "output_type": "stream",
     "text": [
      "3.796355495412109\n"
     ]
    },
    {
     "data": {
      "text/html": [
       "<div>\n",
       "<style scoped>\n",
       "    .dataframe tbody tr th:only-of-type {\n",
       "        vertical-align: middle;\n",
       "    }\n",
       "\n",
       "    .dataframe tbody tr th {\n",
       "        vertical-align: top;\n",
       "    }\n",
       "\n",
       "    .dataframe thead th {\n",
       "        text-align: right;\n",
       "    }\n",
       "</style>\n",
       "<table border=\"1\" class=\"dataframe\">\n",
       "  <thead>\n",
       "    <tr style=\"text-align: right;\">\n",
       "      <th>asin</th>\n",
       "      <th>B00EYZY6LQ</th>\n",
       "      <th>sim</th>\n",
       "    </tr>\n",
       "    <tr>\n",
       "      <th>reviewerID</th>\n",
       "      <th></th>\n",
       "      <th></th>\n",
       "    </tr>\n",
       "  </thead>\n",
       "  <tbody>\n",
       "    <tr>\n",
       "      <th>A2ZY49IDE6TY5I</th>\n",
       "      <td>4.0</td>\n",
       "      <td>0.682835</td>\n",
       "    </tr>\n",
       "    <tr>\n",
       "      <th>A2LW5AL0KQ9P1M</th>\n",
       "      <td>4.0</td>\n",
       "      <td>0.275810</td>\n",
       "    </tr>\n",
       "    <tr>\n",
       "      <th>A1R1BFJCMWX0Y3</th>\n",
       "      <td>3.0</td>\n",
       "      <td>0.245145</td>\n",
       "    </tr>\n",
       "  </tbody>\n",
       "</table>\n",
       "</div>"
      ],
      "text/plain": [
       "asin            B00EYZY6LQ       sim\n",
       "reviewerID                          \n",
       "A2ZY49IDE6TY5I         4.0  0.682835\n",
       "A2LW5AL0KQ9P1M         4.0  0.275810\n",
       "A1R1BFJCMWX0Y3         3.0  0.245145"
      ]
     },
     "execution_count": 6,
     "metadata": {},
     "output_type": "execute_result"
    }
   ],
   "source": [
    "def weighted_avg(data, weights):\n",
    "    return data.T @ (weights/weights.sum())\n",
    "\n",
    "k=3\n",
    "klargest = sims_on_item.nlargest(k, \"sim\")\n",
    "\n",
    "print(weighted_avg(klargest[iid], klargest[\"sim\"]))\n",
    "klargest\n"
   ]
  },
  {
   "cell_type": "markdown",
   "id": "577f9952",
   "metadata": {},
   "source": [
    "## Exercise 2\n",
    "In this exercise, we are going to predict the rating of the same user-item pair as in exercise 1, now using a latent factor method.\n",
    "### 2.1\n",
    "- Represent the ratings from the training set in a user-item matrix where the rows represent users and the columns represent items.\n",
    "- Subtract the row mean (i.e. mean rating per user) from each non-missing element in the matrix.\n",
    "- Replace missing values with $0$.\n",
    "\n",
    "Factorize the user-item matrix by performing Singular Value Decomposition (SVD) of rank $5$ using eigendecomposition. What is ther user factors of user 'A25C2M3QF9G7OQ' and the item factors of item 'B00EYZY6LQ'?"
   ]
  },
  {
   "cell_type": "code",
   "execution_count": 7,
   "id": "d07e85d3",
   "metadata": {},
   "outputs": [
    {
     "data": {
      "text/plain": [
       "(285, 55)"
      ]
     },
     "execution_count": 7,
     "metadata": {},
     "output_type": "execute_result"
    }
   ],
   "source": [
    "means = df_with_nans.mean(1, skipna=True)\n",
    "df2   = df_with_nans.sub(means, axis=0).fillna(0)\n",
    "\n",
    "u = df2.index.get_loc(uid)\n",
    "v = df2.columns.get_loc(iid)\n",
    "u,v"
   ]
  },
  {
   "cell_type": "code",
   "execution_count": 8,
   "id": "3401efa6",
   "metadata": {},
   "outputs": [
    {
     "data": {
      "text/plain": [
       "(array([ 0.56741882, -0.11720887,  0.41310006,  0.66515646, -0.2784688 ]),\n",
       " array([-0.05629871, -0.03083716, -0.02149093,  0.04057112, -0.15355926]))"
      ]
     },
     "execution_count": 8,
     "metadata": {},
     "output_type": "execute_result"
    }
   ],
   "source": [
    "Q, sigma, P = svds(df2, k=5)\n",
    "\n",
    "S = np.diag(sigma)\n",
    "\n",
    "Q.shape, P.shape\n",
    "(Q@S)[u], P[:,v]"
   ]
  },
  {
   "cell_type": "markdown",
   "id": "00127877",
   "metadata": {},
   "source": [
    "### 2.2\n",
    "Predict the rating for user 'A25C2M3QF9G7OQ' on item 'B00EYZY6LQ' by taking the dot product between the user factors and item factors and adding back the mean rating of this user. What is the prediction?"
   ]
  },
  {
   "cell_type": "code",
   "execution_count": 9,
   "id": "b9cbe201",
   "metadata": {},
   "outputs": [
    {
     "data": {
      "text/plain": [
       "4.432539143272558"
      ]
     },
     "execution_count": 9,
     "metadata": {},
     "output_type": "execute_result"
    }
   ],
   "source": [
    "np.dot((Q@S)[u], P[:,v]) + means.loc[uid]"
   ]
  },
  {
   "cell_type": "markdown",
   "id": "da25f02d",
   "metadata": {},
   "source": [
    "## Exercise 3\n",
    "### 3.1\n",
    "Define a user-based neighborhood model that takes into account the mean rating of each user.<br>\n",
    "Use cosine as similarity measure and try to vary the (maximum) number of neighbors to take into account when predicting ratings. Keep Scikit-Surprise's default setting for all other parameters. <br>\n",
    "Is it better to use $1$ or $10$ neighbors? You should determine this based on the Root Mean Square Error (RMSE) over 3-fold cross-validation."
   ]
  },
  {
   "cell_type": "code",
   "execution_count": 10,
   "id": "b9978f44",
   "metadata": {},
   "outputs": [],
   "source": [
    "from surprise.model_selection.validation import cross_validate\n",
    "from surprise import SVD\n",
    "from surprise import KNNWithMeans\n",
    "\n",
    "df = pd.read_pickle(\"train.pkl\")\n",
    "reader = Reader(rating_scale=(1, 5))\n",
    "training = Dataset.load_from_df(df[['reviewerID', 'asin', 'overall']], reader)\n",
    "\n",
    "sim_options = {'name': 'cosine',\n",
    "               'user_based': True}"
   ]
  },
  {
   "cell_type": "code",
   "execution_count": 11,
   "id": "indie-ultimate",
   "metadata": {},
   "outputs": [
    {
     "name": "stdout",
     "output_type": "stream",
     "text": [
      "Computing the cosine similarity matrix...\n",
      "Done computing similarity matrix.\n",
      "Computing the cosine similarity matrix...\n",
      "Done computing similarity matrix.\n",
      "Computing the cosine similarity matrix...\n",
      "Done computing similarity matrix.\n",
      "Evaluating RMSE of algorithm KNNWithMeans on 3 split(s).\n",
      "\n",
      "                  Fold 1  Fold 2  Fold 3  Mean    Std     \n",
      "RMSE (testset)    0.4791  0.4883  0.4143  0.4606  0.0329  \n",
      "Fit time          0.18    0.18    0.19    0.18    0.00    \n",
      "Test time         0.06    0.06    0.06    0.06    0.00    \n"
     ]
    },
    {
     "data": {
      "text/plain": [
       "{'test_rmse': array([0.47907267, 0.48833888, 0.41433844]),\n",
       " 'fit_time': (0.18406248092651367, 0.18215107917785645, 0.18586325645446777),\n",
       " 'test_time': (0.0573573112487793, 0.05948829650878906, 0.05942893028259277)}"
      ]
     },
     "execution_count": 11,
     "metadata": {},
     "output_type": "execute_result"
    }
   ],
   "source": [
    "# Run 5-fold cross-validation and print results.\n",
    "cross_validate(KNNWithMeans(k=1, sim_options=sim_options), training, measures=['RMSE'], cv=3, verbose=True)"
   ]
  },
  {
   "cell_type": "code",
   "execution_count": 12,
   "id": "confident-california",
   "metadata": {
    "scrolled": true
   },
   "outputs": [
    {
     "name": "stdout",
     "output_type": "stream",
     "text": [
      "Computing the cosine similarity matrix...\n",
      "Done computing similarity matrix.\n",
      "Computing the cosine similarity matrix...\n",
      "Done computing similarity matrix.\n",
      "Computing the cosine similarity matrix...\n",
      "Done computing similarity matrix.\n",
      "Evaluating RMSE of algorithm KNNWithMeans on 3 split(s).\n",
      "\n",
      "                  Fold 1  Fold 2  Fold 3  Mean    Std     \n",
      "RMSE (testset)    0.4255  0.3983  0.4582  0.4273  0.0245  \n",
      "Fit time          0.18    0.18    0.18    0.18    0.00    \n",
      "Test time         0.07    0.07    0.07    0.07    0.00    \n"
     ]
    },
    {
     "data": {
      "text/plain": [
       "{'test_rmse': array([0.42550478, 0.39834346, 0.45819149]),\n",
       " 'fit_time': (0.18379926681518555, 0.18081903457641602, 0.1838397979736328),\n",
       " 'test_time': (0.0724344253540039, 0.06842947006225586, 0.06854462623596191)}"
      ]
     },
     "execution_count": 12,
     "metadata": {},
     "output_type": "execute_result"
    }
   ],
   "source": [
    "cross_validate(KNNWithMeans(k=10, sim_options=sim_options), training, measures=['RMSE'], cv=3, verbose=True)"
   ]
  },
  {
   "cell_type": "code",
   "execution_count": 13,
   "id": "hungry-bronze",
   "metadata": {},
   "outputs": [],
   "source": [
    "# param_grid = {'n_epochs': [5, 10], 'lr_all': [0.002, 0.005],\n",
    "#               'reg_all': [0.4, 0.6]}\n",
    "# gs = GridSearchCV(SVD, param_grid, measures=['rmse', 'mae'], cv=3)\n",
    "# gs.fit(data)\n",
    "# print(gs.best_score['rmse']) # best RMSE score\n",
    "# print(gs.best_params['rmse'])# combination of parameters that gave the best RMSE score\n"
   ]
  },
  {
   "cell_type": "markdown",
   "id": "c6ddd1ca",
   "metadata": {},
   "source": [
    "### 3.2\n",
    "Fit the neigborhood-based model defined in exercise 3.1 on the full training set with cosine as similarity measure and either $1$ or $10$ neighbors based on what you found to be better in exercise 3.1. Keep Scikit-Surprise's default setting for all other parameters, but set the random state to $0$ for comparable results. <br>\n",
    "Use the model to predict the unobserved ratings for the users in the training set. How many predictions are there and what is the average of all the predictions?"
   ]
  },
  {
   "cell_type": "code",
   "execution_count": 14,
   "id": "herbal-climb",
   "metadata": {},
   "outputs": [
    {
     "name": "stdout",
     "output_type": "stream",
     "text": [
      "Computing the cosine similarity matrix...\n",
      "Done computing similarity matrix.\n"
     ]
    },
    {
     "data": {
      "text/plain": [
       "(72404, 4.673826534498951)"
      ]
     },
     "execution_count": 14,
     "metadata": {},
     "output_type": "execute_result"
    }
   ],
   "source": [
    "trainset = training.build_full_trainset()\n",
    "test = trainset.build_anti_testset()\n",
    "\n",
    "knn = KNNWithMeans(k=10, sim_options=sim_options, random_state=rs).fit(trainset)\n",
    "\n",
    "preds = pd.DataFrame(knn.test(test, verbose=False))\n",
    "len(preds), preds[\"est\"].mean()"
   ]
  },
  {
   "cell_type": "markdown",
   "id": "07095616",
   "metadata": {},
   "source": [
    "## Exercise 4\n",
    "### 4.1\n",
    "Define an SVD model with user and item biases that uses Stochastic Gradient Descend (SGD) to estimate the low-rank matrix based on only observed ratings. <br>\n",
    "Set the number of latent factors to $30$ and try to iterate the SGD procedure for different number of epochs. Keep Scikit-Surprise's default setting for all other parameters. <br>\n",
    "Is it better to run for $100$ or $500$ epochs? You should determine this based on the RMSE over 3-fold cross-validation."
   ]
  },
  {
   "cell_type": "code",
   "execution_count": 15,
   "id": "a462135a",
   "metadata": {},
   "outputs": [
    {
     "name": "stdout",
     "output_type": "stream",
     "text": [
      "Evaluating RMSE of algorithm SVD on 3 split(s).\n",
      "\n",
      "                  Fold 1  Fold 2  Fold 3  Mean    Std     \n",
      "RMSE (testset)    0.4072  0.3750  0.3810  0.3877  0.0140  \n",
      "Fit time          0.16    0.15    0.15    0.16    0.00    \n",
      "Test time         0.00    0.00    0.00    0.00    0.00    \n"
     ]
    },
    {
     "data": {
      "text/plain": [
       "{'test_rmse': array([0.40717683, 0.37499726, 0.38104081]),\n",
       " 'fit_time': (0.15732884407043457, 0.15442371368408203, 0.1543729305267334),\n",
       " 'test_time': (0.0029897689819335938,\n",
       "  0.00398707389831543,\n",
       "  0.003987550735473633)}"
      ]
     },
     "execution_count": 15,
     "metadata": {},
     "output_type": "execute_result"
    }
   ],
   "source": [
    "cross_validate(SVD(n_factors=30, n_epochs=100), training, measures=['RMSE'], cv=3, verbose=True)\n"
   ]
  },
  {
   "cell_type": "code",
   "execution_count": 16,
   "id": "fallen-moses",
   "metadata": {},
   "outputs": [
    {
     "name": "stdout",
     "output_type": "stream",
     "text": [
      "Evaluating RMSE of algorithm SVD on 3 split(s).\n",
      "\n",
      "                  Fold 1  Fold 2  Fold 3  Mean    Std     \n",
      "RMSE (testset)    0.3696  0.3589  0.3454  0.3580  0.0099  \n",
      "Fit time          0.77    0.77    0.78    0.77    0.00    \n",
      "Test time         0.00    0.00    0.00    0.00    0.00    \n"
     ]
    },
    {
     "data": {
      "text/plain": [
       "{'test_rmse': array([0.36963083, 0.35892489, 0.34541165]),\n",
       " 'fit_time': (0.771923303604126, 0.7666869163513184, 0.7769966125488281),\n",
       " 'test_time': (0.0040912628173828125,\n",
       "  0.00410008430480957,\n",
       "  0.0029892921447753906)}"
      ]
     },
     "execution_count": 16,
     "metadata": {},
     "output_type": "execute_result"
    }
   ],
   "source": [
    "cross_validate(SVD(n_factors=30, n_epochs=500), training, measures=['RMSE'], cv=3, verbose=True)\n"
   ]
  },
  {
   "cell_type": "markdown",
   "id": "1d77c229",
   "metadata": {},
   "source": [
    "### 4.2\n",
    "Fit the latent factor model defined in exercise 4.1 on the full training set with $30$ latent factors and run for either $100$ or $500$ epochs based on what you found to be better in exercise 4.1. Keep Scikit-Surprise's default setting for all other parameters, but set the random state to $0$ for comparable results.<br>\n",
    "Use the model to predict the unobserved ratings for the users in the training set. How many predictions are there and what is the average of all the predictions?"
   ]
  },
  {
   "cell_type": "code",
   "execution_count": 17,
   "id": "0f80d44c",
   "metadata": {},
   "outputs": [
    {
     "data": {
      "text/plain": [
       "(72404, 4.512605750450481)"
      ]
     },
     "execution_count": 17,
     "metadata": {},
     "output_type": "execute_result"
    }
   ],
   "source": [
    "svd = SVD(n_factors=30, n_epochs=500, random_state=0).fit(trainset)\n",
    "preds2 = pd.DataFrame(svd.test(test, verbose=False))\n",
    "len(preds2), preds2[\"est\"].mean()"
   ]
  },
  {
   "cell_type": "markdown",
   "id": "4553a4dc",
   "metadata": {},
   "source": [
    "# Write data"
   ]
  },
  {
   "cell_type": "code",
   "execution_count": 18,
   "id": "42fb5dac",
   "metadata": {},
   "outputs": [],
   "source": [
    "df_test = pd.read_pickle(\"test.pkl\")\n",
    "dft = Dataset.load_from_df(df_test[['reviewerID', 'asin', 'overall']], reader)\n",
    "dft = dft.build_full_trainset()\n",
    "dft = dft.build_testset()"
   ]
  },
  {
   "cell_type": "code",
   "execution_count": 19,
   "id": "b06a6d36",
   "metadata": {},
   "outputs": [],
   "source": [
    "# preds1 = pd.DataFrame(knn.test(dft))\n",
    "# preds2 = pd.DataFrame(svd.test(dft))\n"
   ]
  },
  {
   "cell_type": "code",
   "execution_count": 20,
   "id": "10a15546",
   "metadata": {},
   "outputs": [],
   "source": [
    "testset = pd.DataFrame(df_test)\n",
    "testset = testset.rename(columns={0: \"reviewerID\", 1: \"asin\", 2: \"overall\"})\n",
    "\n",
    "testset.to_pickle(\"testset.pkl\")\n",
    "preds.to_pickle(\"preds1.pkl\")\n",
    "preds2.to_pickle(\"preds2.pkl\")"
   ]
  },
  {
   "cell_type": "code",
   "execution_count": null,
   "id": "sunrise-infrared",
   "metadata": {},
   "outputs": [],
   "source": []
  }
 ],
 "metadata": {
  "kernelspec": {
   "display_name": "Python 3",
   "language": "python",
   "name": "python3"
  },
  "language_info": {
   "codemirror_mode": {
    "name": "ipython",
    "version": 3
   },
   "file_extension": ".py",
   "mimetype": "text/x-python",
   "name": "python",
   "nbconvert_exporter": "python",
   "pygments_lexer": "ipython3",
   "version": "3.8.7"
  }
 },
 "nbformat": 4,
 "nbformat_minor": 5
}
