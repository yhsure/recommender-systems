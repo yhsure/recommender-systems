{
 "cells": [
  {
   "cell_type": "code",
   "execution_count": 69,
   "metadata": {},
   "outputs": [],
   "source": [
    "import json\n",
    "import pandas as pd\n",
    "import gzip\n",
    "import numpy as np\n",
    "import matplotlib.pyplot as plt"
   ]
  },
  {
   "cell_type": "markdown",
   "metadata": {},
   "source": [
    "# Familiarize Yourself with the Dataset\n",
    "In the lab sessions, we will work with the \"All Beauty\" category of the Amazon Review Data, and we will use the 5-core subset. You can download the dataset and find information about it here: https://nijianmo.github.io/amazon/index.html"
   ]
  },
  {
   "cell_type": "markdown",
   "metadata": {},
   "source": [
    "## Exercise 1\n",
    "Download and import the 5-core dataset."
   ]
  },
  {
   "cell_type": "code",
   "execution_count": 87,
   "metadata": {},
   "outputs": [
    {
     "data": {
      "text/html": [
       "<div>\n",
       "<style scoped>\n",
       "    .dataframe tbody tr th:only-of-type {\n",
       "        vertical-align: middle;\n",
       "    }\n",
       "\n",
       "    .dataframe tbody tr th {\n",
       "        vertical-align: top;\n",
       "    }\n",
       "\n",
       "    .dataframe thead th {\n",
       "        text-align: right;\n",
       "    }\n",
       "</style>\n",
       "<table border=\"1\" class=\"dataframe\">\n",
       "  <thead>\n",
       "    <tr style=\"text-align: right;\">\n",
       "      <th></th>\n",
       "      <th>overall</th>\n",
       "      <th>verified</th>\n",
       "      <th>reviewTime</th>\n",
       "      <th>reviewerID</th>\n",
       "      <th>asin</th>\n",
       "      <th>style</th>\n",
       "      <th>reviewerName</th>\n",
       "      <th>reviewText</th>\n",
       "      <th>summary</th>\n",
       "      <th>unixReviewTime</th>\n",
       "      <th>vote</th>\n",
       "      <th>image</th>\n",
       "    </tr>\n",
       "  </thead>\n",
       "  <tbody>\n",
       "    <tr>\n",
       "      <th>0</th>\n",
       "      <td>5.0</td>\n",
       "      <td>True</td>\n",
       "      <td>09 1, 2016</td>\n",
       "      <td>A3CIUOJXQ5VDQ2</td>\n",
       "      <td>B0000530HU</td>\n",
       "      <td>{'Size:': ' 7.0 oz', 'Flavor:': ' Classic Ice ...</td>\n",
       "      <td>Shelly F</td>\n",
       "      <td>As advertised. Reasonably priced</td>\n",
       "      <td>Five Stars</td>\n",
       "      <td>1472688000</td>\n",
       "      <td>NaN</td>\n",
       "      <td>NaN</td>\n",
       "    </tr>\n",
       "    <tr>\n",
       "      <th>1</th>\n",
       "      <td>5.0</td>\n",
       "      <td>True</td>\n",
       "      <td>11 14, 2013</td>\n",
       "      <td>A3H7T87S984REU</td>\n",
       "      <td>B0000530HU</td>\n",
       "      <td>{'Size:': ' 7.0 oz', 'Flavor:': ' Classic Ice ...</td>\n",
       "      <td>houserules18</td>\n",
       "      <td>Like the oder and the feel when I put it on my...</td>\n",
       "      <td>Good for the face</td>\n",
       "      <td>1384387200</td>\n",
       "      <td>NaN</td>\n",
       "      <td>NaN</td>\n",
       "    </tr>\n",
       "    <tr>\n",
       "      <th>2</th>\n",
       "      <td>1.0</td>\n",
       "      <td>True</td>\n",
       "      <td>08 18, 2013</td>\n",
       "      <td>A3J034YH7UG4KT</td>\n",
       "      <td>B0000530HU</td>\n",
       "      <td>{'Size:': ' 7.0 oz', 'Flavor:': ' Classic Ice ...</td>\n",
       "      <td>Adam</td>\n",
       "      <td>I bought this to smell nice after I shave.  Wh...</td>\n",
       "      <td>Smells awful</td>\n",
       "      <td>1376784000</td>\n",
       "      <td>NaN</td>\n",
       "      <td>NaN</td>\n",
       "    </tr>\n",
       "    <tr>\n",
       "      <th>3</th>\n",
       "      <td>5.0</td>\n",
       "      <td>False</td>\n",
       "      <td>05 3, 2011</td>\n",
       "      <td>A2UEO5XR3598GI</td>\n",
       "      <td>B0000530HU</td>\n",
       "      <td>{'Size:': ' 7.0 oz', 'Flavor:': ' Classic Ice ...</td>\n",
       "      <td>Rich K</td>\n",
       "      <td>HEY!! I am an Aqua Velva Man and absolutely lo...</td>\n",
       "      <td>Truth is There IS Nothing Like an AQUA VELVA MAN.</td>\n",
       "      <td>1304380800</td>\n",
       "      <td>25</td>\n",
       "      <td>NaN</td>\n",
       "    </tr>\n",
       "    <tr>\n",
       "      <th>4</th>\n",
       "      <td>5.0</td>\n",
       "      <td>True</td>\n",
       "      <td>05 6, 2011</td>\n",
       "      <td>A3SFRT223XXWF7</td>\n",
       "      <td>B00006L9LC</td>\n",
       "      <td>{'Size:': ' 200ml/6.7oz'}</td>\n",
       "      <td>C. C. Christian</td>\n",
       "      <td>If you ever want to feel pampered by a shampoo...</td>\n",
       "      <td>Bvlgari Shampoo</td>\n",
       "      <td>1304640000</td>\n",
       "      <td>3</td>\n",
       "      <td>NaN</td>\n",
       "    </tr>\n",
       "    <tr>\n",
       "      <th>...</th>\n",
       "      <td>...</td>\n",
       "      <td>...</td>\n",
       "      <td>...</td>\n",
       "      <td>...</td>\n",
       "      <td>...</td>\n",
       "      <td>...</td>\n",
       "      <td>...</td>\n",
       "      <td>...</td>\n",
       "      <td>...</td>\n",
       "      <td>...</td>\n",
       "      <td>...</td>\n",
       "      <td>...</td>\n",
       "    </tr>\n",
       "    <tr>\n",
       "      <th>5264</th>\n",
       "      <td>5.0</td>\n",
       "      <td>True</td>\n",
       "      <td>08 23, 2018</td>\n",
       "      <td>AUX122XW8ONG6</td>\n",
       "      <td>B01DLR9IDI</td>\n",
       "      <td>{'Design:': ' ETA-C6B5F7C374'}</td>\n",
       "      <td>Amzon Customer</td>\n",
       "      <td>I have genetic undereye darkness. Ive accepted...</td>\n",
       "      <td>Pretty Sweet!!!</td>\n",
       "      <td>1534982400</td>\n",
       "      <td>2</td>\n",
       "      <td>NaN</td>\n",
       "    </tr>\n",
       "    <tr>\n",
       "      <th>5265</th>\n",
       "      <td>5.0</td>\n",
       "      <td>True</td>\n",
       "      <td>08 23, 2018</td>\n",
       "      <td>AUX122XW8ONG6</td>\n",
       "      <td>B01DLR9IDI</td>\n",
       "      <td>{'Design:': ' ETA-7117EE3788'}</td>\n",
       "      <td>Amzon Customer</td>\n",
       "      <td>I absolutely love this eye gel.</td>\n",
       "      <td>As advertised</td>\n",
       "      <td>1534982400</td>\n",
       "      <td>NaN</td>\n",
       "      <td>NaN</td>\n",
       "    </tr>\n",
       "    <tr>\n",
       "      <th>5266</th>\n",
       "      <td>5.0</td>\n",
       "      <td>True</td>\n",
       "      <td>08 23, 2018</td>\n",
       "      <td>AUX122XW8ONG6</td>\n",
       "      <td>B01DLR9IDI</td>\n",
       "      <td>{'Design:': ' ETA-BF66BD2F87'}</td>\n",
       "      <td>Amzon Customer</td>\n",
       "      <td>The eye gel is easy to apply and I use it morn...</td>\n",
       "      <td>I'm very happy with</td>\n",
       "      <td>1534982400</td>\n",
       "      <td>NaN</td>\n",
       "      <td>NaN</td>\n",
       "    </tr>\n",
       "    <tr>\n",
       "      <th>5267</th>\n",
       "      <td>5.0</td>\n",
       "      <td>True</td>\n",
       "      <td>08 23, 2018</td>\n",
       "      <td>AUX122XW8ONG6</td>\n",
       "      <td>B01DLR9IDI</td>\n",
       "      <td>{'Design:': ' ETA-03868FCB34'}</td>\n",
       "      <td>Amzon Customer</td>\n",
       "      <td>Ok this eye gel is good stuff.</td>\n",
       "      <td>Does it's thing!</td>\n",
       "      <td>1534982400</td>\n",
       "      <td>NaN</td>\n",
       "      <td>NaN</td>\n",
       "    </tr>\n",
       "    <tr>\n",
       "      <th>5268</th>\n",
       "      <td>5.0</td>\n",
       "      <td>True</td>\n",
       "      <td>08 23, 2018</td>\n",
       "      <td>AUX122XW8ONG6</td>\n",
       "      <td>B01DLR9IDI</td>\n",
       "      <td>{'Design:': ' ETA-C4893097E9'}</td>\n",
       "      <td>Amzon Customer</td>\n",
       "      <td>This is the first eye gel/cream that actually ...</td>\n",
       "      <td>Happy</td>\n",
       "      <td>1534982400</td>\n",
       "      <td>NaN</td>\n",
       "      <td>NaN</td>\n",
       "    </tr>\n",
       "  </tbody>\n",
       "</table>\n",
       "<p>5269 rows × 12 columns</p>\n",
       "</div>"
      ],
      "text/plain": [
       "      overall  verified   reviewTime      reviewerID        asin  \\\n",
       "0         5.0      True   09 1, 2016  A3CIUOJXQ5VDQ2  B0000530HU   \n",
       "1         5.0      True  11 14, 2013  A3H7T87S984REU  B0000530HU   \n",
       "2         1.0      True  08 18, 2013  A3J034YH7UG4KT  B0000530HU   \n",
       "3         5.0     False   05 3, 2011  A2UEO5XR3598GI  B0000530HU   \n",
       "4         5.0      True   05 6, 2011  A3SFRT223XXWF7  B00006L9LC   \n",
       "...       ...       ...          ...             ...         ...   \n",
       "5264      5.0      True  08 23, 2018   AUX122XW8ONG6  B01DLR9IDI   \n",
       "5265      5.0      True  08 23, 2018   AUX122XW8ONG6  B01DLR9IDI   \n",
       "5266      5.0      True  08 23, 2018   AUX122XW8ONG6  B01DLR9IDI   \n",
       "5267      5.0      True  08 23, 2018   AUX122XW8ONG6  B01DLR9IDI   \n",
       "5268      5.0      True  08 23, 2018   AUX122XW8ONG6  B01DLR9IDI   \n",
       "\n",
       "                                                  style     reviewerName  \\\n",
       "0     {'Size:': ' 7.0 oz', 'Flavor:': ' Classic Ice ...         Shelly F   \n",
       "1     {'Size:': ' 7.0 oz', 'Flavor:': ' Classic Ice ...     houserules18   \n",
       "2     {'Size:': ' 7.0 oz', 'Flavor:': ' Classic Ice ...             Adam   \n",
       "3     {'Size:': ' 7.0 oz', 'Flavor:': ' Classic Ice ...           Rich K   \n",
       "4                             {'Size:': ' 200ml/6.7oz'}  C. C. Christian   \n",
       "...                                                 ...              ...   \n",
       "5264                     {'Design:': ' ETA-C6B5F7C374'}   Amzon Customer   \n",
       "5265                     {'Design:': ' ETA-7117EE3788'}   Amzon Customer   \n",
       "5266                     {'Design:': ' ETA-BF66BD2F87'}   Amzon Customer   \n",
       "5267                     {'Design:': ' ETA-03868FCB34'}   Amzon Customer   \n",
       "5268                     {'Design:': ' ETA-C4893097E9'}   Amzon Customer   \n",
       "\n",
       "                                             reviewText  \\\n",
       "0                      As advertised. Reasonably priced   \n",
       "1     Like the oder and the feel when I put it on my...   \n",
       "2     I bought this to smell nice after I shave.  Wh...   \n",
       "3     HEY!! I am an Aqua Velva Man and absolutely lo...   \n",
       "4     If you ever want to feel pampered by a shampoo...   \n",
       "...                                                 ...   \n",
       "5264  I have genetic undereye darkness. Ive accepted...   \n",
       "5265                    I absolutely love this eye gel.   \n",
       "5266  The eye gel is easy to apply and I use it morn...   \n",
       "5267                     Ok this eye gel is good stuff.   \n",
       "5268  This is the first eye gel/cream that actually ...   \n",
       "\n",
       "                                                summary  unixReviewTime vote  \\\n",
       "0                                            Five Stars      1472688000  NaN   \n",
       "1                                     Good for the face      1384387200  NaN   \n",
       "2                                          Smells awful      1376784000  NaN   \n",
       "3     Truth is There IS Nothing Like an AQUA VELVA MAN.      1304380800   25   \n",
       "4                                       Bvlgari Shampoo      1304640000    3   \n",
       "...                                                 ...             ...  ...   \n",
       "5264                                    Pretty Sweet!!!      1534982400    2   \n",
       "5265                                      As advertised      1534982400  NaN   \n",
       "5266                                I'm very happy with      1534982400  NaN   \n",
       "5267                                   Does it's thing!      1534982400  NaN   \n",
       "5268                                              Happy      1534982400  NaN   \n",
       "\n",
       "     image  \n",
       "0      NaN  \n",
       "1      NaN  \n",
       "2      NaN  \n",
       "3      NaN  \n",
       "4      NaN  \n",
       "...    ...  \n",
       "5264   NaN  \n",
       "5265   NaN  \n",
       "5266   NaN  \n",
       "5267   NaN  \n",
       "5268   NaN  \n",
       "\n",
       "[5269 rows x 12 columns]"
      ]
     },
     "execution_count": 87,
     "metadata": {},
     "output_type": "execute_result"
    }
   ],
   "source": [
    "def parse(path):\n",
    "    g = gzip.open(path, 'rb')\n",
    "    for l in g:\n",
    "        yield json.loads(l)\n",
    "\n",
    "def getDF(path):\n",
    "    i = 0\n",
    "    df = {}\n",
    "    for d in parse(path):\n",
    "        df[i] = d\n",
    "        i += 1\n",
    "    return pd.DataFrame.from_dict(df, orient='index')\n",
    "\n",
    "df = getDF('All_Beauty_5.json.gz')\n",
    "df"
   ]
  },
  {
   "cell_type": "markdown",
   "metadata": {},
   "source": [
    "## Exercise 2\n",
    "Clean the dataset from missing ratings and duplicates (cases where the same user has rated the same item multiple times) if any. How many observations does the cleaned dataset have?"
   ]
  },
  {
   "cell_type": "code",
   "execution_count": 88,
   "metadata": {},
   "outputs": [
    {
     "data": {
      "text/plain": [
       "4092"
      ]
     },
     "execution_count": 88,
     "metadata": {},
     "output_type": "execute_result"
    }
   ],
   "source": [
    "df = df.dropna(subset=\"overall\")\n",
    "df = df.sort_values(\"unixReviewTime\").drop_duplicates(subset=[\"reviewerID\", \"asin\"], keep=\"last\")\n",
    "len(df)"
   ]
  },
  {
   "cell_type": "markdown",
   "metadata": {},
   "source": [
    "## Exercise 3\n",
    "Create a test set by extracting the latest (in time) positively rated item (rating $\\geq 4$) by each user. Remove users that do not appear in the training set. How many observations does the training and test set have?"
   ]
  },
  {
   "cell_type": "code",
   "execution_count": 89,
   "metadata": {},
   "outputs": [
    {
     "data": {
      "text/plain": [
       "959"
      ]
     },
     "execution_count": 89,
     "metadata": {},
     "output_type": "execute_result"
    }
   ],
   "source": [
    "test = df[df[\"overall\"] >= 4].sort_values(\"unixReviewTime\").drop_duplicates(subset=[\"reviewerID\"], keep=\"last\")\n",
    "len(test)"
   ]
  },
  {
   "cell_type": "code",
   "execution_count": 90,
   "metadata": {},
   "outputs": [
    {
     "data": {
      "text/plain": [
       "(3133, 949)"
      ]
     },
     "execution_count": 90,
     "metadata": {},
     "output_type": "execute_result"
    }
   ],
   "source": [
    "train = df.drop(labels=test.index)\n",
    "test = test.loc[test[\"reviewerID\"].isin(train[\"reviewerID\"])]\n",
    "len(train), len(test)"
   ]
  },
  {
   "cell_type": "code",
   "execution_count": 91,
   "metadata": {},
   "outputs": [],
   "source": [
    "train.to_pickle(\"train.pkl\")\n",
    "test.to_pickle(\"test.pkl\")"
   ]
  },
  {
   "cell_type": "markdown",
   "metadata": {},
   "source": [
    "## Exercise 4\n",
    "### 4.1\n",
    "Compute the number of ratings per user in the training set. What is the summary statistics of the number of ratings, and how does a histogram look like? <br>\n",
    "Reflect on how a collaborative filtering and a content-based recommender system, respectively, will perform for users with few ratings."
   ]
  },
  {
   "cell_type": "code",
   "execution_count": 92,
   "metadata": {},
   "outputs": [
    {
     "data": {
      "text/plain": [
       "count    981.000000\n",
       "mean       3.193680\n",
       "std        0.610454\n",
       "min        1.000000\n",
       "25%        3.000000\n",
       "50%        3.000000\n",
       "75%        3.000000\n",
       "max        9.000000\n",
       "dtype: float64"
      ]
     },
     "execution_count": 92,
     "metadata": {},
     "output_type": "execute_result"
    },
    {
     "data": {
      "image/png": "[encoded data removed]",
      "text/plain": [
       "<Figure size 432x288 with 1 Axes>"
      ]
     },
     "metadata": {
      "needs_background": "light"
     },
     "output_type": "display_data"
    }
   ],
   "source": [
    "sizes = train.groupby(by=\"reviewerID\").size()\n",
    "plt.hist(sizes); sizes.describe()"
   ]
  },
  {
   "cell_type": "markdown",
   "metadata": {},
   "source": [
    "### 4.2\n",
    "Compute the number of ratings per item in the training set. How does a barplot of the number of ratings ordered by decreasing frequency look like? <br>\n",
    "Reflect on how it will affect the prediction process of a recommender system if only a small fraction of the items are rated frequently. <br>\n",
    "<br>\n",
    "Repeat this exercise on the test set and reflect on how the evaluation of a recommender system can be affected by popular items."
   ]
  },
  {
   "cell_type": "code",
   "execution_count": 93,
   "metadata": {},
   "outputs": [
    {
     "data": {
      "text/plain": [
       "40.688311688311686"
      ]
     },
     "execution_count": 93,
     "metadata": {},
     "output_type": "execute_result"
    },
    {
     "data": {
      "image/png": "[encoded data removed]",
      "text/plain": [
       "<Figure size 432x288 with 1 Axes>"
      ]
     },
     "metadata": {
      "needs_background": "light"
     },
     "output_type": "display_data"
    }
   ],
   "source": [
    "sizes = train.groupby(by=\"asin\").size()\n",
    "plt.bar(np.arange(len(sizes)), np.sort(sizes)[::-1]); sizes.mean()"
   ]
  },
  {
   "cell_type": "code",
   "execution_count": 94,
   "metadata": {},
   "outputs": [
    {
     "data": {
      "text/plain": [
       "19.367346938775512"
      ]
     },
     "execution_count": 94,
     "metadata": {},
     "output_type": "execute_result"
    },
    {
     "data": {
      "image/png": "[encoded data removed]",
      "text/plain": [
       "<Figure size 432x288 with 1 Axes>"
      ]
     },
     "metadata": {
      "needs_background": "light"
     },
     "output_type": "display_data"
    }
   ],
   "source": [
    "sizes = test.groupby(by=\"asin\").size()\n",
    "plt.bar(np.arange(len(sizes)), np.sort(sizes)[::-1]); sizes.mean()"
   ]
  },
  {
   "cell_type": "markdown",
   "metadata": {},
   "source": [
    "### 4.3\n",
    "Compute the mean rating per user in the training set. What is the summary statistics of the rating means, and how does a histogram look like? <br>\n",
    "Reflect on how a recommender system can take into account if different users rate on different \"scales\" (e.i. a rating of $3$ may be high for one user while low for another).<br>\n",
    "<br>\n",
    "Repeat this exercise with mean rating per item."
   ]
  },
  {
   "cell_type": "code",
   "execution_count": 95,
   "metadata": {},
   "outputs": [
    {
     "data": {
      "text/plain": [
       "count    981.000000\n",
       "mean       4.766820\n",
       "std        0.721806\n",
       "min        1.000000\n",
       "25%        5.000000\n",
       "50%        5.000000\n",
       "75%        5.000000\n",
       "max        5.000000\n",
       "Name: overall, dtype: float64"
      ]
     },
     "execution_count": 95,
     "metadata": {},
     "output_type": "execute_result"
    },
    {
     "data": {
      "image/png": "[encoded data removed]",
      "text/plain": [
       "<Figure size 432x288 with 1 Axes>"
      ]
     },
     "metadata": {
      "needs_background": "light"
     },
     "output_type": "display_data"
    }
   ],
   "source": [
    "ratings = train.groupby(by=[\"reviewerID\"])[\"overall\"].mean()\n",
    "plt.hist(ratings)\n",
    "ratings.describe()"
   ]
  },
  {
   "cell_type": "code",
   "execution_count": 96,
   "metadata": {},
   "outputs": [
    {
     "data": {
      "text/plain": [
       "array(['B0002JHI1I', 'B000FOI48G', 'B000GLRREU', 'B000LIBUBY',\n",
       "       'B000V5Z4J6', 'B000PKKAGO', 'B007V6JNE0', 'B0017TZD7S',\n",
       "       'B000FI4S1E', 'B0009RF9DW', 'B001F51RAG', 'B001OHV1H4',\n",
       "       'B00006L9LC', 'B0012Y0ZG2', 'B019809F9Y', 'B0013NB7DW',\n",
       "       'B000FTYALG', 'B004CALFE4', 'B00112DRHY', 'B0014SQQ3M',\n",
       "       'B000W0C07Y', 'B000X2FPXC', 'B000URXP6E', 'B00DY59MB6',\n",
       "       'B016V8YWBC', 'B001QY8QXM', 'B000NKJIXM', 'B0000530HU',\n",
       "       'B002RZZXYE', 'B00021DJ32', 'B00CZH3K1C', 'B008YQM4A6',\n",
       "       'B00AKP21KM', 'B0006O10P4', 'B006WYJM8Y', 'B00EF1QRMU',\n",
       "       'B000YB70PS', 'B00155Z6V2', 'B007R6UXNY', 'B00EYZY6LQ',\n",
       "       'B00L1I1VMG', 'B00HLXEXDO', 'B00CQ0LN80', 'B00W259T7G',\n",
       "       'B00B9V9ASM', 'B006IB5T4W', 'B00NT0AR7E', 'B00MTR49IG',\n",
       "       'B00N2WQ2IW', 'B0012XPRO8', 'B000VV1YOY', 'B00UWB35UY',\n",
       "       'B00JF2GVWK', 'B00RZYW4RG', 'B00IJHY54S', 'B00VARTPKS',\n",
       "       'B00BSE3III', 'B004KEJ65C', 'B019LAI4HU', 'B00157OBRU',\n",
       "       'B00VG1AV5Q', 'B00GHJOM2U', 'B00QXW95Q4', 'B000WR2HB6',\n",
       "       'B019V2KYZS', 'B01BNEYGQU', 'B001ET7FZE', 'B0011FYB5I',\n",
       "       'B000X7ST9Y', 'B00126LYJM', 'B00B7V273E', 'B001E96LUO',\n",
       "       'B01E7UKR38', 'B001LNODUS', 'B019FWRG3C', 'B002GP80EU',\n",
       "       'B0010ZBORW'], dtype=object)"
      ]
     },
     "execution_count": 96,
     "metadata": {},
     "output_type": "execute_result"
    }
   ],
   "source": [
    "train[\"asin\"].unique()"
   ]
  },
  {
   "cell_type": "code",
   "execution_count": 97,
   "metadata": {},
   "outputs": [
    {
     "data": {
      "text/plain": [
       "count    77.000000\n",
       "mean      4.262368\n",
       "std       0.890506\n",
       "min       1.000000\n",
       "25%       3.931034\n",
       "50%       4.542857\n",
       "75%       5.000000\n",
       "max       5.000000\n",
       "Name: overall, dtype: float64"
      ]
     },
     "execution_count": 97,
     "metadata": {},
     "output_type": "execute_result"
    },
    {
     "data": {
      "image/png": "[encoded data removed]",
      "text/plain": [
       "<Figure size 432x288 with 1 Axes>"
      ]
     },
     "metadata": {
      "needs_background": "light"
     },
     "output_type": "display_data"
    }
   ],
   "source": [
    "ratings = train.groupby(by=[\"asin\"])[\"overall\"].mean()\n",
    "plt.hist(ratings); ratings.describe()"
   ]
  },
  {
   "cell_type": "code",
   "execution_count": null,
   "metadata": {},
   "outputs": [],
   "source": []
  },
  {
   "cell_type": "code",
   "execution_count": null,
   "metadata": {},
   "outputs": [],
   "source": []
  },
  {
   "cell_type": "code",
   "execution_count": null,
   "metadata": {},
   "outputs": [],
   "source": []
  },
  {
   "cell_type": "code",
   "execution_count": null,
   "metadata": {},
   "outputs": [],
   "source": []
  }
 ],
 "metadata": {
  "kernelspec": {
   "display_name": "Python 3",
   "language": "python",
   "name": "python3"
  },
  "language_info": {
   "codemirror_mode": {
    "name": "ipython",
    "version": 3
   },
   "file_extension": ".py",
   "mimetype": "text/x-python",
   "name": "python",
   "nbconvert_exporter": "python",
   "pygments_lexer": "ipython3",
   "version": "3.8.7"
  }
 },
 "nbformat": 4,
 "nbformat_minor": 2
}
