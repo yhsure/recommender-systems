{
 "cells": [
  {
   "cell_type": "markdown",
   "metadata": {
    "id": "8uZ3Rb6JRfF3"
   },
   "source": [
    "# Text Representation"
   ]
  },
  {
   "cell_type": "markdown",
   "metadata": {
    "id": "1s5yo2Dqjqef"
   },
   "source": [
    "Please, note that this notebook is intended to be run in Google Colab."
   ]
  },
  {
   "cell_type": "code",
   "execution_count": 1,
   "metadata": {
    "colab": {
     "base_uri": "https://localhost:8080/"
    },
    "executionInfo": {
     "elapsed": 27384,
     "status": "ok",
     "timestamp": 1646991245298,
     "user": {
      "displayName": "nd d",
      "photoUrl": "https://lh3.googleusercontent.com/a/default-user=s64",
      "userId": "10402811649730711830"
     },
     "user_tz": -60
    },
    "id": "dkMH-1WClvTd",
    "outputId": "0267122b-6723-4fdb-bc5c-2aad1271ddb3"
   },
   "outputs": [],
   "source": [
    "train_file ='train.pkl'\n",
    "test_file = 'test.pkl'\n",
    "meta_file = 'meta_All_Beauty.json.gz'"
   ]
  },
  {
   "cell_type": "markdown",
   "metadata": {
    "id": "XIYb2Pxi6_Ie"
   },
   "source": [
    "# Exercise 1\n",
    "\n",
    "Load the [metadata file](https://nijianmo.github.io/amazon/index.html) and discard any item that was not rated by our subset of users (nor in training or test sets). Apply preprocessing (stemming and stopwords removal) to clean up the text from the \"title\". Report the vocabulary size before and after the preprocessing."
   ]
  },
  {
   "cell_type": "code",
   "execution_count": 2,
   "metadata": {},
   "outputs": [
    {
     "name": "stdout",
     "output_type": "stream",
     "text": [
      "Before dropping dups: 32892\n",
      "After: 32488\n"
     ]
    }
   ],
   "source": [
    "import gzip\n",
    "import os\n",
    "import sys\n",
    "sys.path.append('../')\n",
    "import pickle\n",
    "import pandas as pd\n",
    "import json\n",
    "import numpy as np\n",
    "\n",
    "def parse(path):\n",
    "    g = gzip.open(path, 'rb')\n",
    "    for l in g:\n",
    "        yield json.loads(l)\n",
    "\n",
    "def getDF(path):\n",
    "    i = 0\n",
    "    df = {}\n",
    "    for d in parse(path):\n",
    "        df[i] = d\n",
    "        i += 1\n",
    "    return pd.DataFrame.from_dict(df, orient='index')\n",
    "\n",
    "\n",
    "train = pd.read_pickle(\"train.pkl\")\n",
    "test = pd.read_pickle(\"test.pkl\")\n",
    "\n",
    "\n",
    "meta = getDF(meta_file)\n",
    "print(\"Before dropping dups:\", len(meta))\n",
    "meta = meta.drop_duplicates([\"asin\"], keep=\"last\")\n",
    "print(\"After:\", len(meta))\n"
   ]
  },
  {
   "cell_type": "code",
   "execution_count": 3,
   "metadata": {
    "colab": {
     "base_uri": "https://localhost:8080/"
    },
    "executionInfo": {
     "elapsed": 20,
     "status": "ok",
     "timestamp": 1646991258888,
     "user": {
      "displayName": "nd d",
      "photoUrl": "https://lh3.googleusercontent.com/a/default-user=s64",
      "userId": "10402811649730711830"
     },
     "user_tz": -60
    },
    "id": "RAlxFFO8KzwF",
    "outputId": "ee2ac727-d10d-4a46-d451-20665cfcad82"
   },
   "outputs": [
    {
     "data": {
      "text/plain": [
       "(84, 84)"
      ]
     },
     "execution_count": 3,
     "metadata": {},
     "output_type": "execute_result"
    }
   ],
   "source": [
    "allowed_asins = np.unique(np.array([*train.asin.to_list(), *test.asin.to_list()]))\n",
    "meta = meta[meta[\"asin\"].isin(allowed_asins)].reset_index(drop=True)\n",
    "\n",
    "len(allowed_asins), len(meta)"
   ]
  },
  {
   "cell_type": "code",
   "execution_count": 4,
   "metadata": {
    "colab": {
     "base_uri": "https://localhost:8080/"
    },
    "executionInfo": {
     "elapsed": 1164,
     "status": "ok",
     "timestamp": 1646991260046,
     "user": {
      "displayName": "nd d",
      "photoUrl": "https://lh3.googleusercontent.com/a/default-user=s64",
      "userId": "10402811649730711830"
     },
     "user_tz": -60
    },
    "id": "Rd0RbH-k9y1H",
    "outputId": "b1500f94-152d-495d-ffc1-7f8683ae21a5"
   },
   "outputs": [
    {
     "name": "stderr",
     "output_type": "stream",
     "text": [
      "[nltk_data] Downloading package punkt to\n",
      "[nltk_data]     C:\\Users\\ayaya\\AppData\\Roaming\\nltk_data...\n",
      "[nltk_data]   Package punkt is already up-to-date!\n",
      "[nltk_data] Downloading package stopwords to\n",
      "[nltk_data]     C:\\Users\\ayaya\\AppData\\Roaming\\nltk_data...\n",
      "[nltk_data]   Package stopwords is already up-to-date!\n"
     ]
    }
   ],
   "source": [
    "import nltk\n",
    "nltk.download('punkt')\n",
    "nltk.download('stopwords')\n",
    "\n",
    "from nltk.corpus import stopwords\n",
    "from nltk.stem import PorterStemmer\n",
    "from nltk.tokenize import sent_tokenize, word_tokenize\n",
    "from nltk.tokenize.treebank import TreebankWordDetokenizer\n"
   ]
  },
  {
   "cell_type": "code",
   "execution_count": 5,
   "metadata": {
    "colab": {
     "base_uri": "https://localhost:8080/"
    },
    "executionInfo": {
     "elapsed": 622,
     "status": "ok",
     "timestamp": 1646991268082,
     "user": {
      "displayName": "nd d",
      "photoUrl": "https://lh3.googleusercontent.com/a/default-user=s64",
      "userId": "10402811649730711830"
     },
     "user_tz": -60
    },
    "id": "hfwp5TMmOE5B",
    "outputId": "79cb90c4-262a-4b94-9571-978d0eee8d2f"
   },
   "outputs": [
    {
     "data": {
      "text/plain": [
       "0                aqua velva shave classic ice blue ounc\n",
       "1                citr shine moistur burst shampoo fl oz\n",
       "2                                   nar blush taj mahal\n",
       "3        avalon organ wrinkl therapi coq cleans milk oz\n",
       "4                          zum zum bar anis lavend ounc\n",
       "                            ...                        \n",
       "79                     ultim bodi lotion michael kor oz\n",
       "80                     dolc gabbana compact parfum ounc\n",
       "81    colgat kid maximum caviti protect pump toothpa...\n",
       "82    bali secret natur deodor organ vegan women men...\n",
       "83                          essi gel coutur nail polish\n",
       "Name: words, Length: 84, dtype: object"
      ]
     },
     "execution_count": 5,
     "metadata": {},
     "output_type": "execute_result"
    }
   ],
   "source": [
    "from bs4 import BeautifulSoup\n",
    "import re\n",
    "# https://stackoverflow.com/questions/45670532/stemming-words-with-nltk-python \n",
    "\n",
    "\n",
    "def cleanWords(x, stemmer=PorterStemmer()):\n",
    "    txt = BeautifulSoup(x).get_text()              #remove html\n",
    "    letters = re.sub(\"[^a-z]\", \" \", txt.lower())   #lowercase and only letters\n",
    "    words   = word_tokenize(letters)               #tokenize\n",
    "    stops = set(stopwords.words(\"english\"))        #define stopwords \n",
    "    meaningful_words = [w for w in words if not w in stops] \n",
    "\n",
    "    return ' '.join([stemmer.stem(w) for w in meaningful_words]) #combine\n",
    "\n",
    "df = meta.copy()\n",
    "df[\"words\"] = df[\"title\"].apply(lambda x: cleanWords(x))\n",
    "\n",
    "df[\"words\"]"
   ]
  },
  {
   "cell_type": "code",
   "execution_count": 21,
   "metadata": {
    "colab": {
     "base_uri": "https://localhost:8080/"
    },
    "executionInfo": {
     "elapsed": 8,
     "status": "ok",
     "timestamp": 1646991269520,
     "user": {
      "displayName": "nd d",
      "photoUrl": "https://lh3.googleusercontent.com/a/default-user=s64",
      "userId": "10402811649730711830"
     },
     "user_tz": -60
    },
    "id": "YRI-6NAMYNmS",
    "outputId": "a405e699-c344-42d3-f13b-ce22960cf341"
   },
   "outputs": [
    {
     "data": {
      "text/plain": [
       "401"
      ]
     },
     "execution_count": 21,
     "metadata": {},
     "output_type": "execute_result"
    }
   ],
   "source": [
    "# unique words in vocab (includes 1-letter stems)\n",
    "len(set(' '.join(df[\"words\"]).split(' ')))"
   ]
  },
  {
   "cell_type": "markdown",
   "metadata": {
    "id": "Blr1jgoHLbFU"
   },
   "source": [
    "# Exercise 2\n",
    "\n",
    "Representation in vector spaces.\n",
    "\n",
    "## 2.1\n",
    "\n",
    "Represent all the products from Exercise 1 in a TF-IDF space. Interpret the meaning of the TF-IDF matrix dimensions.\n",
    "\n",
    "Tip: You may use the library [scikit-learn](https://scikit-learn.org/stable/modules/generated/sklearn.feature_extraction.text.TfidfVectorizer.html) "
   ]
  },
  {
   "cell_type": "code",
   "execution_count": 25,
   "metadata": {},
   "outputs": [
    {
     "data": {
      "text/plain": [
       "(394,)"
      ]
     },
     "execution_count": 25,
     "metadata": {},
     "output_type": "execute_result"
    }
   ],
   "source": [
    "tfidf_vectorizer = TfidfVectorizer()\n",
    "X = tfidf_vectorizer.fit_transform(df[\"words\"].tolist())\n",
    "tfidf_vectorizer.get_feature_names_out().shape"
   ]
  },
  {
   "cell_type": "code",
   "execution_count": 30,
   "metadata": {
    "colab": {
     "base_uri": "https://localhost:8080/"
    },
    "executionInfo": {
     "elapsed": 946,
     "status": "ok",
     "timestamp": 1646992313559,
     "user": {
      "displayName": "nd d",
      "photoUrl": "https://lh3.googleusercontent.com/a/default-user=s64",
      "userId": "10402811649730711830"
     },
     "user_tz": -60
    },
    "id": "vDndolvDLznV",
    "outputId": "d9424cb9-62eb-4fe9-d4d2-bc45e3491ae9"
   },
   "outputs": [
    {
     "data": {
      "text/plain": [
       "((84, 394),\n",
       " array([[0., 0., 0., ..., 0., 0., 0.],\n",
       "        [0., 0., 0., ..., 0., 0., 0.],\n",
       "        [0., 0., 0., ..., 0., 0., 0.],\n",
       "        ...,\n",
       "        [0., 0., 0., ..., 0., 0., 0.],\n",
       "        [0., 0., 0., ..., 0., 0., 0.],\n",
       "        [0., 0., 0., ..., 0., 0., 0.]]),\n",
       " (394,))"
      ]
     },
     "execution_count": 30,
     "metadata": {},
     "output_type": "execute_result"
    }
   ],
   "source": [
    "from sklearn.feature_extraction.text import TfidfVectorizer\n",
    "\n",
    "tfidf_vectorizer = TfidfVectorizer()\n",
    "tfidf_vectorizer.fit(df[\"words\"])\n",
    "tfidf = tfidf_vectorizer.fit_transform(df[\"words\"])\n",
    "arr = tfidf.toarray()\n",
    "\n",
    "arr.shape, arr, tfidf_vectorizer.get_feature_names_out().shape"
   ]
  },
  {
   "cell_type": "code",
   "execution_count": 70,
   "metadata": {
    "executionInfo": {
     "elapsed": 616,
     "status": "ok",
     "timestamp": 1646995005875,
     "user": {
      "displayName": "nd d",
      "photoUrl": "https://lh3.googleusercontent.com/a/default-user=s64",
      "userId": "10402811649730711830"
     },
     "user_tz": -60
    },
    "id": "GKByt5kehXBd"
   },
   "outputs": [],
   "source": [
    "dfwrite = pd.concat([df[\"asin\"],pd.DataFrame(arr)],axis=1)\n",
    "dfwrite.to_pickle(p+\"asin_tfidf.pkl\")"
   ]
  },
  {
   "cell_type": "code",
   "execution_count": 58,
   "metadata": {
    "executionInfo": {
     "elapsed": 606,
     "status": "ok",
     "timestamp": 1646993436702,
     "user": {
      "displayName": "nd d",
      "photoUrl": "https://lh3.googleusercontent.com/a/default-user=s64",
      "userId": "10402811649730711830"
     },
     "user_tz": -60
    },
    "id": "QuhJzzcMbp7_"
   },
   "outputs": [],
   "source": [
    "# with open(p+\"tfidf\", 'wb') as f:\n",
    "#     np.save(f, arr)\n",
    "# testset.to_pickle(\"testset.pkl\")\n",
    "# arr.to_pickle(\"tfidf.pkl\")\n",
    "# df.to_pickle(\"text_representation.pkl\")"
   ]
  },
  {
   "cell_type": "code",
   "execution_count": 10,
   "metadata": {
    "colab": {
     "base_uri": "https://localhost:8080/",
     "height": 532
    },
    "executionInfo": {
     "elapsed": 541,
     "status": "ok",
     "timestamp": 1646991288483,
     "user": {
      "displayName": "nd d",
      "photoUrl": "https://lh3.googleusercontent.com/a/default-user=s64",
      "userId": "10402811649730711830"
     },
     "user_tz": -60
    },
    "id": "e3BrWSidvJPP",
    "outputId": "9d874095-a678-4ccd-ba35-4776708adc9c"
   },
   "outputs": [
    {
     "data": {
      "text/html": [
       "\n",
       "  <div id=\"df-e1fe238b-b7f2-4b12-bb81-0ada6038ebd4\">\n",
       "    <div class=\"colab-df-container\">\n",
       "      <div>\n",
       "<style scoped>\n",
       "    .dataframe tbody tr th:only-of-type {\n",
       "        vertical-align: middle;\n",
       "    }\n",
       "\n",
       "    .dataframe tbody tr th {\n",
       "        vertical-align: top;\n",
       "    }\n",
       "\n",
       "    .dataframe thead th {\n",
       "        text-align: right;\n",
       "    }\n",
       "</style>\n",
       "<table border=\"1\" class=\"dataframe\">\n",
       "  <thead>\n",
       "    <tr style=\"text-align: right;\">\n",
       "      <th></th>\n",
       "      <th>category</th>\n",
       "      <th>tech1</th>\n",
       "      <th>description</th>\n",
       "      <th>fit</th>\n",
       "      <th>title</th>\n",
       "      <th>also_buy</th>\n",
       "      <th>tech2</th>\n",
       "      <th>brand</th>\n",
       "      <th>feature</th>\n",
       "      <th>rank</th>\n",
       "      <th>...</th>\n",
       "      <th>details</th>\n",
       "      <th>main_cat</th>\n",
       "      <th>similar_item</th>\n",
       "      <th>date</th>\n",
       "      <th>price</th>\n",
       "      <th>asin</th>\n",
       "      <th>imageURL</th>\n",
       "      <th>imageURLHighRes</th>\n",
       "      <th>words</th>\n",
       "      <th>tfidf</th>\n",
       "    </tr>\n",
       "  </thead>\n",
       "  <tbody>\n",
       "    <tr>\n",
       "      <th>6</th>\n",
       "      <td>[]</td>\n",
       "      <td></td>\n",
       "      <td>[Fruits &amp;amp; Passion SOLSTIS Refreshing Showe...</td>\n",
       "      <td></td>\n",
       "      <td>Fruits &amp;amp; Passion Blue Refreshing Shower Ge...</td>\n",
       "      <td>[]</td>\n",
       "      <td></td>\n",
       "      <td>Fruits &amp; Passion</td>\n",
       "      <td>[]</td>\n",
       "      <td>2,539,624 in Beauty &amp; Personal Care (</td>\n",
       "      <td>...</td>\n",
       "      <td>{'Shipping Weight:': '8 ounces', 'ASIN: ': 'B0...</td>\n",
       "      <td>All Beauty</td>\n",
       "      <td></td>\n",
       "      <td></td>\n",
       "      <td></td>\n",
       "      <td>B000FI4S1E</td>\n",
       "      <td>[]</td>\n",
       "      <td>[]</td>\n",
       "      <td>fruit passion blue refresh shower gel 6 7 fl oz</td>\n",
       "      <td>[0.0, 0.20874267904919294, 0.0, 0.0, 0.0, 0.0,...</td>\n",
       "    </tr>\n",
       "    <tr>\n",
       "      <th>10</th>\n",
       "      <td>[]</td>\n",
       "      <td></td>\n",
       "      <td>[&lt;li&gt;A brilliant effervescent fragrance for yo...</td>\n",
       "      <td></td>\n",
       "      <td>Fresh Eau de Parfum, Sugar Lemon, 3.4 oz</td>\n",
       "      <td>[]</td>\n",
       "      <td></td>\n",
       "      <td>Fresh</td>\n",
       "      <td>[]</td>\n",
       "      <td>572,901 in Beauty &amp; Personal Care (</td>\n",
       "      <td>...</td>\n",
       "      <td>{'\n",
       "    Item Weight: \n",
       "    ': '3.36 ounces', 'Sh...</td>\n",
       "      <td>All Beauty</td>\n",
       "      <td></td>\n",
       "      <td></td>\n",
       "      <td>$99.25</td>\n",
       "      <td>B000LIBUBY</td>\n",
       "      <td>[]</td>\n",
       "      <td>[]</td>\n",
       "      <td>fresh eau de parfum sugar lemon 3 4 oz</td>\n",
       "      <td>[0.0, 0.0, 0.0, 0.0, 0.0, 0.0, 0.0, 0.0, 0.0, ...</td>\n",
       "    </tr>\n",
       "    <tr>\n",
       "      <th>17</th>\n",
       "      <td>[]</td>\n",
       "      <td></td>\n",
       "      <td>[, For Women]</td>\n",
       "      <td></td>\n",
       "      <td>Sex In The City Kiss by Instyle Parfums Eau De...</td>\n",
       "      <td>[]</td>\n",
       "      <td></td>\n",
       "      <td>Instyle Parfums</td>\n",
       "      <td>[]</td>\n",
       "      <td>616,259 in Beauty &amp; Personal Care (</td>\n",
       "      <td>...</td>\n",
       "      <td>{'\n",
       "    Item Weight: \n",
       "    ': '0.8 ounces', 'Shi...</td>\n",
       "      <td>All Beauty</td>\n",
       "      <td></td>\n",
       "      <td></td>\n",
       "      <td></td>\n",
       "      <td>B000W0C07Y</td>\n",
       "      <td>[]</td>\n",
       "      <td>[]</td>\n",
       "      <td>sex citi kiss instyl parfum eau de parfum spra...</td>\n",
       "      <td>[0.0, 0.0, 0.0, 0.0, 0.0, 0.0, 0.0, 0.0, 0.0, ...</td>\n",
       "    </tr>\n",
       "  </tbody>\n",
       "</table>\n",
       "<p>3 rows × 21 columns</p>\n",
       "</div>\n",
       "      <button class=\"colab-df-convert\" onclick=\"convertToInteractive('df-e1fe238b-b7f2-4b12-bb81-0ada6038ebd4')\"\n",
       "              title=\"Convert this dataframe to an interactive table.\"\n",
       "              style=\"display:none;\">\n",
       "        \n",
       "  <svg xmlns=\"http://www.w3.org/2000/svg\" height=\"24px\"viewBox=\"0 0 24 24\"\n",
       "       width=\"24px\">\n",
       "    <path d=\"M0 0h24v24H0V0z\" fill=\"none\"/>\n",
       "    <path d=\"M18.56 5.44l.94 2.06.94-2.06 2.06-.94-2.06-.94-.94-2.06-.94 2.06-2.06.94zm-11 1L8.5 8.5l.94-2.06 2.06-.94-2.06-.94L8.5 2.5l-.94 2.06-2.06.94zm10 10l.94 2.06.94-2.06 2.06-.94-2.06-.94-.94-2.06-.94 2.06-2.06.94z\"/><path d=\"M17.41 7.96l-1.37-1.37c-.4-.4-.92-.59-1.43-.59-.52 0-1.04.2-1.43.59L10.3 9.45l-7.72 7.72c-.78.78-.78 2.05 0 2.83L4 21.41c.39.39.9.59 1.41.59.51 0 1.02-.2 1.41-.59l7.78-7.78 2.81-2.81c.8-.78.8-2.07 0-2.86zM5.41 20L4 18.59l7.72-7.72 1.47 1.35L5.41 20z\"/>\n",
       "  </svg>\n",
       "      </button>\n",
       "      \n",
       "  <style>\n",
       "    .colab-df-container {\n",
       "      display:flex;\n",
       "      flex-wrap:wrap;\n",
       "      gap: 12px;\n",
       "    }\n",
       "\n",
       "    .colab-df-convert {\n",
       "      background-color: #E8F0FE;\n",
       "      border: none;\n",
       "      border-radius: 50%;\n",
       "      cursor: pointer;\n",
       "      display: none;\n",
       "      fill: #1967D2;\n",
       "      height: 32px;\n",
       "      padding: 0 0 0 0;\n",
       "      width: 32px;\n",
       "    }\n",
       "\n",
       "    .colab-df-convert:hover {\n",
       "      background-color: #E2EBFA;\n",
       "      box-shadow: 0px 1px 2px rgba(60, 64, 67, 0.3), 0px 1px 3px 1px rgba(60, 64, 67, 0.15);\n",
       "      fill: #174EA6;\n",
       "    }\n",
       "\n",
       "    [theme=dark] .colab-df-convert {\n",
       "      background-color: #3B4455;\n",
       "      fill: #D2E3FC;\n",
       "    }\n",
       "\n",
       "    [theme=dark] .colab-df-convert:hover {\n",
       "      background-color: #434B5C;\n",
       "      box-shadow: 0px 1px 3px 1px rgba(0, 0, 0, 0.15);\n",
       "      filter: drop-shadow(0px 1px 2px rgba(0, 0, 0, 0.3));\n",
       "      fill: #FFFFFF;\n",
       "    }\n",
       "  </style>\n",
       "\n",
       "      <script>\n",
       "        const buttonEl =\n",
       "          document.querySelector('#df-e1fe238b-b7f2-4b12-bb81-0ada6038ebd4 button.colab-df-convert');\n",
       "        buttonEl.style.display =\n",
       "          google.colab.kernel.accessAllowed ? 'block' : 'none';\n",
       "\n",
       "        async function convertToInteractive(key) {\n",
       "          const element = document.querySelector('#df-e1fe238b-b7f2-4b12-bb81-0ada6038ebd4');\n",
       "          const dataTable =\n",
       "            await google.colab.kernel.invokeFunction('convertToInteractive',\n",
       "                                                     [key], {});\n",
       "          if (!dataTable) return;\n",
       "\n",
       "          const docLinkHtml = 'Like what you see? Visit the ' +\n",
       "            '<a target=\"_blank\" href=https://colab.research.google.com/notebooks/data_table.ipynb>data table notebook</a>'\n",
       "            + ' to learn more about interactive tables.';\n",
       "          element.innerHTML = '';\n",
       "          dataTable['output_type'] = 'display_data';\n",
       "          await google.colab.output.renderOutput(dataTable, element);\n",
       "          const docLink = document.createElement('div');\n",
       "          docLink.innerHTML = docLinkHtml;\n",
       "          element.appendChild(docLink);\n",
       "        }\n",
       "      </script>\n",
       "    </div>\n",
       "  </div>\n",
       "  "
      ],
      "text/plain": [
       "   category tech1                                        description fit  \\\n",
       "6        []        [Fruits &amp; Passion SOLSTIS Refreshing Showe...       \n",
       "10       []        [<li>A brilliant effervescent fragrance for yo...       \n",
       "17       []                                            [, For Women]       \n",
       "\n",
       "                                                title also_buy tech2  \\\n",
       "6   Fruits &amp; Passion Blue Refreshing Shower Ge...       []         \n",
       "10           Fresh Eau de Parfum, Sugar Lemon, 3.4 oz       []         \n",
       "17  Sex In The City Kiss by Instyle Parfums Eau De...       []         \n",
       "\n",
       "               brand feature                                   rank  ...  \\\n",
       "6   Fruits & Passion      []  2,539,624 in Beauty & Personal Care (  ...   \n",
       "10             Fresh      []    572,901 in Beauty & Personal Care (  ...   \n",
       "17   Instyle Parfums      []    616,259 in Beauty & Personal Care (  ...   \n",
       "\n",
       "                                              details    main_cat  \\\n",
       "6   {'Shipping Weight:': '8 ounces', 'ASIN: ': 'B0...  All Beauty   \n",
       "10  {'\n",
       "    Item Weight: \n",
       "    ': '3.36 ounces', 'Sh...  All Beauty   \n",
       "17  {'\n",
       "    Item Weight: \n",
       "    ': '0.8 ounces', 'Shi...  All Beauty   \n",
       "\n",
       "   similar_item date   price        asin imageURL imageURLHighRes  \\\n",
       "6                             B000FI4S1E       []              []   \n",
       "10                    $99.25  B000LIBUBY       []              []   \n",
       "17                            B000W0C07Y       []              []   \n",
       "\n",
       "                                                words  \\\n",
       "6     fruit passion blue refresh shower gel 6 7 fl oz   \n",
       "10             fresh eau de parfum sugar lemon 3 4 oz   \n",
       "17  sex citi kiss instyl parfum eau de parfum spra...   \n",
       "\n",
       "                                                tfidf  \n",
       "6   [0.0, 0.20874267904919294, 0.0, 0.0, 0.0, 0.0,...  \n",
       "10  [0.0, 0.0, 0.0, 0.0, 0.0, 0.0, 0.0, 0.0, 0.0, ...  \n",
       "17  [0.0, 0.0, 0.0, 0.0, 0.0, 0.0, 0.0, 0.0, 0.0, ...  \n",
       "\n",
       "[3 rows x 21 columns]"
      ]
     },
     "execution_count": 10,
     "metadata": {},
     "output_type": "execute_result"
    }
   ],
   "source": [
    "ids = df.where(df[\"asin\"].isin([\"B000FI4S1E\", \"B000LIBUBY\", \"B000W0C07Y\"])).dropna()\n",
    "ids#, arr[ids]"
   ]
  },
  {
   "cell_type": "code",
   "execution_count": 30,
   "metadata": {
    "colab": {
     "base_uri": "https://localhost:8080/",
     "height": 143
    },
    "executionInfo": {
     "elapsed": 579,
     "status": "ok",
     "timestamp": 1646991999630,
     "user": {
      "displayName": "nd d",
      "photoUrl": "https://lh3.googleusercontent.com/a/default-user=s64",
      "userId": "10402811649730711830"
     },
     "user_tz": -60
    },
    "id": "BqMU5oj_upaH",
    "outputId": "01881c97-580c-4474-fe1e-26d9b9b76a73"
   },
   "outputs": [
    {
     "data": {
      "text/html": [
       "\n",
       "  <div id=\"df-7f357491-cdaf-4809-87b5-71118ba16d95\">\n",
       "    <div class=\"colab-df-container\">\n",
       "      <div>\n",
       "<style scoped>\n",
       "    .dataframe tbody tr th:only-of-type {\n",
       "        vertical-align: middle;\n",
       "    }\n",
       "\n",
       "    .dataframe tbody tr th {\n",
       "        vertical-align: top;\n",
       "    }\n",
       "\n",
       "    .dataframe thead th {\n",
       "        text-align: right;\n",
       "    }\n",
       "</style>\n",
       "<table border=\"1\" class=\"dataframe\">\n",
       "  <thead>\n",
       "    <tr style=\"text-align: right;\">\n",
       "      <th></th>\n",
       "      <th>asin</th>\n",
       "      <th>tfidf</th>\n",
       "    </tr>\n",
       "  </thead>\n",
       "  <tbody>\n",
       "    <tr>\n",
       "      <th>6</th>\n",
       "      <td>B000FI4S1E</td>\n",
       "      <td>[0.0, 0.20874267904919294, 0.0, 0.0, 0.0, 0.0,...</td>\n",
       "    </tr>\n",
       "    <tr>\n",
       "      <th>10</th>\n",
       "      <td>B000LIBUBY</td>\n",
       "      <td>[0.0, 0.0, 0.0, 0.0, 0.0, 0.0, 0.0, 0.0, 0.0, ...</td>\n",
       "    </tr>\n",
       "    <tr>\n",
       "      <th>17</th>\n",
       "      <td>B000W0C07Y</td>\n",
       "      <td>[0.0, 0.0, 0.0, 0.0, 0.0, 0.0, 0.0, 0.0, 0.0, ...</td>\n",
       "    </tr>\n",
       "  </tbody>\n",
       "</table>\n",
       "</div>\n",
       "      <button class=\"colab-df-convert\" onclick=\"convertToInteractive('df-7f357491-cdaf-4809-87b5-71118ba16d95')\"\n",
       "              title=\"Convert this dataframe to an interactive table.\"\n",
       "              style=\"display:none;\">\n",
       "        \n",
       "  <svg xmlns=\"http://www.w3.org/2000/svg\" height=\"24px\"viewBox=\"0 0 24 24\"\n",
       "       width=\"24px\">\n",
       "    <path d=\"M0 0h24v24H0V0z\" fill=\"none\"/>\n",
       "    <path d=\"M18.56 5.44l.94 2.06.94-2.06 2.06-.94-2.06-.94-.94-2.06-.94 2.06-2.06.94zm-11 1L8.5 8.5l.94-2.06 2.06-.94-2.06-.94L8.5 2.5l-.94 2.06-2.06.94zm10 10l.94 2.06.94-2.06 2.06-.94-2.06-.94-.94-2.06-.94 2.06-2.06.94z\"/><path d=\"M17.41 7.96l-1.37-1.37c-.4-.4-.92-.59-1.43-.59-.52 0-1.04.2-1.43.59L10.3 9.45l-7.72 7.72c-.78.78-.78 2.05 0 2.83L4 21.41c.39.39.9.59 1.41.59.51 0 1.02-.2 1.41-.59l7.78-7.78 2.81-2.81c.8-.78.8-2.07 0-2.86zM5.41 20L4 18.59l7.72-7.72 1.47 1.35L5.41 20z\"/>\n",
       "  </svg>\n",
       "      </button>\n",
       "      \n",
       "  <style>\n",
       "    .colab-df-container {\n",
       "      display:flex;\n",
       "      flex-wrap:wrap;\n",
       "      gap: 12px;\n",
       "    }\n",
       "\n",
       "    .colab-df-convert {\n",
       "      background-color: #E8F0FE;\n",
       "      border: none;\n",
       "      border-radius: 50%;\n",
       "      cursor: pointer;\n",
       "      display: none;\n",
       "      fill: #1967D2;\n",
       "      height: 32px;\n",
       "      padding: 0 0 0 0;\n",
       "      width: 32px;\n",
       "    }\n",
       "\n",
       "    .colab-df-convert:hover {\n",
       "      background-color: #E2EBFA;\n",
       "      box-shadow: 0px 1px 2px rgba(60, 64, 67, 0.3), 0px 1px 3px 1px rgba(60, 64, 67, 0.15);\n",
       "      fill: #174EA6;\n",
       "    }\n",
       "\n",
       "    [theme=dark] .colab-df-convert {\n",
       "      background-color: #3B4455;\n",
       "      fill: #D2E3FC;\n",
       "    }\n",
       "\n",
       "    [theme=dark] .colab-df-convert:hover {\n",
       "      background-color: #434B5C;\n",
       "      box-shadow: 0px 1px 3px 1px rgba(0, 0, 0, 0.15);\n",
       "      filter: drop-shadow(0px 1px 2px rgba(0, 0, 0, 0.3));\n",
       "      fill: #FFFFFF;\n",
       "    }\n",
       "  </style>\n",
       "\n",
       "      <script>\n",
       "        const buttonEl =\n",
       "          document.querySelector('#df-7f357491-cdaf-4809-87b5-71118ba16d95 button.colab-df-convert');\n",
       "        buttonEl.style.display =\n",
       "          google.colab.kernel.accessAllowed ? 'block' : 'none';\n",
       "\n",
       "        async function convertToInteractive(key) {\n",
       "          const element = document.querySelector('#df-7f357491-cdaf-4809-87b5-71118ba16d95');\n",
       "          const dataTable =\n",
       "            await google.colab.kernel.invokeFunction('convertToInteractive',\n",
       "                                                     [key], {});\n",
       "          if (!dataTable) return;\n",
       "\n",
       "          const docLinkHtml = 'Like what you see? Visit the ' +\n",
       "            '<a target=\"_blank\" href=https://colab.research.google.com/notebooks/data_table.ipynb>data table notebook</a>'\n",
       "            + ' to learn more about interactive tables.';\n",
       "          element.innerHTML = '';\n",
       "          dataTable['output_type'] = 'display_data';\n",
       "          await google.colab.output.renderOutput(dataTable, element);\n",
       "          const docLink = document.createElement('div');\n",
       "          docLink.innerHTML = docLinkHtml;\n",
       "          element.appendChild(docLink);\n",
       "        }\n",
       "      </script>\n",
       "    </div>\n",
       "  </div>\n",
       "  "
      ],
      "text/plain": [
       "          asin                                              tfidf\n",
       "6   B000FI4S1E  [0.0, 0.20874267904919294, 0.0, 0.0, 0.0, 0.0,...\n",
       "10  B000LIBUBY  [0.0, 0.0, 0.0, 0.0, 0.0, 0.0, 0.0, 0.0, 0.0, ...\n",
       "17  B000W0C07Y  [0.0, 0.0, 0.0, 0.0, 0.0, 0.0, 0.0, 0.0, 0.0, ..."
      ]
     },
     "execution_count": 30,
     "metadata": {},
     "output_type": "execute_result"
    }
   ],
   "source": [
    "import texthero as hero\n",
    "df['tfidf'] = hero.tfidf(df['title'])\n",
    "df[\"tfidf\"] = df[\"tfidf\"].apply(lambda x: np.array(x))\n",
    "subset = df.loc[ids.index][[\"asin\", \"tfidf\"]]\n",
    "subset"
   ]
  },
  {
   "cell_type": "markdown",
   "metadata": {
    "id": "-gnTVM0EV_2d"
   },
   "source": [
    "## 2.2\n",
    "\n",
    "Compute and the cosine similarity between products with asin 'B000FI4S1E', 'B000LIBUBY' and 'B000W0C07Y'. Take a look at their features to see whether results make sense with their characteristics. "
   ]
  },
  {
   "cell_type": "code",
   "execution_count": 49,
   "metadata": {
    "colab": {
     "base_uri": "https://localhost:8080/"
    },
    "executionInfo": {
     "elapsed": 518,
     "status": "ok",
     "timestamp": 1646992395007,
     "user": {
      "displayName": "nd d",
      "photoUrl": "https://lh3.googleusercontent.com/a/default-user=s64",
      "userId": "10402811649730711830"
     },
     "user_tz": -60
    },
    "id": "rJ7GZ1sfZYET",
    "outputId": "3fdb663b-fe00-4c53-bc2c-34580bbfcbd7"
   },
   "outputs": [
    {
     "data": {
      "text/plain": [
       "array([[1.        , 0.0348894 , 0.02611649],\n",
       "       [0.0348894 , 1.        , 0.44104404],\n",
       "       [0.02611649, 0.44104404, 1.        ]])"
      ]
     },
     "execution_count": 49,
     "metadata": {},
     "output_type": "execute_result"
    }
   ],
   "source": [
    "# cos_sim = (a @ b.T) / (norm(a)*norm(b))\n",
    "cosine_similarity(np.array(subset.tfidf.to_list()))\n",
    "cosine_similarity(arr[[6,10,17]])"
   ]
  },
  {
   "cell_type": "markdown",
   "metadata": {
    "id": "0K8jRhWhZQWe"
   },
   "source": [
    "# Exercise 3\n",
    "\n",
    "Representation in vector spaces with contextual Word Embeddings.\n",
    "\n",
    "## 3.1.\n",
    "\n",
    "Represent all the products from Exercise 1 in a vector space using embeddings from a pre-trained BERT model. The final embedding of a product should be the average of the word embeddings from all the words in the 'title'. What is the vocabulary size of the model? What are the dimensions of the last hidden state?\n",
    "\n",
    "Tip: you may install the transformers library and use their pretrained [BERT model uncased](https://huggingface.co/bert-base-uncased)."
   ]
  },
  {
   "cell_type": "code",
   "execution_count": null,
   "metadata": {
    "id": "hHIjJ-LbTB3H"
   },
   "outputs": [],
   "source": [
    "# LOAD TRANSFORMER\n",
    "\"\"\"\n",
    "If you plan on using a pretrained model, it’s important to use the associated \n",
    "pretrained tokenizer: it will split the text you give it in tokens the same way\n",
    "for the pretraining corpus, and it will use the same correspondence\n",
    "token to index (that we usually call a vocab) as during pretraining.\n",
    "\"\"\"\n",
    "\n",
    "# % pip install transformers\n",
    "import torch\n",
    "import transformers\n",
    "assert transformers.__version__ > '4.0.0'\n",
    "\n",
    "from transformers import BertModel, BertTokenizerFast\n",
    "\n",
    "# set-up environment\n",
    "DEVICE = \"cuda:0\" if torch.cuda.is_available() else \"cpu\"\n",
    "print(f\"Using device: {DEVICE}\")\n",
    "\n",
    "\n",
    "modelname = 'bert-base-uncased'\n",
    "tokenizer = BertTokenizerFast.from_pretrained(modelname)\n",
    "model = BertModel.from_pretrained(modelname).to(DEVICE)\n",
    "\n",
    "# Print out the vocabulary size\n",
    "# <YOUR CODE HERE>"
   ]
  },
  {
   "cell_type": "code",
   "execution_count": null,
   "metadata": {
    "id": "M0z7j8gg74FG"
   },
   "outputs": [],
   "source": [
    "from transformers import BertTokenizer, BertModel\n",
    "tokenizer = BertTokenizer.from_pretrained('bert-base-uncased')\n",
    "model = BertModel.from_pretrained(\"bert-base-uncased\")\n",
    "text = \"Replace me by any text you'd like.\"\n",
    "encoded_input = tokenizer(text, return_tensors='pt')\n",
    "output = model(**encoded_input)\n"
   ]
  },
  {
   "cell_type": "code",
   "execution_count": null,
   "metadata": {
    "id": "q_Symyv5U07x"
   },
   "outputs": [],
   "source": [
    "# REPRESENT PRODUCTS IN A VECTOR SPACE\n",
    "\n",
    "\n",
    "def batch_encoding(sentences):\n",
    "    # Since we're using padding, we need to provide the attention masks to our\n",
    "    # model. Otherwise it doesn't know which tokens it should not attend to. \n",
    "    inputs = # <YOUR CODE HERE>\n",
    "    # print(inputs) # Look at the padding and attention_mask\n",
    "\n",
    "    outputs = model(**inputs)\n",
    "\n",
    "    last_hidden_states = # <YOUR CODE HERE>\n",
    "\n",
    "    return inputs, last_hidden_states\n",
    "  \n",
    "encoded_inputs, title_last_hidden_states = batch_encoding( # <YOUR CODE HERE> )\n",
    "\n",
    "\"\"\"\n",
    "Note that the control token [CLS] has been added \n",
    "at the beginning of each sentence, and [SEP] at the end. \n",
    "\"\"\"\n",
    "\n",
    "# Now, let's mask out the padding tokens and compute the embedding vector of each product\n",
    "\n",
    "# <YOUR CODE HERE>"
   ]
  },
  {
   "cell_type": "markdown",
   "metadata": {
    "id": "EwRBr2HP0Zdt"
   },
   "source": [
    "## 3.2.\n",
    "\n",
    "Compute and the cosine similarity between products with asin 'B000FI4S1E', 'B000LIBUBY' and 'B000W0C07Y'."
   ]
  },
  {
   "cell_type": "code",
   "execution_count": null,
   "metadata": {
    "id": "OaHxSLHqItNs"
   },
   "outputs": [],
   "source": []
  }
 ],
 "metadata": {
  "colab": {
   "collapsed_sections": [],
   "name": "Session_4_Text_Representation.ipynb",
   "provenance": []
  },
  "kernelspec": {
   "display_name": "Python 3",
   "language": "python",
   "name": "python3"
  },
  "language_info": {
   "codemirror_mode": {
    "name": "ipython",
    "version": 3
   },
   "file_extension": ".py",
   "mimetype": "text/x-python",
   "name": "python",
   "nbconvert_exporter": "python",
   "pygments_lexer": "ipython3",
   "version": "3.8.7"
  }
 },
 "nbformat": 4,
 "nbformat_minor": 1
}
