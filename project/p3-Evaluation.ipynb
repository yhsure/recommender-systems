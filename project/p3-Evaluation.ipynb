{
 "cells": [
  {
   "cell_type": "code",
   "execution_count": 13,
   "id": "80cb0dbf",
   "metadata": {},
   "outputs": [],
   "source": [
    "import os\n",
    "import sys\n",
    "sys.path.append('../')\n",
    "import pickle\n",
    "import pandas as pd\n",
    "import numpy as np"
   ]
  },
  {
   "cell_type": "markdown",
   "id": "3d23701c",
   "metadata": {},
   "source": [
    "# Evaluation of CF Recommender Systems"
   ]
  },
  {
   "cell_type": "code",
   "execution_count": 14,
   "id": "e73a72a0",
   "metadata": {},
   "outputs": [
    {
     "name": "stdout",
     "output_type": "stream",
     "text": [
      "There are 113 users in the training set that are not in the test set.\n",
      "Lengths before removing preds not in test set: 1449029 1449029\n",
      "After removing: 1359246 1359246\n",
      "\n",
      "kNN RMSE: 1.1497250696788386\n",
      "SVD RMSE: 0.9972278662314285\n"
     ]
    }
   ],
   "source": [
    "# TEST SET\n",
    "df_test = pd.read_pickle(\"files/testset.pkl\")[[\"reviewerID\", \"asin\", \"overall\"]]\\\n",
    "            .rename(columns={\"reviewerID\": \"uid\", \"asin\": \"iid\"})\n",
    "\n",
    "# PREDICTIONS\n",
    "nb = pd.read_pickle(\"files/preds_knn.pkl\")\n",
    "lf = pd.read_pickle(\"files/preds_svd.pkl\")\n",
    "pred_nb_list = list(nb.itertuples(index=False))\n",
    "pred_lf_list = list(lf.itertuples(index=False))\n",
    "\n",
    "# Detect users from training set that are not in test\n",
    "nb_users = set([pred.uid for pred in pred_nb_list])\n",
    "lf_users = set([pred.uid for pred in pred_lf_list])\n",
    "nb_users_in_pred_but_not_in_test = list(nb_users.difference(set(df_test['uid'])))\n",
    "lf_users_in_pred_but_not_in_test = list(lf_users.difference(set(df_test['uid'])))\n",
    "assert nb_users_in_pred_but_not_in_test == lf_users_in_pred_but_not_in_test\n",
    "print(f\"There are {len(lf_users_in_pred_but_not_in_test)} users in the training set that are not in the test set.\")\n",
    "\n",
    "# Remove these users' predictions for evaluation\n",
    "print(\"Lengths before removing preds not in test set:\", len(nb), len(lf))\n",
    "nb = nb[~nb.uid.isin(nb_users_in_pred_but_not_in_test)]\n",
    "lf = lf[~lf.uid.isin(nb_users_in_pred_but_not_in_test)]\n",
    "print(\"After removing:\", len(nb), len(lf))\n",
    "\n",
    "nb_merge = nb.merge(df_test, how=\"inner\", on=[\"uid\", \"iid\"])\n",
    "print(\"\\nkNN RMSE:\", np.sqrt(np.mean((nb_merge[\"overall\"] - nb_merge[\"score\"])**2)))\n",
    "\n",
    "lf_merge = lf.merge(df_test, how=\"inner\", on=[\"uid\", \"iid\"])\n",
    "print(\"SVD RMSE:\", np.sqrt(np.mean((lf_merge[\"overall\"] - lf_merge[\"score\"])**2)))"
   ]
  },
  {
   "cell_type": "code",
   "execution_count": 16,
   "id": "preceding-evaluation",
   "metadata": {},
   "outputs": [
    {
     "name": "stdout",
     "output_type": "stream",
     "text": [
      "            NB | LF\n",
      "  P@ 5 = 0.0023|0.0153\n",
      "MAP@ 5 = 0.0070|0.0172\n",
      "MRR@ 5 = 0.0070|0.0172\n",
      " HR@ 5 = 0.0117|0.0766\n",
      "\n",
      "  P@15 = 0.0016|0.0092\n",
      "MAP@15 = 0.0085|0.0264\n",
      "MRR@15 = 0.0085|0.0264\n",
      " HR@15 = 0.0245|0.1373\n",
      "\n"
     ]
    }
   ],
   "source": [
    "# often used functions (see metrics.py; rather concise implementations)\n",
    "from metrics import PatK, MAPatK, MRRatK, HRatK\n",
    "\n",
    "ks = [5, 15]\n",
    "\n",
    "print(12*\" \" + \"NB | LF\")\n",
    "\n",
    "for k in ks:\n",
    "    P_nb, P_lf = PatK(nb, df_test, k), PatK(lf, df_test, k)\n",
    "    MAP_nb, MAP_lf = MAPatK(nb, df_test, k), MAPatK(lf, df_test, k)\n",
    "    MRR_nb, MRR_lf = MRRatK(nb, df_test, k), MRRatK(lf, df_test, k)\n",
    "    MHR_nb, MHR_lf = HRatK(nb, df_test, k), HRatK(lf, df_test, k)\n",
    "    print(f\"  P@{k:2g} = {P_nb  :.4f}|{P_lf  :.4f}\")\n",
    "    print(f\"MAP@{k:2g} = {MAP_nb:.4f}|{MAP_lf:.4f}\")\n",
    "    print(f\"MRR@{k:2g} = {MRR_nb:.4f}|{MRR_lf:.4f}\")\n",
    "    print(f\" HR@{k:2g} = {MHR_nb:.4f}|{MHR_lf:.4f}\\n\") \n"
   ]
  },
  {
   "cell_type": "markdown",
   "id": "characteristic-scholar",
   "metadata": {},
   "source": [
    "## Error analysis"
   ]
  },
  {
   "cell_type": "code",
   "execution_count": null,
   "id": "09d2d29c",
   "metadata": {},
   "outputs": [],
   "source": [
    "dft = pd.read_pickle(\"testset.pkl\")[[\"reviewerID\", \"asin\", \"overall\", \"unixReviewTime\"]] \\\n",
    "        .sort_values(\"unixReviewTime\") \\\n",
    "        .reset_index(drop=True)\n",
    "\n",
    "uid_first, uid_last = dft.iloc[[0,-1]][\"reviewerID\"]\n",
    "uid_first, uid_last\n"
   ]
  },
  {
   "cell_type": "markdown",
   "id": "9bf4c50b",
   "metadata": {},
   "source": [
    "## Excercise 4\n",
    "\n",
    "Based on the top-5, top-10 and top-20 predictions from Exercise 2, compute the systems’ hit rate averaged over the total number of users in the test set."
   ]
  },
  {
   "cell_type": "code",
   "execution_count": null,
   "id": "increased-tonight",
   "metadata": {},
   "outputs": [],
   "source": [
    "merged = relevant_column(nb, df_test, 5)\n",
    "scores = merged[[\"uid\", \"iid\", \"relevant\"]].groupby(by=\"uid\")[\"relevant\"].apply(lambda x: x.any()*1)\n",
    "scores.mean()"
   ]
  },
  {
   "cell_type": "code",
   "execution_count": null,
   "id": "impaired-trading",
   "metadata": {},
   "outputs": [],
   "source": [
    "ks = [5, 10, 20]\n",
    "\n",
    "print(12*\" \" + \"NB | LF\")\n",
    "\n",
    "for k in ks:\n",
    "    MHR_nb, MHR_lf = HRatK(nb, df_test, k), HRatK(lf, df_test, k)\n",
    "    print(f\"MHR@{k:2g} = {MHR_nb:.4f}|{MHR_lf:.4f}\")"
   ]
  },
  {
   "cell_type": "code",
   "execution_count": null,
   "id": "decimal-intent",
   "metadata": {},
   "outputs": [],
   "source": [
    "df_train = pd.read_pickle(\"train.pkl\")\n",
    "df = df_train[[\"overall\", \"reviewerID\", \"asin\"]]\n",
    "\n",
    "df_with_nans = df.pivot_table(values=\"overall\", index=\"reviewerID\", columns=\"asin\")\n",
    "df = df_with_nans.fillna(0)\n",
    "\n",
    "corrs = df.T.corr(\"pearson\")"
   ]
  },
  {
   "cell_type": "code",
   "execution_count": null,
   "id": "veterinary-clone",
   "metadata": {
    "scrolled": true
   },
   "outputs": [],
   "source": [
    "first_nbs = corrs.loc[uid_first].nlargest(11)[1:]\n",
    "last_nbs = corrs.loc[uid_last].nlargest(11)[1:]\n",
    "first_nbs"
   ]
  },
  {
   "cell_type": "code",
   "execution_count": null,
   "id": "remarkable-andrews",
   "metadata": {},
   "outputs": [],
   "source": [
    "reviewed_asins_first"
   ]
  },
  {
   "cell_type": "code",
   "execution_count": null,
   "id": "portable-event",
   "metadata": {},
   "outputs": [],
   "source": [
    "reviewed_asins_first = df_train[df_train[\"reviewerID\"]==uid_first][\"asin\"]\n",
    "reviewed_asins_last = df_train[df_train[\"reviewerID\"]==uid_last][\"asin\"]"
   ]
  },
  {
   "cell_type": "code",
   "execution_count": null,
   "id": "incredible-sound",
   "metadata": {},
   "outputs": [],
   "source": [
    "nb_reviews = []\n",
    "for rid in first_nbs.index: \n",
    "    nb_reviews.append(df_train[df_train[\"reviewerID\"]==rid][[\"overall\", \"reviewerID\", \"asin\"]])\n",
    "pd.concat(nb_reviews)"
   ]
  },
  {
   "cell_type": "code",
   "execution_count": null,
   "id": "limited-disclaimer",
   "metadata": {},
   "outputs": [],
   "source": []
  },
  {
   "cell_type": "code",
   "execution_count": null,
   "id": "cognitive-beast",
   "metadata": {
    "scrolled": true
   },
   "outputs": [],
   "source": [
    "dff = df_train[df_train[\"reviewerID\"]==uid_first]\n",
    "dff[\"count\"] = df_train[df_train[\"asin\"].isin(reviewed_asins_first)].groupby(\"asin\")[\"overall\"].count()\n",
    "dff"
   ]
  },
  {
   "cell_type": "code",
   "execution_count": null,
   "id": "behavioral-sierra",
   "metadata": {},
   "outputs": [],
   "source": [
    "df_train[df_train[\"asin\"].isin(reviewed_asins_last)].groupby(\"asin\")[\"overall\"].count()"
   ]
  },
  {
   "cell_type": "code",
   "execution_count": null,
   "id": "tropical-serbia",
   "metadata": {},
   "outputs": [],
   "source": [
    "df_train[df_train[\"asin\"]=='B0014KJ6EQ']"
   ]
  }
 ],
 "metadata": {
  "kernelspec": {
   "display_name": "Python 3",
   "language": "python",
   "name": "python3"
  },
  "language_info": {
   "codemirror_mode": {
    "name": "ipython",
    "version": 3
   },
   "file_extension": ".py",
   "mimetype": "text/x-python",
   "name": "python",
   "nbconvert_exporter": "python",
   "pygments_lexer": "ipython3",
   "version": "3.8.7"
  }
 },
 "nbformat": 4,
 "nbformat_minor": 5
}
