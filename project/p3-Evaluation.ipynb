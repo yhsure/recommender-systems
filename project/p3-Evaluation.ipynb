{
 "cells": [
  {
   "cell_type": "markdown",
   "id": "3d23701c",
   "metadata": {},
   "source": [
    "# Evaluation of Recommender Systems"
   ]
  },
  {
   "cell_type": "markdown",
   "id": "dcface96",
   "metadata": {},
   "source": [
    "Based on the same dataset used on previous weeks, let us evaluate the Collaborative Filtering (CF) models implemented last week."
   ]
  },
  {
   "cell_type": "markdown",
   "id": "55f5b50d",
   "metadata": {},
   "source": [
    "## Exercise 1\n",
    "\n",
    "1. Load the test set and the predictions made with both Collaborative Filtering models in the previous session. \n",
    "2. Detect those users which are in the training set but not in the test set. Remove their predictions before evaluating the systems.\n",
    "3. Report the Root Mean Square Error (RMSE) for both CF models defined in the previous session."
   ]
  },
  {
   "cell_type": "code",
   "execution_count": 1,
   "id": "80cb0dbf",
   "metadata": {},
   "outputs": [],
   "source": [
    "import os\n",
    "import sys\n",
    "sys.path.append('../')\n",
    "import pickle\n",
    "import pandas as pd\n",
    "import numpy as np"
   ]
  },
  {
   "cell_type": "code",
   "execution_count": 7,
   "id": "e73a72a0",
   "metadata": {},
   "outputs": [
    {
     "name": "stdout",
     "output_type": "stream",
     "text": [
      "There are 113 users in the training set that are not in the test set.\n",
      "Lengths before removing preds not in test set: 1449029 1449029\n",
      "After removing: 1359246 1359246\n",
      "\n",
      "kNN RMSE: 1.1497250696788386\n",
      "SVD RMSE: 1.0103011297598752\n"
     ]
    }
   ],
   "source": [
    "\n",
    "# TEST\n",
    "df_test = pd.read_pickle(\"testset.pkl\")[[\"reviewerID\", \"asin\", \"overall\"]]\n",
    "df_test = df_test.rename(columns={\"reviewerID\": \"uid\", \"asin\": \"iid\"})\n",
    "\n",
    "# PREDICTIONS\n",
    "nb = pd.read_pickle(\"preds_knn.pkl\")\n",
    "lf = pd.read_pickle(\"preds_svd.pkl\")\n",
    "pred_nb_list = list(nb.itertuples(index=False))\n",
    "pred_lf_list = list(lf.itertuples(index=False))\n",
    "\n",
    "\n",
    "# Detect users from training set that are not in test\n",
    "nb_users = set([pred.uid for pred in pred_nb_list])\n",
    "lf_users = set([pred.uid for pred in pred_lf_list])\n",
    "nb_users_in_pred_but_not_in_test = list(nb_users.difference(set(df_test['uid'])))\n",
    "lf_users_in_pred_but_not_in_test = list(lf_users.difference(set(df_test['uid'])))\n",
    "assert nb_users_in_pred_but_not_in_test == lf_users_in_pred_but_not_in_test\n",
    "print(f\"There are {len(lf_users_in_pred_but_not_in_test)} users in the training set that are not in the test set.\")\n",
    "\n",
    "# Remove these users' predictions for evaluation\n",
    "print(\"Lengths before removing preds not in test set:\", len(nb), len(lf))\n",
    "nb = nb[~nb.uid.isin(nb_users_in_pred_but_not_in_test)]\n",
    "lf = lf[~lf.uid.isin(nb_users_in_pred_but_not_in_test)]\n",
    "print(\"After removing:\", len(nb), len(lf))\n",
    "\n",
    "nb_merge = nb.merge(df_test, how=\"inner\", on=[\"uid\", \"iid\"])\n",
    "print(\"\\nkNN RMSE:\", np.sqrt(np.mean((nb_merge[\"overall\"] - nb_merge[\"est\"])**2)))\n",
    "\n",
    "lf_merge = lf.merge(df_test, how=\"inner\", on=[\"uid\", \"iid\"])\n",
    "print(\"SVD RMSE:\", np.sqrt(np.mean((lf_merge[\"overall\"] - lf_merge[\"est\"])**2)))"
   ]
  },
  {
   "cell_type": "markdown",
   "id": "eedf3c25",
   "metadata": {},
   "source": [
    "## Exercise 2\n",
    "Define a general method to get the top-k recommendations for each user. Print the top-k with k={5, 10} recommendations for the user with ID 'ARARUVZ8RUF5T' and its estimated ratings. NB: changed to A100UD67AHFODS"
   ]
  },
  {
   "cell_type": "code",
   "execution_count": 12,
   "id": "e08574af",
   "metadata": {},
   "outputs": [
    {
     "data": {
      "text/html": [
       "<div>\n",
       "<style scoped>\n",
       "    .dataframe tbody tr th:only-of-type {\n",
       "        vertical-align: middle;\n",
       "    }\n",
       "\n",
       "    .dataframe tbody tr th {\n",
       "        vertical-align: top;\n",
       "    }\n",
       "\n",
       "    .dataframe thead th {\n",
       "        text-align: right;\n",
       "    }\n",
       "</style>\n",
       "<table border=\"1\" class=\"dataframe\">\n",
       "  <thead>\n",
       "    <tr style=\"text-align: right;\">\n",
       "      <th></th>\n",
       "      <th>iid</th>\n",
       "      <th>est</th>\n",
       "    </tr>\n",
       "  </thead>\n",
       "  <tbody>\n",
       "    <tr>\n",
       "      <th>0</th>\n",
       "      <td>B00003JAU7</td>\n",
       "      <td>5.0</td>\n",
       "    </tr>\n",
       "    <tr>\n",
       "      <th>1</th>\n",
       "      <td>B000050HEI</td>\n",
       "      <td>5.0</td>\n",
       "    </tr>\n",
       "    <tr>\n",
       "      <th>2</th>\n",
       "      <td>B00003IRBV</td>\n",
       "      <td>5.0</td>\n",
       "    </tr>\n",
       "    <tr>\n",
       "      <th>3</th>\n",
       "      <td>B00003IRBU</td>\n",
       "      <td>5.0</td>\n",
       "    </tr>\n",
       "    <tr>\n",
       "      <th>4</th>\n",
       "      <td>B00003JAU9</td>\n",
       "      <td>5.0</td>\n",
       "    </tr>\n",
       "  </tbody>\n",
       "</table>\n",
       "</div>"
      ],
      "text/plain": [
       "          iid  est\n",
       "0  B00003JAU7  5.0\n",
       "1  B000050HEI  5.0\n",
       "2  B00003IRBV  5.0\n",
       "3  B00003IRBU  5.0\n",
       "4  B00003JAU9  5.0"
      ]
     },
     "execution_count": 12,
     "metadata": {},
     "output_type": "execute_result"
    }
   ],
   "source": [
    "top5nb = nb.groupby(['uid']).apply(lambda x: x.nlargest(5,['est'])).reset_index(drop=True)[[\"uid\", \"iid\", \"est\"]]\n",
    "top5nb[top5nb[\"uid\"]==\"A100UD67AHFODS\"][[\"iid\",\"est\"]]"
   ]
  },
  {
   "cell_type": "markdown",
   "id": "03325a14",
   "metadata": {},
   "source": [
    "## Excercise 3\n",
    "Report Precision@k (P@k), MAP@k and the MRR@k with k={5, 10, 20} averaged across users for both CF systems. When computing precision, we consider as relevant items those with an observed rating >= 4.0 (i.e., those items from the test set with a rating >= 4.0). Reflect on the differences obtained. "
   ]
  },
  {
   "cell_type": "code",
   "execution_count": 13,
   "id": "hourly-floor",
   "metadata": {},
   "outputs": [],
   "source": [
    "def relevant_column(preds, df_test, k): \n",
    "    topKpreds = preds.groupby(['uid']).apply(lambda x: x.nlargest(k,['est'])).reset_index(drop=True)[[\"uid\", \"iid\", \"est\"]]\n",
    "    merged = topKpreds.merge(df_test[[\"uid\", \"iid\", \"overall\"]], how=\"left\", on=[\"uid\", \"iid\"])\n",
    "    merged[\"relevant\"] = (merged[\"overall\"] >= 4) * 1 \n",
    "    return merged"
   ]
  },
  {
   "cell_type": "code",
   "execution_count": 14,
   "id": "4f5f89fe",
   "metadata": {},
   "outputs": [
    {
     "data": {
      "text/plain": [
       "(0.0023378141437755697, 0.0015195791934541204)"
      ]
     },
     "execution_count": 14,
     "metadata": {},
     "output_type": "execute_result"
    }
   ],
   "source": [
    "def PatK(preds, df_test, k):\n",
    "    merged = relevant_column(preds, df_test, k)\n",
    "    score  = merged[[\"uid\", \"iid\", \"relevant\"]].groupby(by=\"uid\")[\"relevant\"].mean().mean()\n",
    "    return score\n",
    "\n",
    "PatK(nb, df_test, 5), PatK(lf, df_test, 5)"
   ]
  },
  {
   "cell_type": "code",
   "execution_count": 15,
   "id": "5ae25b3e",
   "metadata": {
    "scrolled": true
   },
   "outputs": [
    {
     "data": {
      "text/plain": [
       "(0.007042665108123905, 0.0033216442626144557)"
      ]
     },
     "execution_count": 15,
     "metadata": {},
     "output_type": "execute_result"
    }
   ],
   "source": [
    "def MAPatK(preds, df_test, k):\n",
    "    merged = relevant_column(preds, df_test, k)\n",
    "    score  = merged[[\"uid\", \"iid\", \"relevant\"]].groupby(by=\"uid\")[\"relevant\"].apply(lambda x: 1./np.arange(1,k+1) @ x).mean()\n",
    "    return score\n",
    "\n",
    "MAPatK(nb, df_test, 5), MAPatK(lf, df_test, 5), "
   ]
  },
  {
   "cell_type": "code",
   "execution_count": 16,
   "id": "checked-teaching",
   "metadata": {},
   "outputs": [
    {
     "data": {
      "text/plain": [
       "(0.007042665108123905, 0.0033216442626144557)"
      ]
     },
     "execution_count": 16,
     "metadata": {},
     "output_type": "execute_result"
    }
   ],
   "source": [
    "# inverse of rank position of first relevant item\n",
    "def first(x):\n",
    "    for i in range(len(x)):\n",
    "        if x.iloc[i].relevant == 1:\n",
    "            return 1/(i+1)\n",
    "    return 0 \n",
    "\n",
    "#slide 47 lecture 3\n",
    "def MRRatK(preds, df_test, k):\n",
    "    merged = relevant_column(preds, df_test, k)\n",
    "    score  = merged[[\"uid\", \"iid\", \"relevant\"]].groupby(by=\"uid\").apply(first).mean()\n",
    "    return score\n",
    "\n",
    "MRRatK(nb, df_test, 5), MRRatK(lf, df_test, 5), "
   ]
  },
  {
   "cell_type": "code",
   "execution_count": 17,
   "id": "spread-advertiser",
   "metadata": {},
   "outputs": [
    {
     "data": {
      "text/plain": [
       "(0.011689070718877849, 0.007597895967270602)"
      ]
     },
     "execution_count": 17,
     "metadata": {},
     "output_type": "execute_result"
    }
   ],
   "source": [
    "def HRatK(preds, df_test, k):\n",
    "    merged = relevant_column(preds, df_test, k)\n",
    "    score = merged[[\"uid\", \"iid\", \"relevant\"]].groupby(by=\"uid\")[\"relevant\"].apply(lambda x: x.any()*1).mean()\n",
    "    return score\n",
    "HRatK(nb, df_test, 5), HRatK(lf, df_test, 5)"
   ]
  },
  {
   "cell_type": "code",
   "execution_count": 18,
   "id": "preceding-evaluation",
   "metadata": {},
   "outputs": [
    {
     "name": "stdout",
     "output_type": "stream",
     "text": [
      "            NB | LF\n",
      "  P@ 5 = 0.0023|0.0015\n",
      "MAP@ 5 = 0.0070|0.0033\n",
      "MRR@ 5 = 0.0070|0.0033\n",
      "\n",
      "  P@10 = 0.0021|0.0088\n",
      "MAP@10 = 0.0083|0.0126\n",
      "MRR@10 = 0.0083|0.0126\n",
      "\n",
      "  P@20 = 0.0013|0.0074\n",
      "MAP@20 = 0.0086|0.0174\n",
      "MRR@20 = 0.0086|0.0174\n",
      "\n"
     ]
    }
   ],
   "source": [
    "ks = [5, 10, 20]\n",
    "\n",
    "print(12*\" \" + \"NB | LF\")\n",
    "\n",
    "for k in ks:\n",
    "    P_nb, P_lf = PatK(nb, df_test, k), PatK(lf, df_test, k)\n",
    "    MAP_nb, MAP_lf = MAPatK(nb, df_test, k), MAPatK(lf, df_test, k)\n",
    "    MRR_nb, MRR_lf = MRRatK(nb, df_test, k), MRRatK(lf, df_test, k)\n",
    "    print(f\"  P@{k:2g} = {P_nb  :.4f}|{P_lf  :.4f}\")\n",
    "    print(f\"MAP@{k:2g} = {MAP_nb:.4f}|{MAP_lf:.4f}\")\n",
    "    print(f\"MRR@{k:2g} = {MRR_nb:.4f}|{MRR_lf:.4f}\\n\")\n"
   ]
  },
  {
   "cell_type": "markdown",
   "id": "9bf4c50b",
   "metadata": {},
   "source": [
    "## Excercise 4\n",
    "\n",
    "Based on the top-5, top-10 and top-20 predictions from Exercise 2, compute the systems’ hit rate averaged over the total number of users in the test set."
   ]
  },
  {
   "cell_type": "code",
   "execution_count": 19,
   "id": "increased-tonight",
   "metadata": {},
   "outputs": [
    {
     "data": {
      "text/plain": [
       "0.011689070718877849"
      ]
     },
     "execution_count": 19,
     "metadata": {},
     "output_type": "execute_result"
    }
   ],
   "source": [
    "merged = relevant_column(nb, df_test, 5)\n",
    "scores = merged[[\"uid\", \"iid\", \"relevant\"]].groupby(by=\"uid\")[\"relevant\"].apply(lambda x: x.any()*1)\n",
    "scores.mean()"
   ]
  },
  {
   "cell_type": "code",
   "execution_count": 20,
   "id": "impaired-trading",
   "metadata": {},
   "outputs": [
    {
     "name": "stdout",
     "output_type": "stream",
     "text": [
      "            NB | LF\n",
      "MHR@ 5 = 0.0117|0.0076\n",
      "MHR@10 = 0.0210|0.0883\n",
      "MHR@20 = 0.0257|0.1473\n"
     ]
    }
   ],
   "source": [
    "ks = [5, 10, 20]\n",
    "\n",
    "print(12*\" \" + \"NB | LF\")\n",
    "\n",
    "for k in ks:\n",
    "    MHR_nb, MHR_lf = HRatK(nb, df_test, k), HRatK(lf, df_test, k)\n",
    "    print(f\"MHR@{k:2g} = {MHR_nb:.4f}|{MHR_lf:.4f}\")"
   ]
  },
  {
   "cell_type": "markdown",
   "id": "characteristic-scholar",
   "metadata": {},
   "source": [
    "## Error analysis"
   ]
  },
  {
   "cell_type": "code",
   "execution_count": 42,
   "id": "09d2d29c",
   "metadata": {},
   "outputs": [
    {
     "data": {
      "text/plain": [
       "('A2G0O4Y8QE10AE', 'A2SACTIFMC5DXO')"
      ]
     },
     "execution_count": 42,
     "metadata": {},
     "output_type": "execute_result"
    }
   ],
   "source": [
    "dft = pd.read_pickle(\"testset.pkl\")[[\"reviewerID\", \"asin\", \"overall\", \"unixReviewTime\"]] \\\n",
    "        .sort_values(\"unixReviewTime\") \\\n",
    "        .reset_index(drop=True)\n",
    "\n",
    "uid_first, uid_last = dft.iloc[[0,-1]][\"reviewerID\"]\n",
    "uid_first, uid_last\n"
   ]
  },
  {
   "cell_type": "code",
   "execution_count": 61,
   "id": "decimal-intent",
   "metadata": {},
   "outputs": [],
   "source": [
    "df_train = pd.read_pickle(\"train.pkl\")\n",
    "df = df_train[[\"overall\", \"reviewerID\", \"asin\"]]\n",
    "\n",
    "df_with_nans = df.pivot_table(values=\"overall\", index=\"reviewerID\", columns=\"asin\")\n",
    "df = df_with_nans.fillna(0)\n",
    "\n",
    "corrs = df.T.corr(\"pearson\")"
   ]
  },
  {
   "cell_type": "code",
   "execution_count": 99,
   "id": "veterinary-clone",
   "metadata": {
    "scrolled": true
   },
   "outputs": [
    {
     "data": {
      "text/plain": [
       "reviewerID\n",
       "A3FY1GXS48WR8B    0.564608\n",
       "A37MH7ICH80QOX    0.498747\n",
       "A11JU33HMT5XPU    0.440051\n",
       "ACQYIC13JXAOI     0.426855\n",
       "ADY836HK6QSYR     0.414072\n",
       "A2E1EFNIZL2FVA    0.406457\n",
       "A1JMB7RDVEMN71    0.398215\n",
       "A3L8XRYMLZZES6    0.362919\n",
       "A1GNYV0RA0EQSS    0.362127\n",
       "A2D66KSHQQHOSD    0.356498\n",
       "Name: A2G0O4Y8QE10AE, dtype: float64"
      ]
     },
     "execution_count": 99,
     "metadata": {},
     "output_type": "execute_result"
    }
   ],
   "source": [
    "first_nbs = corrs.loc[uid_first].nlargest(11)[1:]\n",
    "last_nbs = corrs.loc[uid_last].nlargest(11)[1:]\n",
    "first_nbs"
   ]
  },
  {
   "cell_type": "code",
   "execution_count": 102,
   "id": "remarkable-andrews",
   "metadata": {},
   "outputs": [
    {
     "data": {
      "text/plain": [
       "2492    B0017I8NQM\n",
       "2407    B0014KJ6EQ\n",
       "Name: asin, dtype: object"
      ]
     },
     "execution_count": 102,
     "metadata": {},
     "output_type": "execute_result"
    }
   ],
   "source": [
    "reviewed_asins_first"
   ]
  },
  {
   "cell_type": "code",
   "execution_count": 100,
   "id": "portable-event",
   "metadata": {},
   "outputs": [],
   "source": [
    "reviewed_asins_first = df_train[df_train[\"reviewerID\"]==uid_first][\"asin\"]\n",
    "reviewed_asins_last = df_train[df_train[\"reviewerID\"]==uid_last][\"asin\"]"
   ]
  },
  {
   "cell_type": "code",
   "execution_count": 101,
   "id": "incredible-sound",
   "metadata": {},
   "outputs": [
    {
     "data": {
      "text/html": [
       "<div>\n",
       "<style scoped>\n",
       "    .dataframe tbody tr th:only-of-type {\n",
       "        vertical-align: middle;\n",
       "    }\n",
       "\n",
       "    .dataframe tbody tr th {\n",
       "        vertical-align: top;\n",
       "    }\n",
       "\n",
       "    .dataframe thead th {\n",
       "        text-align: right;\n",
       "    }\n",
       "</style>\n",
       "<table border=\"1\" class=\"dataframe\">\n",
       "  <thead>\n",
       "    <tr style=\"text-align: right;\">\n",
       "      <th></th>\n",
       "      <th>overall</th>\n",
       "      <th>reviewerID</th>\n",
       "      <th>asin</th>\n",
       "    </tr>\n",
       "  </thead>\n",
       "  <tbody>\n",
       "    <tr>\n",
       "      <th>2348</th>\n",
       "      <td>3.0</td>\n",
       "      <td>A3FY1GXS48WR8B</td>\n",
       "      <td>B0013O54OE</td>\n",
       "    </tr>\n",
       "    <tr>\n",
       "      <th>2486</th>\n",
       "      <td>4.0</td>\n",
       "      <td>A3FY1GXS48WR8B</td>\n",
       "      <td>B0017I8NQM</td>\n",
       "    </tr>\n",
       "    <tr>\n",
       "      <th>2862</th>\n",
       "      <td>5.0</td>\n",
       "      <td>A37MH7ICH80QOX</td>\n",
       "      <td>B000WCQCE4</td>\n",
       "    </tr>\n",
       "    <tr>\n",
       "      <th>2479</th>\n",
       "      <td>5.0</td>\n",
       "      <td>A37MH7ICH80QOX</td>\n",
       "      <td>B0017I8NQM</td>\n",
       "    </tr>\n",
       "    <tr>\n",
       "      <th>3307</th>\n",
       "      <td>4.0</td>\n",
       "      <td>A11JU33HMT5XPU</td>\n",
       "      <td>B0017I8NQM</td>\n",
       "    </tr>\n",
       "    <tr>\n",
       "      <th>3513</th>\n",
       "      <td>4.0</td>\n",
       "      <td>A11JU33HMT5XPU</td>\n",
       "      <td>B001AFFYSW</td>\n",
       "    </tr>\n",
       "    <tr>\n",
       "      <th>5934</th>\n",
       "      <td>3.0</td>\n",
       "      <td>A11JU33HMT5XPU</td>\n",
       "      <td>B005FIWT74</td>\n",
       "    </tr>\n",
       "    <tr>\n",
       "      <th>3836</th>\n",
       "      <td>3.0</td>\n",
       "      <td>ACQYIC13JXAOI</td>\n",
       "      <td>B001EJU9ZM</td>\n",
       "    </tr>\n",
       "    <tr>\n",
       "      <th>2480</th>\n",
       "      <td>5.0</td>\n",
       "      <td>ACQYIC13JXAOI</td>\n",
       "      <td>B0017I8NQM</td>\n",
       "    </tr>\n",
       "    <tr>\n",
       "      <th>4957</th>\n",
       "      <td>5.0</td>\n",
       "      <td>ACQYIC13JXAOI</td>\n",
       "      <td>B003YJ5ESM</td>\n",
       "    </tr>\n",
       "    <tr>\n",
       "      <th>9822</th>\n",
       "      <td>3.0</td>\n",
       "      <td>ACQYIC13JXAOI</td>\n",
       "      <td>B00MV9EL6M</td>\n",
       "    </tr>\n",
       "    <tr>\n",
       "      <th>1632</th>\n",
       "      <td>2.0</td>\n",
       "      <td>ADY836HK6QSYR</td>\n",
       "      <td>B000TME1K4</td>\n",
       "    </tr>\n",
       "    <tr>\n",
       "      <th>2487</th>\n",
       "      <td>3.0</td>\n",
       "      <td>ADY836HK6QSYR</td>\n",
       "      <td>B0017I8NQM</td>\n",
       "    </tr>\n",
       "    <tr>\n",
       "      <th>7175</th>\n",
       "      <td>2.0</td>\n",
       "      <td>ADY836HK6QSYR</td>\n",
       "      <td>B009YYZJDQ</td>\n",
       "    </tr>\n",
       "    <tr>\n",
       "      <th>10345</th>\n",
       "      <td>3.0</td>\n",
       "      <td>ADY836HK6QSYR</td>\n",
       "      <td>B00OW2PJ5I</td>\n",
       "    </tr>\n",
       "    <tr>\n",
       "      <th>3290</th>\n",
       "      <td>5.0</td>\n",
       "      <td>A2E1EFNIZL2FVA</td>\n",
       "      <td>B0017I8NQM</td>\n",
       "    </tr>\n",
       "    <tr>\n",
       "      <th>8178</th>\n",
       "      <td>5.0</td>\n",
       "      <td>A2E1EFNIZL2FVA</td>\n",
       "      <td>B00EZPXOTA</td>\n",
       "    </tr>\n",
       "    <tr>\n",
       "      <th>8986</th>\n",
       "      <td>5.0</td>\n",
       "      <td>A2E1EFNIZL2FVA</td>\n",
       "      <td>B00HRQB28Y</td>\n",
       "    </tr>\n",
       "    <tr>\n",
       "      <th>2223</th>\n",
       "      <td>3.0</td>\n",
       "      <td>A1JMB7RDVEMN71</td>\n",
       "      <td>B000Y7Y6IQ</td>\n",
       "    </tr>\n",
       "    <tr>\n",
       "      <th>3419</th>\n",
       "      <td>5.0</td>\n",
       "      <td>A1JMB7RDVEMN71</td>\n",
       "      <td>B001AFD20E</td>\n",
       "    </tr>\n",
       "    <tr>\n",
       "      <th>2485</th>\n",
       "      <td>4.0</td>\n",
       "      <td>A1JMB7RDVEMN71</td>\n",
       "      <td>B0017I8NQM</td>\n",
       "    </tr>\n",
       "    <tr>\n",
       "      <th>3289</th>\n",
       "      <td>4.0</td>\n",
       "      <td>A3L8XRYMLZZES6</td>\n",
       "      <td>B0017I8NQM</td>\n",
       "    </tr>\n",
       "    <tr>\n",
       "      <th>12302</th>\n",
       "      <td>1.0</td>\n",
       "      <td>A3L8XRYMLZZES6</td>\n",
       "      <td>B000TMHZX4</td>\n",
       "    </tr>\n",
       "    <tr>\n",
       "      <th>12382</th>\n",
       "      <td>3.0</td>\n",
       "      <td>A3L8XRYMLZZES6</td>\n",
       "      <td>B001C31OZY</td>\n",
       "    </tr>\n",
       "    <tr>\n",
       "      <th>12466</th>\n",
       "      <td>5.0</td>\n",
       "      <td>A3L8XRYMLZZES6</td>\n",
       "      <td>B003CIPI9A</td>\n",
       "    </tr>\n",
       "    <tr>\n",
       "      <th>11992</th>\n",
       "      <td>3.0</td>\n",
       "      <td>A3L8XRYMLZZES6</td>\n",
       "      <td>B01AC3ZAHW</td>\n",
       "    </tr>\n",
       "    <tr>\n",
       "      <th>3044</th>\n",
       "      <td>4.0</td>\n",
       "      <td>A1GNYV0RA0EQSS</td>\n",
       "      <td>B000Y7Y6IQ</td>\n",
       "    </tr>\n",
       "    <tr>\n",
       "      <th>2483</th>\n",
       "      <td>5.0</td>\n",
       "      <td>A1GNYV0RA0EQSS</td>\n",
       "      <td>B0017I8NQM</td>\n",
       "    </tr>\n",
       "    <tr>\n",
       "      <th>12204</th>\n",
       "      <td>4.0</td>\n",
       "      <td>A1GNYV0RA0EQSS</td>\n",
       "      <td>1413313728</td>\n",
       "    </tr>\n",
       "    <tr>\n",
       "      <th>5045</th>\n",
       "      <td>2.0</td>\n",
       "      <td>A1GNYV0RA0EQSS</td>\n",
       "      <td>B0041DVMZE</td>\n",
       "    </tr>\n",
       "    <tr>\n",
       "      <th>6821</th>\n",
       "      <td>4.0</td>\n",
       "      <td>A1GNYV0RA0EQSS</td>\n",
       "      <td>B009066EOG</td>\n",
       "    </tr>\n",
       "    <tr>\n",
       "      <th>6978</th>\n",
       "      <td>4.0</td>\n",
       "      <td>A1GNYV0RA0EQSS</td>\n",
       "      <td>B009716GWE</td>\n",
       "    </tr>\n",
       "    <tr>\n",
       "      <th>11680</th>\n",
       "      <td>1.0</td>\n",
       "      <td>A1GNYV0RA0EQSS</td>\n",
       "      <td>B01617VNYC</td>\n",
       "    </tr>\n",
       "    <tr>\n",
       "      <th>1638</th>\n",
       "      <td>3.0</td>\n",
       "      <td>A2D66KSHQQHOSD</td>\n",
       "      <td>B000TME1K4</td>\n",
       "    </tr>\n",
       "    <tr>\n",
       "      <th>1709</th>\n",
       "      <td>4.0</td>\n",
       "      <td>A2D66KSHQQHOSD</td>\n",
       "      <td>B000V6YPAY</td>\n",
       "    </tr>\n",
       "    <tr>\n",
       "      <th>2481</th>\n",
       "      <td>3.0</td>\n",
       "      <td>A2D66KSHQQHOSD</td>\n",
       "      <td>B0017I8NQM</td>\n",
       "    </tr>\n",
       "    <tr>\n",
       "      <th>10233</th>\n",
       "      <td>1.0</td>\n",
       "      <td>A2D66KSHQQHOSD</td>\n",
       "      <td>B00OMQLT6C</td>\n",
       "    </tr>\n",
       "  </tbody>\n",
       "</table>\n",
       "</div>"
      ],
      "text/plain": [
       "       overall      reviewerID        asin\n",
       "2348       3.0  A3FY1GXS48WR8B  B0013O54OE\n",
       "2486       4.0  A3FY1GXS48WR8B  B0017I8NQM\n",
       "2862       5.0  A37MH7ICH80QOX  B000WCQCE4\n",
       "2479       5.0  A37MH7ICH80QOX  B0017I8NQM\n",
       "3307       4.0  A11JU33HMT5XPU  B0017I8NQM\n",
       "3513       4.0  A11JU33HMT5XPU  B001AFFYSW\n",
       "5934       3.0  A11JU33HMT5XPU  B005FIWT74\n",
       "3836       3.0   ACQYIC13JXAOI  B001EJU9ZM\n",
       "2480       5.0   ACQYIC13JXAOI  B0017I8NQM\n",
       "4957       5.0   ACQYIC13JXAOI  B003YJ5ESM\n",
       "9822       3.0   ACQYIC13JXAOI  B00MV9EL6M\n",
       "1632       2.0   ADY836HK6QSYR  B000TME1K4\n",
       "2487       3.0   ADY836HK6QSYR  B0017I8NQM\n",
       "7175       2.0   ADY836HK6QSYR  B009YYZJDQ\n",
       "10345      3.0   ADY836HK6QSYR  B00OW2PJ5I\n",
       "3290       5.0  A2E1EFNIZL2FVA  B0017I8NQM\n",
       "8178       5.0  A2E1EFNIZL2FVA  B00EZPXOTA\n",
       "8986       5.0  A2E1EFNIZL2FVA  B00HRQB28Y\n",
       "2223       3.0  A1JMB7RDVEMN71  B000Y7Y6IQ\n",
       "3419       5.0  A1JMB7RDVEMN71  B001AFD20E\n",
       "2485       4.0  A1JMB7RDVEMN71  B0017I8NQM\n",
       "3289       4.0  A3L8XRYMLZZES6  B0017I8NQM\n",
       "12302      1.0  A3L8XRYMLZZES6  B000TMHZX4\n",
       "12382      3.0  A3L8XRYMLZZES6  B001C31OZY\n",
       "12466      5.0  A3L8XRYMLZZES6  B003CIPI9A\n",
       "11992      3.0  A3L8XRYMLZZES6  B01AC3ZAHW\n",
       "3044       4.0  A1GNYV0RA0EQSS  B000Y7Y6IQ\n",
       "2483       5.0  A1GNYV0RA0EQSS  B0017I8NQM\n",
       "12204      4.0  A1GNYV0RA0EQSS  1413313728\n",
       "5045       2.0  A1GNYV0RA0EQSS  B0041DVMZE\n",
       "6821       4.0  A1GNYV0RA0EQSS  B009066EOG\n",
       "6978       4.0  A1GNYV0RA0EQSS  B009716GWE\n",
       "11680      1.0  A1GNYV0RA0EQSS  B01617VNYC\n",
       "1638       3.0  A2D66KSHQQHOSD  B000TME1K4\n",
       "1709       4.0  A2D66KSHQQHOSD  B000V6YPAY\n",
       "2481       3.0  A2D66KSHQQHOSD  B0017I8NQM\n",
       "10233      1.0  A2D66KSHQQHOSD  B00OMQLT6C"
      ]
     },
     "execution_count": 101,
     "metadata": {},
     "output_type": "execute_result"
    }
   ],
   "source": [
    "nb_reviews = []\n",
    "for rid in first_nbs.index: \n",
    "    nb_reviews.append(df_train[df_train[\"reviewerID\"]==rid][[\"overall\", \"reviewerID\", \"asin\"]])\n",
    "pd.concat(nb_reviews)"
   ]
  },
  {
   "cell_type": "code",
   "execution_count": 96,
   "id": "limited-disclaimer",
   "metadata": {},
   "outputs": [
    {
     "data": {
      "text/html": [
       "<div>\n",
       "<style scoped>\n",
       "    .dataframe tbody tr th:only-of-type {\n",
       "        vertical-align: middle;\n",
       "    }\n",
       "\n",
       "    .dataframe tbody tr th {\n",
       "        vertical-align: top;\n",
       "    }\n",
       "\n",
       "    .dataframe thead th {\n",
       "        text-align: right;\n",
       "    }\n",
       "</style>\n",
       "<table border=\"1\" class=\"dataframe\">\n",
       "  <thead>\n",
       "    <tr style=\"text-align: right;\">\n",
       "      <th></th>\n",
       "      <th>overall</th>\n",
       "      <th>verified</th>\n",
       "      <th>reviewTime</th>\n",
       "      <th>reviewerID</th>\n",
       "      <th>asin</th>\n",
       "      <th>style</th>\n",
       "      <th>reviewerName</th>\n",
       "      <th>reviewText</th>\n",
       "      <th>summary</th>\n",
       "      <th>unixReviewTime</th>\n",
       "      <th>vote</th>\n",
       "      <th>image</th>\n",
       "    </tr>\n",
       "  </thead>\n",
       "  <tbody>\n",
       "    <tr>\n",
       "      <th>2492</th>\n",
       "      <td>3.0</td>\n",
       "      <td>False</td>\n",
       "      <td>08 8, 2008</td>\n",
       "      <td>A2G0O4Y8QE10AE</td>\n",
       "      <td>B0017I8NQM</td>\n",
       "      <td>NaN</td>\n",
       "      <td>Deborah Woehr</td>\n",
       "      <td>Unfortunately Corel stopped making WP for the ...</td>\n",
       "      <td>File Conversion Issues, Otherwise Good</td>\n",
       "      <td>1218153600</td>\n",
       "      <td>NaN</td>\n",
       "      <td>NaN</td>\n",
       "    </tr>\n",
       "    <tr>\n",
       "      <th>2407</th>\n",
       "      <td>3.0</td>\n",
       "      <td>True</td>\n",
       "      <td>10 5, 2010</td>\n",
       "      <td>A2G0O4Y8QE10AE</td>\n",
       "      <td>B0014KJ6EQ</td>\n",
       "      <td>NaN</td>\n",
       "      <td>Deborah Woehr</td>\n",
       "      <td>I bought MacDictate after reading the many glo...</td>\n",
       "      <td>Good Quality Software, Bad Quality Headphones</td>\n",
       "      <td>1286236800</td>\n",
       "      <td>NaN</td>\n",
       "      <td>NaN</td>\n",
       "    </tr>\n",
       "  </tbody>\n",
       "</table>\n",
       "</div>"
      ],
      "text/plain": [
       "      overall  verified  reviewTime      reviewerID        asin style  \\\n",
       "2492      3.0     False  08 8, 2008  A2G0O4Y8QE10AE  B0017I8NQM   NaN   \n",
       "2407      3.0      True  10 5, 2010  A2G0O4Y8QE10AE  B0014KJ6EQ   NaN   \n",
       "\n",
       "       reviewerName                                         reviewText  \\\n",
       "2492  Deborah Woehr  Unfortunately Corel stopped making WP for the ...   \n",
       "2407  Deborah Woehr  I bought MacDictate after reading the many glo...   \n",
       "\n",
       "                                            summary  unixReviewTime vote image  \n",
       "2492         File Conversion Issues, Otherwise Good      1218153600  NaN   NaN  \n",
       "2407  Good Quality Software, Bad Quality Headphones      1286236800  NaN   NaN  "
      ]
     },
     "execution_count": 96,
     "metadata": {},
     "output_type": "execute_result"
    }
   ],
   "source": []
  },
  {
   "cell_type": "code",
   "execution_count": 98,
   "id": "cognitive-beast",
   "metadata": {
    "scrolled": true
   },
   "outputs": [
    {
     "name": "stderr",
     "output_type": "stream",
     "text": [
      "<ipython-input-98-153e13de0b76>:2: SettingWithCopyWarning: \n",
      "A value is trying to be set on a copy of a slice from a DataFrame.\n",
      "Try using .loc[row_indexer,col_indexer] = value instead\n",
      "\n",
      "See the caveats in the documentation: https://pandas.pydata.org/pandas-docs/stable/user_guide/indexing.html#returning-a-view-versus-a-copy\n",
      "  dff[\"count\"] = df_train[df_train[\"asin\"].isin(reviewed_asins_first)].groupby(\"asin\")[\"overall\"].count()\n"
     ]
    },
    {
     "data": {
      "text/html": [
       "<div>\n",
       "<style scoped>\n",
       "    .dataframe tbody tr th:only-of-type {\n",
       "        vertical-align: middle;\n",
       "    }\n",
       "\n",
       "    .dataframe tbody tr th {\n",
       "        vertical-align: top;\n",
       "    }\n",
       "\n",
       "    .dataframe thead th {\n",
       "        text-align: right;\n",
       "    }\n",
       "</style>\n",
       "<table border=\"1\" class=\"dataframe\">\n",
       "  <thead>\n",
       "    <tr style=\"text-align: right;\">\n",
       "      <th></th>\n",
       "      <th>overall</th>\n",
       "      <th>verified</th>\n",
       "      <th>reviewTime</th>\n",
       "      <th>reviewerID</th>\n",
       "      <th>asin</th>\n",
       "      <th>style</th>\n",
       "      <th>reviewerName</th>\n",
       "      <th>reviewText</th>\n",
       "      <th>summary</th>\n",
       "      <th>unixReviewTime</th>\n",
       "      <th>vote</th>\n",
       "      <th>image</th>\n",
       "      <th>count</th>\n",
       "    </tr>\n",
       "  </thead>\n",
       "  <tbody>\n",
       "    <tr>\n",
       "      <th>2492</th>\n",
       "      <td>3.0</td>\n",
       "      <td>False</td>\n",
       "      <td>08 8, 2008</td>\n",
       "      <td>A2G0O4Y8QE10AE</td>\n",
       "      <td>B0017I8NQM</td>\n",
       "      <td>NaN</td>\n",
       "      <td>Deborah Woehr</td>\n",
       "      <td>Unfortunately Corel stopped making WP for the ...</td>\n",
       "      <td>File Conversion Issues, Otherwise Good</td>\n",
       "      <td>1218153600</td>\n",
       "      <td>NaN</td>\n",
       "      <td>NaN</td>\n",
       "      <td>NaN</td>\n",
       "    </tr>\n",
       "    <tr>\n",
       "      <th>2407</th>\n",
       "      <td>3.0</td>\n",
       "      <td>True</td>\n",
       "      <td>10 5, 2010</td>\n",
       "      <td>A2G0O4Y8QE10AE</td>\n",
       "      <td>B0014KJ6EQ</td>\n",
       "      <td>NaN</td>\n",
       "      <td>Deborah Woehr</td>\n",
       "      <td>I bought MacDictate after reading the many glo...</td>\n",
       "      <td>Good Quality Software, Bad Quality Headphones</td>\n",
       "      <td>1286236800</td>\n",
       "      <td>NaN</td>\n",
       "      <td>NaN</td>\n",
       "      <td>NaN</td>\n",
       "    </tr>\n",
       "  </tbody>\n",
       "</table>\n",
       "</div>"
      ],
      "text/plain": [
       "      overall  verified  reviewTime      reviewerID        asin style  \\\n",
       "2492      3.0     False  08 8, 2008  A2G0O4Y8QE10AE  B0017I8NQM   NaN   \n",
       "2407      3.0      True  10 5, 2010  A2G0O4Y8QE10AE  B0014KJ6EQ   NaN   \n",
       "\n",
       "       reviewerName                                         reviewText  \\\n",
       "2492  Deborah Woehr  Unfortunately Corel stopped making WP for the ...   \n",
       "2407  Deborah Woehr  I bought MacDictate after reading the many glo...   \n",
       "\n",
       "                                            summary  unixReviewTime vote  \\\n",
       "2492         File Conversion Issues, Otherwise Good      1218153600  NaN   \n",
       "2407  Good Quality Software, Bad Quality Headphones      1286236800  NaN   \n",
       "\n",
       "     image  count  \n",
       "2492   NaN    NaN  \n",
       "2407   NaN    NaN  "
      ]
     },
     "execution_count": 98,
     "metadata": {},
     "output_type": "execute_result"
    }
   ],
   "source": [
    "dff = df_train[df_train[\"reviewerID\"]==uid_first]\n",
    "dff[\"count\"] = df_train[df_train[\"asin\"].isin(reviewed_asins_first)].groupby(\"asin\")[\"overall\"].count()\n",
    "dff"
   ]
  },
  {
   "cell_type": "code",
   "execution_count": 90,
   "id": "behavioral-sierra",
   "metadata": {},
   "outputs": [
    {
     "data": {
      "text/plain": [
       "asin\n",
       "B00CTTEKJW    64\n",
       "B00EDSI8HW    15\n",
       "B00EFRMECQ     6\n",
       "B00FZ0E0HE    15\n",
       "B00FZ0FETC    10\n",
       "B01019T6O0    20\n",
       "B015IHWAZW     7\n",
       "Name: overall, dtype: int64"
      ]
     },
     "execution_count": 90,
     "metadata": {},
     "output_type": "execute_result"
    }
   ],
   "source": [
    "df_train[df_train[\"asin\"].isin(reviewed_asins_last)].groupby(\"asin\")[\"overall\"].count()"
   ]
  },
  {
   "cell_type": "code",
   "execution_count": 73,
   "id": "tropical-serbia",
   "metadata": {},
   "outputs": [
    {
     "data": {
      "text/html": [
       "<div>\n",
       "<style scoped>\n",
       "    .dataframe tbody tr th:only-of-type {\n",
       "        vertical-align: middle;\n",
       "    }\n",
       "\n",
       "    .dataframe tbody tr th {\n",
       "        vertical-align: top;\n",
       "    }\n",
       "\n",
       "    .dataframe thead th {\n",
       "        text-align: right;\n",
       "    }\n",
       "</style>\n",
       "<table border=\"1\" class=\"dataframe\">\n",
       "  <thead>\n",
       "    <tr style=\"text-align: right;\">\n",
       "      <th></th>\n",
       "      <th>overall</th>\n",
       "      <th>verified</th>\n",
       "      <th>reviewTime</th>\n",
       "      <th>reviewerID</th>\n",
       "      <th>asin</th>\n",
       "      <th>style</th>\n",
       "      <th>reviewerName</th>\n",
       "      <th>reviewText</th>\n",
       "      <th>summary</th>\n",
       "      <th>unixReviewTime</th>\n",
       "      <th>vote</th>\n",
       "      <th>image</th>\n",
       "    </tr>\n",
       "  </thead>\n",
       "  <tbody>\n",
       "    <tr>\n",
       "      <th>3224</th>\n",
       "      <td>5.0</td>\n",
       "      <td>False</td>\n",
       "      <td>01 27, 2009</td>\n",
       "      <td>A3JRW716H3AX14</td>\n",
       "      <td>B0014KJ6EQ</td>\n",
       "      <td>NaN</td>\n",
       "      <td>Scott Lloyd</td>\n",
       "      <td>I am dictating this review using MacSpeech Dic...</td>\n",
       "      <td>Fantastic product</td>\n",
       "      <td>1233014400</td>\n",
       "      <td>33</td>\n",
       "      <td>NaN</td>\n",
       "    </tr>\n",
       "    <tr>\n",
       "      <th>3223</th>\n",
       "      <td>5.0</td>\n",
       "      <td>False</td>\n",
       "      <td>03 4, 2009</td>\n",
       "      <td>A1VLVWTLV3LVHR</td>\n",
       "      <td>B0014KJ6EQ</td>\n",
       "      <td>NaN</td>\n",
       "      <td>Tim Robertson</td>\n",
       "      <td>A LITTLE HISTORY\\nAs a user of Dictate 1.0, I ...</td>\n",
       "      <td>Mark Rudd's MyMac.com Review</td>\n",
       "      <td>1236124800</td>\n",
       "      <td>11</td>\n",
       "      <td>NaN</td>\n",
       "    </tr>\n",
       "    <tr>\n",
       "      <th>3222</th>\n",
       "      <td>4.0</td>\n",
       "      <td>False</td>\n",
       "      <td>03 26, 2010</td>\n",
       "      <td>A3NM0RAYSL6PA8</td>\n",
       "      <td>B0014KJ6EQ</td>\n",
       "      <td>NaN</td>\n",
       "      <td>Maine Writer</td>\n",
       "      <td>I was a little surprised to see an average rat...</td>\n",
       "      <td>This is really a great program.</td>\n",
       "      <td>1269561600</td>\n",
       "      <td>NaN</td>\n",
       "      <td>NaN</td>\n",
       "    </tr>\n",
       "    <tr>\n",
       "      <th>2407</th>\n",
       "      <td>3.0</td>\n",
       "      <td>True</td>\n",
       "      <td>10 5, 2010</td>\n",
       "      <td>A2G0O4Y8QE10AE</td>\n",
       "      <td>B0014KJ6EQ</td>\n",
       "      <td>NaN</td>\n",
       "      <td>Deborah Woehr</td>\n",
       "      <td>I bought MacDictate after reading the many glo...</td>\n",
       "      <td>Good Quality Software, Bad Quality Headphones</td>\n",
       "      <td>1286236800</td>\n",
       "      <td>NaN</td>\n",
       "      <td>NaN</td>\n",
       "    </tr>\n",
       "  </tbody>\n",
       "</table>\n",
       "</div>"
      ],
      "text/plain": [
       "      overall  verified   reviewTime      reviewerID        asin style  \\\n",
       "3224      5.0     False  01 27, 2009  A3JRW716H3AX14  B0014KJ6EQ   NaN   \n",
       "3223      5.0     False   03 4, 2009  A1VLVWTLV3LVHR  B0014KJ6EQ   NaN   \n",
       "3222      4.0     False  03 26, 2010  A3NM0RAYSL6PA8  B0014KJ6EQ   NaN   \n",
       "2407      3.0      True   10 5, 2010  A2G0O4Y8QE10AE  B0014KJ6EQ   NaN   \n",
       "\n",
       "       reviewerName                                         reviewText  \\\n",
       "3224    Scott Lloyd  I am dictating this review using MacSpeech Dic...   \n",
       "3223  Tim Robertson  A LITTLE HISTORY\\nAs a user of Dictate 1.0, I ...   \n",
       "3222   Maine Writer  I was a little surprised to see an average rat...   \n",
       "2407  Deborah Woehr  I bought MacDictate after reading the many glo...   \n",
       "\n",
       "                                            summary  unixReviewTime vote image  \n",
       "3224                              Fantastic product      1233014400   33   NaN  \n",
       "3223                   Mark Rudd's MyMac.com Review      1236124800   11   NaN  \n",
       "3222                This is really a great program.      1269561600  NaN   NaN  \n",
       "2407  Good Quality Software, Bad Quality Headphones      1286236800  NaN   NaN  "
      ]
     },
     "execution_count": 73,
     "metadata": {},
     "output_type": "execute_result"
    }
   ],
   "source": [
    "df_train[df_train[\"asin\"]=='B0014KJ6EQ']"
   ]
  }
 ],
 "metadata": {
  "kernelspec": {
   "display_name": "Python 3",
   "language": "python",
   "name": "python3"
  },
  "language_info": {
   "codemirror_mode": {
    "name": "ipython",
    "version": 3
   },
   "file_extension": ".py",
   "mimetype": "text/x-python",
   "name": "python",
   "nbconvert_exporter": "python",
   "pygments_lexer": "ipython3",
   "version": "3.8.7"
  }
 },
 "nbformat": 4,
 "nbformat_minor": 5
}
