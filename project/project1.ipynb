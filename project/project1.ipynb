{
 "cells": [
  {
   "cell_type": "code",
   "execution_count": 1,
   "metadata": {},
   "outputs": [],
   "source": [
    "import json\n",
    "import pandas as pd\n",
    "import gzip\n",
    "import numpy as np\n",
    "import matplotlib.pyplot as plt"
   ]
  },
  {
   "cell_type": "markdown",
   "metadata": {},
   "source": [
    "# Familiarize Yourself with the Dataset\n",
    "In the lab sessions, we will work with the \"All Beauty\" category of the Amazon Review Data, and we will use the 5-core subset. You can download the dataset and find information about it here: https://nijianmo.github.io/amazon/index.html"
   ]
  },
  {
   "cell_type": "markdown",
   "metadata": {},
   "source": [
    "## Exercise 1\n",
    "Download and import the 5-core dataset."
   ]
  },
  {
   "cell_type": "code",
   "execution_count": 3,
   "metadata": {},
   "outputs": [
    {
     "data": {
      "text/plain": [
       "['meta_All_Beauty.json.gz',\n",
       " 'meta_Software.json.gz',\n",
       " 'Software_5.json.gz',\n",
       " 'All_Beauty_5.json.gz']"
      ]
     },
     "execution_count": 3,
     "metadata": {},
     "output_type": "execute_result"
    }
   ],
   "source": [
    "import glob\n",
    "glob.glob(\"*.gz\")"
   ]
  },
  {
   "cell_type": "code",
   "execution_count": 5,
   "metadata": {},
   "outputs": [
    {
     "data": {
      "text/html": [
       "<div>\n",
       "<style scoped>\n",
       "    .dataframe tbody tr th:only-of-type {\n",
       "        vertical-align: middle;\n",
       "    }\n",
       "\n",
       "    .dataframe tbody tr th {\n",
       "        vertical-align: top;\n",
       "    }\n",
       "\n",
       "    .dataframe thead th {\n",
       "        text-align: right;\n",
       "    }\n",
       "</style>\n",
       "<table border=\"1\" class=\"dataframe\">\n",
       "  <thead>\n",
       "    <tr style=\"text-align: right;\">\n",
       "      <th></th>\n",
       "      <th>overall</th>\n",
       "      <th>verified</th>\n",
       "      <th>reviewTime</th>\n",
       "      <th>reviewerID</th>\n",
       "      <th>asin</th>\n",
       "      <th>style</th>\n",
       "      <th>reviewerName</th>\n",
       "      <th>reviewText</th>\n",
       "      <th>summary</th>\n",
       "      <th>unixReviewTime</th>\n",
       "      <th>vote</th>\n",
       "      <th>image</th>\n",
       "    </tr>\n",
       "  </thead>\n",
       "  <tbody>\n",
       "    <tr>\n",
       "      <th>0</th>\n",
       "      <td>4.0</td>\n",
       "      <td>False</td>\n",
       "      <td>10 20, 2010</td>\n",
       "      <td>A38NELQT98S4H8</td>\n",
       "      <td>0321719816</td>\n",
       "      <td>{'Format:': ' DVD-ROM'}</td>\n",
       "      <td>WB Halper</td>\n",
       "      <td>I've been using Dreamweaver (and it's predeces...</td>\n",
       "      <td>A solid overview of Dreamweaver CS5</td>\n",
       "      <td>1287532800</td>\n",
       "      <td>NaN</td>\n",
       "      <td>NaN</td>\n",
       "    </tr>\n",
       "    <tr>\n",
       "      <th>1</th>\n",
       "      <td>4.0</td>\n",
       "      <td>False</td>\n",
       "      <td>10 18, 2010</td>\n",
       "      <td>A3QJU4FEN8PQSZ</td>\n",
       "      <td>0321719816</td>\n",
       "      <td>{'Format:': ' DVD-ROM'}</td>\n",
       "      <td>Grimmy</td>\n",
       "      <td>The demo is done with the PC version, with ref...</td>\n",
       "      <td>A good value</td>\n",
       "      <td>1287360000</td>\n",
       "      <td>NaN</td>\n",
       "      <td>NaN</td>\n",
       "    </tr>\n",
       "    <tr>\n",
       "      <th>2</th>\n",
       "      <td>5.0</td>\n",
       "      <td>False</td>\n",
       "      <td>10 16, 2010</td>\n",
       "      <td>ACJT8MUC0LRF0</td>\n",
       "      <td>0321719816</td>\n",
       "      <td>{'Format:': ' DVD-ROM'}</td>\n",
       "      <td>D. Fowler</td>\n",
       "      <td>If you've been wanting to learn how to create ...</td>\n",
       "      <td>This is excellent software for those who want ...</td>\n",
       "      <td>1287187200</td>\n",
       "      <td>3</td>\n",
       "      <td>NaN</td>\n",
       "    </tr>\n",
       "    <tr>\n",
       "      <th>3</th>\n",
       "      <td>5.0</td>\n",
       "      <td>False</td>\n",
       "      <td>10 12, 2010</td>\n",
       "      <td>AYUF7YETYOLNX</td>\n",
       "      <td>0321719816</td>\n",
       "      <td>{'Format:': ' DVD-ROM'}</td>\n",
       "      <td>Bryan Newman</td>\n",
       "      <td>I've been creating websites with Dreamweaver f...</td>\n",
       "      <td>A Fantastic Overview of Dream Weaver and Web D...</td>\n",
       "      <td>1286841600</td>\n",
       "      <td>NaN</td>\n",
       "      <td>NaN</td>\n",
       "    </tr>\n",
       "    <tr>\n",
       "      <th>4</th>\n",
       "      <td>5.0</td>\n",
       "      <td>False</td>\n",
       "      <td>10 7, 2010</td>\n",
       "      <td>A31ICLWQ9CSHRS</td>\n",
       "      <td>0321719816</td>\n",
       "      <td>{'Format:': ' DVD-ROM'}</td>\n",
       "      <td>Al Swanson</td>\n",
       "      <td>I decided (after trying a number of other prod...</td>\n",
       "      <td>Excellent Tutorials!</td>\n",
       "      <td>1286409600</td>\n",
       "      <td>NaN</td>\n",
       "      <td>NaN</td>\n",
       "    </tr>\n",
       "    <tr>\n",
       "      <th>...</th>\n",
       "      <td>...</td>\n",
       "      <td>...</td>\n",
       "      <td>...</td>\n",
       "      <td>...</td>\n",
       "      <td>...</td>\n",
       "      <td>...</td>\n",
       "      <td>...</td>\n",
       "      <td>...</td>\n",
       "      <td>...</td>\n",
       "      <td>...</td>\n",
       "      <td>...</td>\n",
       "      <td>...</td>\n",
       "    </tr>\n",
       "    <tr>\n",
       "      <th>12800</th>\n",
       "      <td>4.0</td>\n",
       "      <td>False</td>\n",
       "      <td>07 16, 2016</td>\n",
       "      <td>A1E50L7PCVXLN4</td>\n",
       "      <td>B01FFVDY9M</td>\n",
       "      <td>{'Platform:': ' Key Card'}</td>\n",
       "      <td>Colinda</td>\n",
       "      <td>When I ordered this it was listed as Photo Edi...</td>\n",
       "      <td>File Management Software with Basic Editing Ca...</td>\n",
       "      <td>1468627200</td>\n",
       "      <td>NaN</td>\n",
       "      <td>NaN</td>\n",
       "    </tr>\n",
       "    <tr>\n",
       "      <th>12801</th>\n",
       "      <td>3.0</td>\n",
       "      <td>False</td>\n",
       "      <td>06 17, 2017</td>\n",
       "      <td>AVU1ILDDYW301</td>\n",
       "      <td>B01HAP3NUG</td>\n",
       "      <td>NaN</td>\n",
       "      <td>G. Hearn</td>\n",
       "      <td>This software has SO much going on.  Theres a ...</td>\n",
       "      <td>Might not be for the \"novice\"</td>\n",
       "      <td>1497657600</td>\n",
       "      <td>NaN</td>\n",
       "      <td>NaN</td>\n",
       "    </tr>\n",
       "    <tr>\n",
       "      <th>12802</th>\n",
       "      <td>4.0</td>\n",
       "      <td>False</td>\n",
       "      <td>01 24, 2017</td>\n",
       "      <td>A2LW5AL0KQ9P1M</td>\n",
       "      <td>B01HAP3NUG</td>\n",
       "      <td>NaN</td>\n",
       "      <td>Dr. E</td>\n",
       "      <td>I have used both more complex and less complex...</td>\n",
       "      <td>Great, Inexpensive Software for Those Who Have...</td>\n",
       "      <td>1485216000</td>\n",
       "      <td>NaN</td>\n",
       "      <td>NaN</td>\n",
       "    </tr>\n",
       "    <tr>\n",
       "      <th>12803</th>\n",
       "      <td>3.0</td>\n",
       "      <td>False</td>\n",
       "      <td>06 14, 2018</td>\n",
       "      <td>AZ515FFZ7I2P7</td>\n",
       "      <td>B01HAP47PQ</td>\n",
       "      <td>{'Platform:': ' PC Disc'}</td>\n",
       "      <td>Jerry Jackson Jr.</td>\n",
       "      <td>Pinnacle Studio 20 Ultimate is a perfectly ser...</td>\n",
       "      <td>Gets the job done ... but not as easy as it sh...</td>\n",
       "      <td>1528934400</td>\n",
       "      <td>NaN</td>\n",
       "      <td>NaN</td>\n",
       "    </tr>\n",
       "    <tr>\n",
       "      <th>12804</th>\n",
       "      <td>4.0</td>\n",
       "      <td>False</td>\n",
       "      <td>04 16, 2018</td>\n",
       "      <td>A2WPL6Y08K6ZQH</td>\n",
       "      <td>B01HAP47PQ</td>\n",
       "      <td>{'Platform:': ' PC Disc'}</td>\n",
       "      <td>Narut Ujnat</td>\n",
       "      <td>A program that is fairly easy to use and provi...</td>\n",
       "      <td>Good overall program.</td>\n",
       "      <td>1523836800</td>\n",
       "      <td>NaN</td>\n",
       "      <td>NaN</td>\n",
       "    </tr>\n",
       "  </tbody>\n",
       "</table>\n",
       "<p>12805 rows × 12 columns</p>\n",
       "</div>"
      ],
      "text/plain": [
       "       overall  verified   reviewTime      reviewerID        asin  \\\n",
       "0          4.0     False  10 20, 2010  A38NELQT98S4H8  0321719816   \n",
       "1          4.0     False  10 18, 2010  A3QJU4FEN8PQSZ  0321719816   \n",
       "2          5.0     False  10 16, 2010   ACJT8MUC0LRF0  0321719816   \n",
       "3          5.0     False  10 12, 2010   AYUF7YETYOLNX  0321719816   \n",
       "4          5.0     False   10 7, 2010  A31ICLWQ9CSHRS  0321719816   \n",
       "...        ...       ...          ...             ...         ...   \n",
       "12800      4.0     False  07 16, 2016  A1E50L7PCVXLN4  B01FFVDY9M   \n",
       "12801      3.0     False  06 17, 2017   AVU1ILDDYW301  B01HAP3NUG   \n",
       "12802      4.0     False  01 24, 2017  A2LW5AL0KQ9P1M  B01HAP3NUG   \n",
       "12803      3.0     False  06 14, 2018   AZ515FFZ7I2P7  B01HAP47PQ   \n",
       "12804      4.0     False  04 16, 2018  A2WPL6Y08K6ZQH  B01HAP47PQ   \n",
       "\n",
       "                            style       reviewerName  \\\n",
       "0         {'Format:': ' DVD-ROM'}          WB Halper   \n",
       "1         {'Format:': ' DVD-ROM'}             Grimmy   \n",
       "2         {'Format:': ' DVD-ROM'}          D. Fowler   \n",
       "3         {'Format:': ' DVD-ROM'}       Bryan Newman   \n",
       "4         {'Format:': ' DVD-ROM'}         Al Swanson   \n",
       "...                           ...                ...   \n",
       "12800  {'Platform:': ' Key Card'}            Colinda   \n",
       "12801                         NaN           G. Hearn   \n",
       "12802                         NaN              Dr. E   \n",
       "12803   {'Platform:': ' PC Disc'}  Jerry Jackson Jr.   \n",
       "12804   {'Platform:': ' PC Disc'}        Narut Ujnat   \n",
       "\n",
       "                                              reviewText  \\\n",
       "0      I've been using Dreamweaver (and it's predeces...   \n",
       "1      The demo is done with the PC version, with ref...   \n",
       "2      If you've been wanting to learn how to create ...   \n",
       "3      I've been creating websites with Dreamweaver f...   \n",
       "4      I decided (after trying a number of other prod...   \n",
       "...                                                  ...   \n",
       "12800  When I ordered this it was listed as Photo Edi...   \n",
       "12801  This software has SO much going on.  Theres a ...   \n",
       "12802  I have used both more complex and less complex...   \n",
       "12803  Pinnacle Studio 20 Ultimate is a perfectly ser...   \n",
       "12804  A program that is fairly easy to use and provi...   \n",
       "\n",
       "                                                 summary  unixReviewTime vote  \\\n",
       "0                    A solid overview of Dreamweaver CS5      1287532800  NaN   \n",
       "1                                           A good value      1287360000  NaN   \n",
       "2      This is excellent software for those who want ...      1287187200    3   \n",
       "3      A Fantastic Overview of Dream Weaver and Web D...      1286841600  NaN   \n",
       "4                                   Excellent Tutorials!      1286409600  NaN   \n",
       "...                                                  ...             ...  ...   \n",
       "12800  File Management Software with Basic Editing Ca...      1468627200  NaN   \n",
       "12801                      Might not be for the \"novice\"      1497657600  NaN   \n",
       "12802  Great, Inexpensive Software for Those Who Have...      1485216000  NaN   \n",
       "12803  Gets the job done ... but not as easy as it sh...      1528934400  NaN   \n",
       "12804                              Good overall program.      1523836800  NaN   \n",
       "\n",
       "      image  \n",
       "0       NaN  \n",
       "1       NaN  \n",
       "2       NaN  \n",
       "3       NaN  \n",
       "4       NaN  \n",
       "...     ...  \n",
       "12800   NaN  \n",
       "12801   NaN  \n",
       "12802   NaN  \n",
       "12803   NaN  \n",
       "12804   NaN  \n",
       "\n",
       "[12805 rows x 12 columns]"
      ]
     },
     "execution_count": 5,
     "metadata": {},
     "output_type": "execute_result"
    }
   ],
   "source": [
    "def parse(path):\n",
    "  g = gzip.open(path, 'rb')\n",
    "  for l in g:\n",
    "    yield json.loads(l)\n",
    "\n",
    "def getDF(path):\n",
    "  i = 0\n",
    "  df = {}\n",
    "  for d in parse(path):\n",
    "    df[i] = d\n",
    "    i += 1\n",
    "  return pd.DataFrame.from_dict(df, orient='index')\n",
    "\n",
    "df = getDF('Software_5.json.gz')\n",
    "df"
   ]
  },
  {
   "cell_type": "markdown",
   "metadata": {},
   "source": [
    "## Exercise 2\n",
    "Clean the dataset from missing ratings and duplicates (cases where the same user has rated the same item multiple times) if any. How many observations does the cleaned dataset have?"
   ]
  },
  {
   "cell_type": "code",
   "execution_count": 7,
   "metadata": {},
   "outputs": [
    {
     "name": "stdout",
     "output_type": "stream",
     "text": [
      "11884\n",
      "11884\n"
     ]
    }
   ],
   "source": [
    "df = df[df[\"overall\"].notnull()]\n",
    "print(len(df))\n",
    "df = df.sort_values([\"reviewerID\", \"asin\", 'unixReviewTime']).drop_duplicates(subset=[\"reviewerID\", \"asin\"], keep=\"last\")\n",
    "print(len(df))\n"
   ]
  },
  {
   "cell_type": "markdown",
   "metadata": {},
   "source": [
    "## Exercise 3\n",
    "Create a test set by extracting the latest (in time) positively rated item (rating $\\geq 4$) by each user. Remove users that do not appear in the training set. How many observations does the training and test set have?"
   ]
  },
  {
   "cell_type": "code",
   "execution_count": 8,
   "metadata": {},
   "outputs": [
    {
     "data": {
      "text/plain": [
       "1713"
      ]
     },
     "execution_count": 8,
     "metadata": {},
     "output_type": "execute_result"
    }
   ],
   "source": [
    "test = df[df[\"overall\"] >= 4].sort_values(\"unixReviewTime\").drop_duplicates(subset=[\"reviewerID\"], keep=\"last\")\n",
    "len(test)"
   ]
  },
  {
   "cell_type": "code",
   "execution_count": 9,
   "metadata": {},
   "outputs": [
    {
     "data": {
      "text/plain": [
       "(10171, 1711)"
      ]
     },
     "execution_count": 9,
     "metadata": {},
     "output_type": "execute_result"
    }
   ],
   "source": [
    "train = df.drop(labels=test.index)\n",
    "test = test.loc[test[\"reviewerID\"].isin(train[\"reviewerID\"])]\n",
    "len(train), len(test)"
   ]
  },
  {
   "cell_type": "code",
   "execution_count": 55,
   "metadata": {},
   "outputs": [],
   "source": [
    "# # idx = dff.groupby(['reviewerID'])['unixReviewTime'].transform(max) == dff['unixReviewTime']\n",
    "# idx = df4.groupby(by='reviewerID')['unixReviewTime'].idxmax()\n",
    "# train = df.drop(labels=idx)\n",
    "\n",
    "\n",
    "# test = df4.loc[idx]\n",
    "# test = test.loc[test[\"reviewerID\"].isin(train[\"reviewerID\"])]\n",
    "\n",
    "# len(train), len(test)"
   ]
  },
  {
   "cell_type": "code",
   "execution_count": 56,
   "metadata": {},
   "outputs": [],
   "source": [
    "# last_reviewed = df4.sort_values('unixReviewTime').drop_duplicates(['reviewerID'])\n",
    "\n",
    "# train = df.drop(last_reviewed.index)\n",
    "# test = last_reviewed.loc[last_reviewed[\"reviewerID\"].isin(train[\"reviewerID\"].unique())]\n",
    "# len(train), len(test)"
   ]
  },
  {
   "cell_type": "code",
   "execution_count": 57,
   "metadata": {},
   "outputs": [],
   "source": [
    "train.to_pickle(\"train.pkl\")\n",
    "test.to_pickle(\"test.pkl\")"
   ]
  },
  {
   "cell_type": "markdown",
   "metadata": {},
   "source": [
    "## Exercise 4\n",
    "### 4.1\n",
    "Compute the number of ratings per user in the training set. What is the summary statistics of the number of ratings, and how does a histogram look like? <br>\n",
    "Reflect on how a collaborative filtering and a content-based recommender system, respectively, will perform for users with few ratings."
   ]
  },
  {
   "cell_type": "code",
   "execution_count": 58,
   "metadata": {},
   "outputs": [
    {
     "data": {
      "text/plain": [
       "count    981.000000\n",
       "mean       3.193680\n",
       "std        0.610454\n",
       "min        1.000000\n",
       "25%        3.000000\n",
       "50%        3.000000\n",
       "75%        3.000000\n",
       "max        9.000000\n",
       "dtype: float64"
      ]
     },
     "execution_count": 58,
     "metadata": {},
     "output_type": "execute_result"
    },
    {
     "data": {
      "image/png": "[encoded data removed]",
      "text/plain": [
       "<Figure size 432x288 with 1 Axes>"
      ]
     },
     "metadata": {
      "needs_background": "light"
     },
     "output_type": "display_data"
    }
   ],
   "source": [
    "sizes = train.groupby(by=\"reviewerID\").size()\n",
    "plt.hist(sizes); sizes.describe()"
   ]
  },
  {
   "cell_type": "markdown",
   "metadata": {},
   "source": [
    "### 4.2\n",
    "Compute the number of ratings per item in the training set. How does a barplot of the number of ratings ordered by decreasing frequency look like? <br>\n",
    "Reflect on how it will affect the prediction process of a recommender system if only a small fraction of the items are rated frequently. <br>\n",
    "<br>\n",
    "Repeat this exercise on the test set and reflect on how the evaluation of a recommender system can be affected by popular items."
   ]
  },
  {
   "cell_type": "code",
   "execution_count": 59,
   "metadata": {},
   "outputs": [
    {
     "data": {
      "text/plain": [
       "41.77333333333333"
      ]
     },
     "execution_count": 59,
     "metadata": {},
     "output_type": "execute_result"
    },
    {
     "data": {
      "image/png": "[encoded data removed]",
      "text/plain": [
       "<Figure size 432x288 with 1 Axes>"
      ]
     },
     "metadata": {
      "needs_background": "light"
     },
     "output_type": "display_data"
    }
   ],
   "source": [
    "sizes = train.groupby(by=\"asin\").size()\n",
    "plt.bar(np.arange(len(sizes)), np.sort(sizes)[::-1]); sizes.mean()"
   ]
  },
  {
   "cell_type": "code",
   "execution_count": 60,
   "metadata": {},
   "outputs": [
    {
     "data": {
      "text/plain": [
       "18.98"
      ]
     },
     "execution_count": 60,
     "metadata": {},
     "output_type": "execute_result"
    },
    {
     "data": {
      "image/png": "[encoded data removed]",
      "text/plain": [
       "<Figure size 432x288 with 1 Axes>"
      ]
     },
     "metadata": {
      "needs_background": "light"
     },
     "output_type": "display_data"
    }
   ],
   "source": [
    "sizes = test.groupby(by=\"asin\").size()\n",
    "plt.bar(np.arange(len(sizes)), np.sort(sizes)[::-1]); sizes.mean()"
   ]
  },
  {
   "cell_type": "markdown",
   "metadata": {},
   "source": [
    "### 4.3\n",
    "Compute the mean rating per user in the training set. What is the summary statistics of the rating means, and how does a histogram look like? <br>\n",
    "Reflect on how a recommender system can take into account if different users rate on different \"scales\" (e.i. a rating of $3$ may be high for one user while low for another).<br>\n",
    "<br>\n",
    "Repeat this exercise with mean rating per item."
   ]
  },
  {
   "cell_type": "code",
   "execution_count": 61,
   "metadata": {},
   "outputs": [
    {
     "data": {
      "text/plain": [
       "count    981.000000\n",
       "mean       4.767839\n",
       "std        0.720012\n",
       "min        1.000000\n",
       "25%        5.000000\n",
       "50%        5.000000\n",
       "75%        5.000000\n",
       "max        5.000000\n",
       "Name: overall, dtype: float64"
      ]
     },
     "execution_count": 61,
     "metadata": {},
     "output_type": "execute_result"
    },
    {
     "data": {
      "image/png": "[encoded data removed]",
      "text/plain": [
       "<Figure size 432x288 with 1 Axes>"
      ]
     },
     "metadata": {
      "needs_background": "light"
     },
     "output_type": "display_data"
    }
   ],
   "source": [
    "ratings = train.groupby(by=[\"reviewerID\"])[\"overall\"].mean()\n",
    "plt.hist(ratings)\n",
    "ratings.describe()"
   ]
  },
  {
   "cell_type": "code",
   "execution_count": 62,
   "metadata": {},
   "outputs": [
    {
     "data": {
      "text/plain": [
       "count    75.000000\n",
       "mean      4.243027\n",
       "std       0.896124\n",
       "min       1.000000\n",
       "25%       3.840517\n",
       "50%       4.583333\n",
       "75%       4.962541\n",
       "max       5.000000\n",
       "Name: overall, dtype: float64"
      ]
     },
     "execution_count": 62,
     "metadata": {},
     "output_type": "execute_result"
    },
    {
     "data": {
      "image/png": "[encoded data removed]",
      "text/plain": [
       "<Figure size 432x288 with 1 Axes>"
      ]
     },
     "metadata": {
      "needs_background": "light"
     },
     "output_type": "display_data"
    }
   ],
   "source": [
    "ratings = train.groupby(by=[\"asin\"])[\"overall\"].mean()\n",
    "plt.hist(ratings); ratings.describe()"
   ]
  },
  {
   "cell_type": "code",
   "execution_count": null,
   "metadata": {},
   "outputs": [],
   "source": []
  },
  {
   "cell_type": "code",
   "execution_count": null,
   "metadata": {},
   "outputs": [],
   "source": []
  }
 ],
 "metadata": {
  "kernelspec": {
   "display_name": "Python 3 (ipykernel)",
   "language": "python",
   "name": "python3"
  },
  "language_info": {
   "codemirror_mode": {
    "name": "ipython",
    "version": 3
   },
   "file_extension": ".py",
   "mimetype": "text/x-python",
   "name": "python",
   "nbconvert_exporter": "python",
   "pygments_lexer": "ipython3",
   "version": "3.10.1"
  }
 },
 "nbformat": 4,
 "nbformat_minor": 2
}
