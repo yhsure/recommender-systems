{
 "cells": [
  {
   "cell_type": "markdown",
   "id": "ae6011ca",
   "metadata": {},
   "source": [
    "# Content-based recommendation"
   ]
  },
  {
   "cell_type": "markdown",
   "id": "4a455b8a",
   "metadata": {},
   "source": [
    "## Make item predictions based on user and item profile in vector space"
   ]
  },
  {
   "cell_type": "code",
   "execution_count": 2,
   "id": "f357dcaf",
   "metadata": {},
   "outputs": [
    {
     "data": {
      "text/plain": [
       "(801, 949)"
      ]
     },
     "execution_count": 2,
     "metadata": {},
     "output_type": "execute_result"
    }
   ],
   "source": [
    "import pickle\n",
    "import pandas as pd\n",
    "import numpy as np\n",
    "\n",
    "item_profiles = pd.read_pickle(\"files/asin_tfidf3.pkl\")\n",
    "# i1 = item_profiles.iloc[:,:-303] # TFIDF\n",
    "# i2 = item_profiles.iloc[:,-300:] # Word2Vec\n",
    " \n",
    "\n",
    "train = pd.read_pickle(\"files/train.pkl\")\n",
    "train = train[[\"overall\", \"reviewerID\", \"asin\"]]\n",
    "\n",
    "df_test = pd.read_pickle(\"files/testset.pkl\")[[\"reviewerID\", \"asin\", \"overall\"]]\n",
    "df_test = df_test.rename(columns={\"reviewerID\": \"uid\", \"asin\": \"iid\"})\n",
    "\n",
    "currentI = item_profiles \n",
    "currentI.shape"
   ]
  },
  {
   "cell_type": "code",
   "execution_count": 3,
   "id": "8774abbe",
   "metadata": {
    "scrolled": false
   },
   "outputs": [],
   "source": [
    "def mergeItemVectors(train, item_profiles):\n",
    "    full = train.merge(item_profiles, on=\"asin\", how=\"left\").dropna()\n",
    "    mask = ~full.columns.isin([\"overall\", \"reviewerID\", \"asin\"])\n",
    "    full.loc[:, mask]  = full.loc[:, mask].mul(full[\"overall\"], axis=0)\n",
    "    \n",
    "    mask2 = ~full.columns.isin([\"overall\", \"asin\"])\n",
    "    full = full.loc[:, mask2].groupby(\"reviewerID\").mean()\n",
    "    return full \n",
    "\n",
    "full = mergeItemVectors(train, currentI)\n",
    "full.to_pickle(\"files/user_profiles.pkl\")\n"
   ]
  },
  {
   "cell_type": "code",
   "execution_count": 4,
   "id": "applied-ladder",
   "metadata": {},
   "outputs": [
    {
     "data": {
      "text/html": [
       "<div>\n",
       "<style scoped>\n",
       "    .dataframe tbody tr th:only-of-type {\n",
       "        vertical-align: middle;\n",
       "    }\n",
       "\n",
       "    .dataframe tbody tr th {\n",
       "        vertical-align: top;\n",
       "    }\n",
       "\n",
       "    .dataframe thead th {\n",
       "        text-align: right;\n",
       "    }\n",
       "</style>\n",
       "<table border=\"1\" class=\"dataframe\">\n",
       "  <thead>\n",
       "    <tr style=\"text-align: right;\">\n",
       "      <th></th>\n",
       "      <th>iid</th>\n",
       "      <th>score</th>\n",
       "      <th>uid</th>\n",
       "    </tr>\n",
       "  </thead>\n",
       "  <tbody>\n",
       "    <tr>\n",
       "      <th>0</th>\n",
       "      <td>0321700945</td>\n",
       "      <td>0.209099</td>\n",
       "      <td>A2OL5WLCNZVD9K</td>\n",
       "    </tr>\n",
       "    <tr>\n",
       "      <th>1</th>\n",
       "      <td>0321719816</td>\n",
       "      <td>0.199832</td>\n",
       "      <td>A2OL5WLCNZVD9K</td>\n",
       "    </tr>\n",
       "    <tr>\n",
       "      <th>2</th>\n",
       "      <td>0321719824</td>\n",
       "      <td>0.225583</td>\n",
       "      <td>A2OL5WLCNZVD9K</td>\n",
       "    </tr>\n",
       "    <tr>\n",
       "      <th>3</th>\n",
       "      <td>0763855553</td>\n",
       "      <td>0.291439</td>\n",
       "      <td>A2OL5WLCNZVD9K</td>\n",
       "    </tr>\n",
       "    <tr>\n",
       "      <th>4</th>\n",
       "      <td>0982697813</td>\n",
       "      <td>0.276935</td>\n",
       "      <td>A2OL5WLCNZVD9K</td>\n",
       "    </tr>\n",
       "    <tr>\n",
       "      <th>...</th>\n",
       "      <td>...</td>\n",
       "      <td>...</td>\n",
       "      <td>...</td>\n",
       "    </tr>\n",
       "    <tr>\n",
       "      <th>1360952</th>\n",
       "      <td>B01F7RJHIQ</td>\n",
       "      <td>0.435724</td>\n",
       "      <td>A10EIJM2C94M14</td>\n",
       "    </tr>\n",
       "    <tr>\n",
       "      <th>1360953</th>\n",
       "      <td>B01FFVDY9M</td>\n",
       "      <td>0.493548</td>\n",
       "      <td>A10EIJM2C94M14</td>\n",
       "    </tr>\n",
       "    <tr>\n",
       "      <th>1360954</th>\n",
       "      <td>B01H39M7ME</td>\n",
       "      <td>0.509866</td>\n",
       "      <td>A10EIJM2C94M14</td>\n",
       "    </tr>\n",
       "    <tr>\n",
       "      <th>1360955</th>\n",
       "      <td>B01HAP47PQ</td>\n",
       "      <td>0.333174</td>\n",
       "      <td>A10EIJM2C94M14</td>\n",
       "    </tr>\n",
       "    <tr>\n",
       "      <th>1360956</th>\n",
       "      <td>B01HAP3NUG</td>\n",
       "      <td>0.308650</td>\n",
       "      <td>A10EIJM2C94M14</td>\n",
       "    </tr>\n",
       "  </tbody>\n",
       "</table>\n",
       "<p>1360957 rows × 3 columns</p>\n",
       "</div>"
      ],
      "text/plain": [
       "                iid     score             uid\n",
       "0        0321700945  0.209099  A2OL5WLCNZVD9K\n",
       "1        0321719816  0.199832  A2OL5WLCNZVD9K\n",
       "2        0321719824  0.225583  A2OL5WLCNZVD9K\n",
       "3        0763855553  0.291439  A2OL5WLCNZVD9K\n",
       "4        0982697813  0.276935  A2OL5WLCNZVD9K\n",
       "...             ...       ...             ...\n",
       "1360952  B01F7RJHIQ  0.435724  A10EIJM2C94M14\n",
       "1360953  B01FFVDY9M  0.493548  A10EIJM2C94M14\n",
       "1360954  B01H39M7ME  0.509866  A10EIJM2C94M14\n",
       "1360955  B01HAP47PQ  0.333174  A10EIJM2C94M14\n",
       "1360956  B01HAP3NUG  0.308650  A10EIJM2C94M14\n",
       "\n",
       "[1360957 rows x 3 columns]"
      ]
     },
     "execution_count": 4,
     "metadata": {},
     "output_type": "execute_result"
    }
   ],
   "source": [
    "from sklearn.metrics.pairwise import cosine_similarity\n",
    "\n",
    "pred_list = []\n",
    "\n",
    "for u in set(df_test[\"uid\"]): \n",
    "    items = currentI.copy()\n",
    "    items[\"sim\"] = cosine_similarity(items, full[full.index == u])\n",
    "    items = items.drop(train[train[\"reviewerID\"]==u].asin)\n",
    "    \n",
    "    user_preds = pd.DataFrame(items[\"sim\"].reset_index())\n",
    "    user_preds[\"uid\"] = u \n",
    "    pred_list.append(user_preds)\n",
    "    \n",
    "preds = pd.concat(pred_list).reset_index(drop=True)\n",
    "preds = preds.rename(columns={\"asin\": \"iid\", \"sim\": \"score\"})\n",
    "preds.to_pickle(\"files/preds_content.pkl\")\n",
    "preds"
   ]
  },
  {
   "cell_type": "markdown",
   "id": "599f2bbe",
   "metadata": {},
   "source": [
    "## Performance metrics\n",
    "\n"
   ]
  },
  {
   "cell_type": "code",
   "execution_count": 7,
   "id": "union-thermal",
   "metadata": {},
   "outputs": [
    {
     "name": "stdout",
     "output_type": "stream",
     "text": [
      "  P@ 5 = 0.0309\n",
      "MAP@ 5 = 0.0779\n",
      "MRR@ 5 = 0.0779\n",
      " HR@ 5 = 0.1543\n",
      "\n",
      "  P@15 = 0.0153\n",
      "MAP@15 = 0.0863\n",
      "MRR@15 = 0.0863\n",
      " HR@15 = 0.2297\n",
      "\n"
     ]
    }
   ],
   "source": [
    "# commonly used functions (see metrics.py)\n",
    "from metrics import PatK, MAPatK, MRRatK, HRatK\n",
    "\n",
    "ks = [5, 15]\n",
    "\n",
    "for k in ks:\n",
    "    P   = PatK(preds, df_test, k)  \n",
    "    MAP = MAPatK(preds, df_test, k)\n",
    "    MRR = MRRatK(preds, df_test, k)\n",
    "    HR = HRatK(preds, df_test, k)\n",
    "    print(f\"  P@{k:2g} = {P  :.4f}\")\n",
    "    print(f\"MAP@{k:2g} = {MAP:.4f}\")\n",
    "    print(f\"MRR@{k:2g} = {MRR:.4f}\")\n",
    "    print(f\" HR@{k:2g} = {HR :.4f}\\n\")\n"
   ]
  },
  {
   "cell_type": "code",
   "execution_count": null,
   "id": "understood-appreciation",
   "metadata": {},
   "outputs": [],
   "source": []
  }
 ],
 "metadata": {
  "kernelspec": {
   "display_name": "Python 3",
   "language": "python",
   "name": "python3"
  },
  "language_info": {
   "codemirror_mode": {
    "name": "ipython",
    "version": 3
   },
   "file_extension": ".py",
   "mimetype": "text/x-python",
   "name": "python",
   "nbconvert_exporter": "python",
   "pygments_lexer": "ipython3",
   "version": "3.8.7"
  }
 },
 "nbformat": 4,
 "nbformat_minor": 5
}
