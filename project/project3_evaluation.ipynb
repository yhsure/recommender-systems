{
 "cells": [
  {
   "cell_type": "markdown",
   "id": "3d23701c",
   "metadata": {},
   "source": [
    "# Evaluation of Recommender Systems"
   ]
  },
  {
   "cell_type": "markdown",
   "id": "dcface96",
   "metadata": {},
   "source": [
    "Based on the same dataset used on previous weeks, let us evaluate the Collaborative Filtering (CF) models implemented last week."
   ]
  },
  {
   "cell_type": "markdown",
   "id": "55f5b50d",
   "metadata": {},
   "source": [
    "## Exercise 1\n",
    "\n",
    "1. Load the test set and the predictions made with both Collaborative Filtering models in the previous session. \n",
    "2. Detect those users which are in the training set but not in the test set. Remove their predictions before evaluating the systems.\n",
    "3. Report the Root Mean Square Error (RMSE) for both CF models defined in the previous session."
   ]
  },
  {
   "cell_type": "code",
   "execution_count": 1,
   "id": "80cb0dbf",
   "metadata": {},
   "outputs": [],
   "source": [
    "import os\n",
    "import sys\n",
    "sys.path.append('../')\n",
    "import pickle\n",
    "import pandas as pd\n",
    "import numpy as np"
   ]
  },
  {
   "cell_type": "code",
   "execution_count": 2,
   "id": "e73a72a0",
   "metadata": {},
   "outputs": [
    {
     "name": "stdout",
     "output_type": "stream",
     "text": [
      "There are 32 users in the training set that are not in the test set.\n",
      "Lengths before removing preds not in test set: 72404 72404\n",
      "After removing: 70070 70070\n",
      "\n",
      "kNN RMSE: 0.07280920646947436\n",
      "SVD RMSE: 0.06459303590839446\n"
     ]
    }
   ],
   "source": [
    "\n",
    "# TEST\n",
    "df_test = pd.read_pickle(\"testset.pkl\")[[\"reviewerID\", \"asin\", \"overall\"]]\n",
    "df_test = df_test.rename(columns={\"reviewerID\": \"uid\", \"asin\": \"iid\"})\n",
    "\n",
    "# PREDICTIONS\n",
    "nb = pd.read_pickle(\"preds1.pkl\")\n",
    "lf = pd.read_pickle(\"preds2.pkl\")\n",
    "pred_nb_list = list(nb.itertuples(index=False))\n",
    "pred_lf_list = list(lf.itertuples(index=False))\n",
    "\n",
    "\n",
    "# Detect users from training set that are not in test\n",
    "nb_users = set([pred.uid for pred in pred_nb_list])\n",
    "lf_users = set([pred.uid for pred in pred_lf_list])\n",
    "nb_users_in_pred_but_not_in_test = list(nb_users.difference(set(df_test['uid'])))\n",
    "lf_users_in_pred_but_not_in_test = list(lf_users.difference(set(df_test['uid'])))\n",
    "assert nb_users_in_pred_but_not_in_test == lf_users_in_pred_but_not_in_test\n",
    "print(f\"There are {len(lf_users_in_pred_but_not_in_test)} users in the training set that are not in the test set.\")\n",
    "\n",
    "# Remove these users' predictions for evaluation\n",
    "print(\"Lengths before removing preds not in test set:\", len(nb), len(lf))\n",
    "nb = nb[~nb.uid.isin(nb_users_in_pred_but_not_in_test)]\n",
    "lf = lf[~lf.uid.isin(nb_users_in_pred_but_not_in_test)]\n",
    "print(\"After removing:\", len(nb), len(lf))\n",
    "\n",
    "nb_merge = nb.merge(df_test, how=\"inner\", on=[\"uid\", \"iid\"])\n",
    "print(\"\\nkNN RMSE:\", np.sqrt((nb_merge[\"overall\"] - nb_merge[\"est\"])**2).mean())\n",
    "\n",
    "lf_merge = lf.merge(df_test, how=\"inner\", on=[\"uid\", \"iid\"])\n",
    "print(\"SVD RMSE:\", np.sqrt((lf_merge[\"overall\"] - lf_merge[\"est\"])**2).mean())"
   ]
  },
  {
   "cell_type": "markdown",
   "id": "eedf3c25",
   "metadata": {},
   "source": [
    "## Exercise 2\n",
    "Define a general method to get the top-k recommendations for each user. Print the top-k with k={5, 10} recommendations for the user with ID 'ARARUVZ8RUF5T' and its estimated ratings."
   ]
  },
  {
   "cell_type": "code",
   "execution_count": 3,
   "id": "e08574af",
   "metadata": {},
   "outputs": [
    {
     "data": {
      "text/html": [
       "<div>\n",
       "<style scoped>\n",
       "    .dataframe tbody tr th:only-of-type {\n",
       "        vertical-align: middle;\n",
       "    }\n",
       "\n",
       "    .dataframe tbody tr th {\n",
       "        vertical-align: top;\n",
       "    }\n",
       "\n",
       "    .dataframe thead th {\n",
       "        text-align: right;\n",
       "    }\n",
       "</style>\n",
       "<table border=\"1\" class=\"dataframe\">\n",
       "  <thead>\n",
       "    <tr style=\"text-align: right;\">\n",
       "      <th></th>\n",
       "      <th>iid</th>\n",
       "      <th>est</th>\n",
       "    </tr>\n",
       "  </thead>\n",
       "  <tbody>\n",
       "    <tr>\n",
       "      <th>4440</th>\n",
       "      <td>B000WR2HB6</td>\n",
       "      <td>5.000000</td>\n",
       "    </tr>\n",
       "    <tr>\n",
       "      <th>4441</th>\n",
       "      <td>B000VV1YOY</td>\n",
       "      <td>5.000000</td>\n",
       "    </tr>\n",
       "    <tr>\n",
       "      <th>4442</th>\n",
       "      <td>B016V8YWBC</td>\n",
       "      <td>4.777778</td>\n",
       "    </tr>\n",
       "    <tr>\n",
       "      <th>4443</th>\n",
       "      <td>B000GLRREU</td>\n",
       "      <td>4.675000</td>\n",
       "    </tr>\n",
       "    <tr>\n",
       "      <th>4444</th>\n",
       "      <td>B01BNEYGQU</td>\n",
       "      <td>4.600000</td>\n",
       "    </tr>\n",
       "  </tbody>\n",
       "</table>\n",
       "</div>"
      ],
      "text/plain": [
       "             iid       est\n",
       "4440  B000WR2HB6  5.000000\n",
       "4441  B000VV1YOY  5.000000\n",
       "4442  B016V8YWBC  4.777778\n",
       "4443  B000GLRREU  4.675000\n",
       "4444  B01BNEYGQU  4.600000"
      ]
     },
     "execution_count": 3,
     "metadata": {},
     "output_type": "execute_result"
    }
   ],
   "source": [
    "top5nb = nb.groupby(['uid']).apply(lambda x: x.nlargest(5,['est'])).reset_index(drop=True)[[\"uid\", \"iid\", \"est\"]]\n",
    "top5nb[top5nb[\"uid\"]==\"ARARUVZ8RUF5T\"][[\"iid\",\"est\"]]"
   ]
  },
  {
   "cell_type": "code",
   "execution_count": 19,
   "id": "28eacc69",
   "metadata": {},
   "outputs": [
    {
     "data": {
      "text/html": [
       "<div>\n",
       "<style scoped>\n",
       "    .dataframe tbody tr th:only-of-type {\n",
       "        vertical-align: middle;\n",
       "    }\n",
       "\n",
       "    .dataframe tbody tr th {\n",
       "        vertical-align: top;\n",
       "    }\n",
       "\n",
       "    .dataframe thead th {\n",
       "        text-align: right;\n",
       "    }\n",
       "</style>\n",
       "<table border=\"1\" class=\"dataframe\">\n",
       "  <thead>\n",
       "    <tr style=\"text-align: right;\">\n",
       "      <th></th>\n",
       "      <th>uid</th>\n",
       "      <th>iid</th>\n",
       "      <th>est</th>\n",
       "      <th>overall</th>\n",
       "      <th>relevant</th>\n",
       "    </tr>\n",
       "  </thead>\n",
       "  <tbody>\n",
       "    <tr>\n",
       "      <th>0</th>\n",
       "      <td>A105A034ZG9EHO</td>\n",
       "      <td>B000URXP6E</td>\n",
       "      <td>5.0</td>\n",
       "      <td>5.0</td>\n",
       "      <td>1</td>\n",
       "    </tr>\n",
       "    <tr>\n",
       "      <th>1</th>\n",
       "      <td>A105A034ZG9EHO</td>\n",
       "      <td>B00006L9LC</td>\n",
       "      <td>5.0</td>\n",
       "      <td>NaN</td>\n",
       "      <td>0</td>\n",
       "    </tr>\n",
       "    <tr>\n",
       "      <th>2</th>\n",
       "      <td>A105A034ZG9EHO</td>\n",
       "      <td>B001OHV1H4</td>\n",
       "      <td>5.0</td>\n",
       "      <td>NaN</td>\n",
       "      <td>0</td>\n",
       "    </tr>\n",
       "    <tr>\n",
       "      <th>3</th>\n",
       "      <td>A10JB7YPWZGRF4</td>\n",
       "      <td>B000FI4S1E</td>\n",
       "      <td>5.0</td>\n",
       "      <td>5.0</td>\n",
       "      <td>1</td>\n",
       "    </tr>\n",
       "    <tr>\n",
       "      <th>4</th>\n",
       "      <td>A10JB7YPWZGRF4</td>\n",
       "      <td>B00006L9LC</td>\n",
       "      <td>5.0</td>\n",
       "      <td>NaN</td>\n",
       "      <td>0</td>\n",
       "    </tr>\n",
       "    <tr>\n",
       "      <th>...</th>\n",
       "      <td>...</td>\n",
       "      <td>...</td>\n",
       "      <td>...</td>\n",
       "      <td>...</td>\n",
       "      <td>...</td>\n",
       "    </tr>\n",
       "    <tr>\n",
       "      <th>2966</th>\n",
       "      <td>AQ6AGWKWMTY8H</td>\n",
       "      <td>B001E96LUO</td>\n",
       "      <td>NaN</td>\n",
       "      <td>4.0</td>\n",
       "      <td>1</td>\n",
       "    </tr>\n",
       "    <tr>\n",
       "      <th>2967</th>\n",
       "      <td>ARARUVZ8RUF5T</td>\n",
       "      <td>B019FWRG3C</td>\n",
       "      <td>NaN</td>\n",
       "      <td>5.0</td>\n",
       "      <td>1</td>\n",
       "    </tr>\n",
       "    <tr>\n",
       "      <th>2968</th>\n",
       "      <td>AUAC7GPINCR54</td>\n",
       "      <td>B019809F9Y</td>\n",
       "      <td>NaN</td>\n",
       "      <td>5.0</td>\n",
       "      <td>1</td>\n",
       "    </tr>\n",
       "    <tr>\n",
       "      <th>2969</th>\n",
       "      <td>AYNTULRNAIPNY</td>\n",
       "      <td>B0010ZBORW</td>\n",
       "      <td>NaN</td>\n",
       "      <td>4.0</td>\n",
       "      <td>1</td>\n",
       "    </tr>\n",
       "    <tr>\n",
       "      <th>2970</th>\n",
       "      <td>AZ520NWW40I9B</td>\n",
       "      <td>B00QXW95Q4</td>\n",
       "      <td>NaN</td>\n",
       "      <td>5.0</td>\n",
       "      <td>1</td>\n",
       "    </tr>\n",
       "  </tbody>\n",
       "</table>\n",
       "<p>2971 rows × 5 columns</p>\n",
       "</div>"
      ],
      "text/plain": [
       "                 uid         iid  est  overall  relevant\n",
       "0     A105A034ZG9EHO  B000URXP6E  5.0      5.0         1\n",
       "1     A105A034ZG9EHO  B00006L9LC  5.0      NaN         0\n",
       "2     A105A034ZG9EHO  B001OHV1H4  5.0      NaN         0\n",
       "3     A10JB7YPWZGRF4  B000FI4S1E  5.0      5.0         1\n",
       "4     A10JB7YPWZGRF4  B00006L9LC  5.0      NaN         0\n",
       "...              ...         ...  ...      ...       ...\n",
       "2966   AQ6AGWKWMTY8H  B001E96LUO  NaN      4.0         1\n",
       "2967   ARARUVZ8RUF5T  B019FWRG3C  NaN      5.0         1\n",
       "2968   AUAC7GPINCR54  B019809F9Y  NaN      5.0         1\n",
       "2969   AYNTULRNAIPNY  B0010ZBORW  NaN      4.0         1\n",
       "2970   AZ520NWW40I9B  B00QXW95Q4  NaN      5.0         1\n",
       "\n",
       "[2971 rows x 5 columns]"
      ]
     },
     "execution_count": 19,
     "metadata": {},
     "output_type": "execute_result"
    }
   ],
   "source": [
    "\n",
    "topKpreds = preds.groupby(['uid']).apply(lambda x: x.nlargest(3,['est'])).reset_index(drop=True)[[\"uid\", \"iid\", \"est\"]]\n",
    "merged = topKpreds.merge(df_test[[\"uid\", \"iid\", \"overall\"]], how=\"outer\", on=[\"uid\", \"iid\"])\n",
    "merged[\"relevant\"] = (merged[\"overall\"] >= 4) * 1\n",
    "merged\n"
   ]
  },
  {
   "cell_type": "code",
   "execution_count": 44,
   "id": "e9f2f461",
   "metadata": {},
   "outputs": [
    {
     "data": {
      "text/html": [
       "<div>\n",
       "<style scoped>\n",
       "    .dataframe tbody tr th:only-of-type {\n",
       "        vertical-align: middle;\n",
       "    }\n",
       "\n",
       "    .dataframe tbody tr th {\n",
       "        vertical-align: top;\n",
       "    }\n",
       "\n",
       "    .dataframe thead th {\n",
       "        text-align: right;\n",
       "    }\n",
       "</style>\n",
       "<table border=\"1\" class=\"dataframe\">\n",
       "  <thead>\n",
       "    <tr style=\"text-align: right;\">\n",
       "      <th></th>\n",
       "      <th>uid</th>\n",
       "      <th>iid</th>\n",
       "      <th>est</th>\n",
       "    </tr>\n",
       "  </thead>\n",
       "  <tbody>\n",
       "    <tr>\n",
       "      <th>0</th>\n",
       "      <td>A105A034ZG9EHO</td>\n",
       "      <td>B000URXP6E</td>\n",
       "      <td>5.0</td>\n",
       "    </tr>\n",
       "    <tr>\n",
       "      <th>1</th>\n",
       "      <td>A105A034ZG9EHO</td>\n",
       "      <td>B00006L9LC</td>\n",
       "      <td>5.0</td>\n",
       "    </tr>\n",
       "    <tr>\n",
       "      <th>2</th>\n",
       "      <td>A105A034ZG9EHO</td>\n",
       "      <td>B001OHV1H4</td>\n",
       "      <td>5.0</td>\n",
       "    </tr>\n",
       "    <tr>\n",
       "      <th>3</th>\n",
       "      <td>A10JB7YPWZGRF4</td>\n",
       "      <td>B000FI4S1E</td>\n",
       "      <td>5.0</td>\n",
       "    </tr>\n",
       "    <tr>\n",
       "      <th>4</th>\n",
       "      <td>A10JB7YPWZGRF4</td>\n",
       "      <td>B00006L9LC</td>\n",
       "      <td>5.0</td>\n",
       "    </tr>\n",
       "  </tbody>\n",
       "</table>\n",
       "</div>"
      ],
      "text/plain": [
       "              uid         iid  est\n",
       "0  A105A034ZG9EHO  B000URXP6E  5.0\n",
       "1  A105A034ZG9EHO  B00006L9LC  5.0\n",
       "2  A105A034ZG9EHO  B001OHV1H4  5.0\n",
       "3  A10JB7YPWZGRF4  B000FI4S1E  5.0\n",
       "4  A10JB7YPWZGRF4  B00006L9LC  5.0"
      ]
     },
     "execution_count": 44,
     "metadata": {},
     "output_type": "execute_result"
    }
   ],
   "source": [
    "topKpreds[:5]"
   ]
  },
  {
   "cell_type": "code",
   "execution_count": 51,
   "id": "553c4275",
   "metadata": {},
   "outputs": [
    {
     "data": {
      "text/plain": [
       "11.416666666666666"
      ]
     },
     "execution_count": 51,
     "metadata": {},
     "output_type": "execute_result"
    }
   ],
   "source": [
    "1./np.arange(1,k+1) @  topKpreds[:5][\"est\"]#.astype(np.float32)"
   ]
  },
  {
   "cell_type": "code",
   "execution_count": 55,
   "id": "af1b9366",
   "metadata": {},
   "outputs": [
    {
     "data": {
      "text/plain": [
       "array([1.        , 0.5       , 0.33333333, 0.25      , 0.2       ])"
      ]
     },
     "execution_count": 55,
     "metadata": {},
     "output_type": "execute_result"
    }
   ],
   "source": [
    "1./np.arange(1,k+1) "
   ]
  },
  {
   "cell_type": "code",
   "execution_count": 62,
   "id": "50e56d40",
   "metadata": {
    "scrolled": false
   },
   "outputs": [
    {
     "data": {
      "text/plain": [
       "0.2236916051984545"
      ]
     },
     "execution_count": 62,
     "metadata": {},
     "output_type": "execute_result"
    }
   ],
   "source": [
    "k = 5\n",
    "preds = lf\n",
    "\n",
    "topKpreds = preds.groupby(['uid']).apply(lambda x: x.nlargest(k,['est'])).reset_index(drop=True)[[\"uid\", \"iid\", \"est\"]]\n",
    "merged = topKpreds.merge(df_test[[\"uid\", \"iid\", \"overall\"]], how=\"left\", on=[\"uid\", \"iid\"])\n",
    "merged[\"relevant\"] = (merged[\"overall\"] >= 4) * 1 \n",
    "\n",
    "merged[[\"uid\", \"iid\", \"relevant\"]].groupby(by=\"uid\")[\"relevant\"].apply(lambda x: 1./np.arange(1,k+1) @ x ).mean()\n",
    "# merged[[\"uid\", \"iid\", \"relevant\"]].groupby(by=\"uid\")[\"relevant\"].apply(lambda x: np.mean(x)).mean()\n"
   ]
  },
  {
   "cell_type": "code",
   "execution_count": 37,
   "id": "4f5f89fe",
   "metadata": {},
   "outputs": [
    {
     "data": {
      "text/plain": [
       "(0.17618545837723917, 0.05395152792413067)"
      ]
     },
     "execution_count": 37,
     "metadata": {},
     "output_type": "execute_result"
    }
   ],
   "source": [
    "def PatK(preds, df_test, k):\n",
    "    topKpreds = preds.groupby(['uid']).apply(lambda x: x.nlargest(k,['est'])).reset_index(drop=True)[[\"uid\", \"iid\", \"est\"]]\n",
    "    merged = topKpreds.merge(df_test[[\"uid\", \"iid\", \"overall\"]], how=\"left\", on=[\"uid\", \"iid\"])\n",
    "    merged[\"relevant\"] = (merged[\"overall\"] >= 4) * 1\n",
    "    return merged[[\"uid\", \"iid\", \"relevant\"]].groupby(by=\"uid\")[\"relevant\"].mean().mean()\n",
    "PatK(nb, df_test, 5), PatK(lf, df_test, 5), "
   ]
  },
  {
   "cell_type": "code",
   "execution_count": 63,
   "id": "5ae25b3e",
   "metadata": {},
   "outputs": [
    {
     "data": {
      "text/plain": [
       "(0.6114506498068142, 0.2236916051984545)"
      ]
     },
     "execution_count": 63,
     "metadata": {},
     "output_type": "execute_result"
    }
   ],
   "source": [
    "def MAPatK(preds, df_test, k):\n",
    "    topKpreds = preds.groupby(['uid']).apply(lambda x: x.nlargest(k,['est'])).reset_index(drop=True)[[\"uid\", \"iid\", \"est\"]]\n",
    "    merged = topKpreds.merge(df_test[[\"uid\", \"iid\", \"overall\"]], how=\"left\", on=[\"uid\", \"iid\"])\n",
    "    merged[\"relevant\"] = (merged[\"overall\"] >= 4) * 1 \n",
    "    return merged[[\"uid\", \"iid\", \"relevant\"]].groupby(by=\"uid\")[\"relevant\"].apply(lambda x: 1./np.arange(1,k+1) @ x ).mean()\n",
    "MAPatK(nb, df_test, 5), MAPatK(lf, df_test, 5), "
   ]
  },
  {
   "cell_type": "code",
   "execution_count": null,
   "id": "02d28553",
   "metadata": {},
   "outputs": [],
   "source": [
    "def MRRatK(preds, df_test, k):\n",
    "    "
   ]
  },
  {
   "cell_type": "markdown",
   "id": "03325a14",
   "metadata": {},
   "source": [
    "## Excercise 3\n",
    "Report Precision@k (P@k), MAP@k and the MRR@k with k={5, 10, 20} averaged across users for both CF systems. When computing precision, we consider as relevant items those with an observed rating >= 4.0 (i.e., those items from the test set with a rating >= 4.0). Reflect on the differences obtained. "
   ]
  },
  {
   "cell_type": "code",
   "execution_count": null,
   "id": "ff9312e6",
   "metadata": {},
   "outputs": [],
   "source": [
    "df_test[\"reviewerID\"]"
   ]
  },
  {
   "cell_type": "code",
   "execution_count": null,
   "id": "4f5da0ed",
   "metadata": {},
   "outputs": [],
   "source": [
    "df_test.index"
   ]
  },
  {
   "cell_type": "code",
   "execution_count": null,
   "id": "cebddc84",
   "metadata": {},
   "outputs": [],
   "source": [
    "relevant = df_test[df_test[\"overall\"]>=4]"
   ]
  },
  {
   "cell_type": "code",
   "execution_count": null,
   "id": "ccb0b265",
   "metadata": {},
   "outputs": [],
   "source": [
    "uid = nb.uid[500]\n",
    "top5nb[top5nb.uid==uid][\"est\"]\n",
    "df_test[df_test[\"reviewerID\"]==uid][\"asin\"]"
   ]
  },
  {
   "cell_type": "code",
   "execution_count": null,
   "id": "bb26be2b",
   "metadata": {},
   "outputs": [],
   "source": [
    "top5nb = nb.groupby(['uid']).apply(lambda x: x.nlargest(5,['est'])).reset_index(drop=True)\n",
    "# top5nb[\"relevant\"] = \n",
    "top5nb"
   ]
  },
  {
   "cell_type": "code",
   "execution_count": null,
   "id": "71afc3db",
   "metadata": {},
   "outputs": [],
   "source": []
  },
  {
   "cell_type": "markdown",
   "id": "9bf4c50b",
   "metadata": {},
   "source": [
    "## Excercise 4\n",
    "\n",
    "Based on the top-5, top-10 and top-20 predictions from Exercise 2, compute the systems’ hit rate averaged over the total number of users in the test set."
   ]
  },
  {
   "cell_type": "code",
   "execution_count": null,
   "id": "062588c6",
   "metadata": {},
   "outputs": [],
   "source": []
  }
 ],
 "metadata": {
  "kernelspec": {
   "display_name": "Python 3 (ipykernel)",
   "language": "python",
   "name": "python3"
  },
  "language_info": {
   "codemirror_mode": {
    "name": "ipython",
    "version": 3
   },
   "file_extension": ".py",
   "mimetype": "text/x-python",
   "name": "python",
   "nbconvert_exporter": "python",
   "pygments_lexer": "ipython3",
   "version": "3.10.1"
  }
 },
 "nbformat": 4,
 "nbformat_minor": 5
}
